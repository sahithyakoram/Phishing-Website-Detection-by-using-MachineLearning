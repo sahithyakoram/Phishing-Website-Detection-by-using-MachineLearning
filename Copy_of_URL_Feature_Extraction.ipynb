{
  "nbformat": 4,
  "nbformat_minor": 0,
  "metadata": {
    "colab": {
      "provenance": [],
      "authorship_tag": "ABX9TyOqW2LvPluKg7YHyn7bxAuB",
      "include_colab_link": true
    },
    "kernelspec": {
      "name": "python3",
      "display_name": "Python 3"
    },
    "language_info": {
      "name": "python"
    }
  },
  "cells": [
    {
      "cell_type": "markdown",
      "metadata": {
        "id": "view-in-github",
        "colab_type": "text"
      },
      "source": [
        "<a href=\"https://colab.research.google.com/github/sahithyakoram/Phishing-Website-Detection-by-using-MachineLearning/blob/main/Copy_of_URL_Feature_Extraction.ipynb\" target=\"_parent\"><img src=\"https://colab.research.google.com/assets/colab-badge.svg\" alt=\"Open In Colab\"/></a>"
      ]
    },
    {
      "cell_type": "code",
      "execution_count": 2,
      "metadata": {
        "id": "ELuOpZRg5ixp"
      },
      "outputs": [],
      "source": [
        "import pandas as pd"
      ]
    },
    {
      "cell_type": "code",
      "source": [
        "!wget http://data.phishtank.com/data/online-valid.csv"
      ],
      "metadata": {
        "colab": {
          "base_uri": "https://localhost:8080/"
        },
        "id": "eUl04ooq6O57",
        "outputId": "77b50097-4510-4252-f822-4f93cb3f4c33"
      },
      "execution_count": 3,
      "outputs": [
        {
          "output_type": "stream",
          "name": "stdout",
          "text": [
            "--2024-07-04 20:24:56--  http://data.phishtank.com/data/online-valid.csv\n",
            "Resolving data.phishtank.com (data.phishtank.com)... 104.17.243.239, 104.17.244.239, 2606:4700::6811:f3ef, ...\n",
            "Connecting to data.phishtank.com (data.phishtank.com)|104.17.243.239|:80... connected.\n",
            "HTTP request sent, awaiting response... 301 Moved Permanently\n",
            "Location: https://data.phishtank.com/data/online-valid.csv [following]\n",
            "--2024-07-04 20:24:56--  https://data.phishtank.com/data/online-valid.csv\n",
            "Connecting to data.phishtank.com (data.phishtank.com)|104.17.243.239|:443... connected.\n",
            "HTTP request sent, awaiting response... 302 Found\n",
            "Location: https://cdn.phishtank.com/datadumps/verified_online.csv?Expires=1720124706&Signature=B8jUGskgk90ScIXOn43dj6O2A3lRzZns-7wPT6KxCsLa~2bPKTsarn8WW414qTIeXHf8wyuIjrIqo~4wmnZNaqMxr~7DdJDCJMWFJW98UAt-3kUp~F7GXoocal2GbVP4~IkL6JwiPUUAHW5E~OhnLfvIiy0K9N3XpVyvV4AQvuTcOHsPzEp8H7UqNb6OX~lRVd1Aq6pLSnCetsKM2dyBchWMwpX3DzxkhpPe5aAfaD6jfreTPAHSyBUZGlo~SkMZwK8OPPQgQyFRMeI594wzNdxhfh1rWt5U1dyx7WP2LBFcD79RQUb5MPUdl-eOLxZ2GeJtAwwohCe59e6CiOGSAw__&Key-Pair-Id=APKAILB45UG3RB4CSOJA [following]\n",
            "--2024-07-04 20:24:56--  https://cdn.phishtank.com/datadumps/verified_online.csv?Expires=1720124706&Signature=B8jUGskgk90ScIXOn43dj6O2A3lRzZns-7wPT6KxCsLa~2bPKTsarn8WW414qTIeXHf8wyuIjrIqo~4wmnZNaqMxr~7DdJDCJMWFJW98UAt-3kUp~F7GXoocal2GbVP4~IkL6JwiPUUAHW5E~OhnLfvIiy0K9N3XpVyvV4AQvuTcOHsPzEp8H7UqNb6OX~lRVd1Aq6pLSnCetsKM2dyBchWMwpX3DzxkhpPe5aAfaD6jfreTPAHSyBUZGlo~SkMZwK8OPPQgQyFRMeI594wzNdxhfh1rWt5U1dyx7WP2LBFcD79RQUb5MPUdl-eOLxZ2GeJtAwwohCe59e6CiOGSAw__&Key-Pair-Id=APKAILB45UG3RB4CSOJA\n",
            "Resolving cdn.phishtank.com (cdn.phishtank.com)... 104.17.244.239, 104.17.243.239, 2606:4700::6811:f3ef, ...\n",
            "Connecting to cdn.phishtank.com (cdn.phishtank.com)|104.17.244.239|:443... connected.\n",
            "HTTP request sent, awaiting response... 200 OK\n",
            "Length: 12060111 (12M) [text/csv]\n",
            "Saving to: ‘online-valid.csv’\n",
            "\n",
            "online-valid.csv    100%[===================>]  11.50M  --.-KB/s    in 0.1s    \n",
            "\n",
            "2024-07-04 20:24:57 (87.0 MB/s) - ‘online-valid.csv’ saved [12060111/12060111]\n",
            "\n"
          ]
        }
      ]
    },
    {
      "cell_type": "code",
      "source": [
        "df = pd.read_csv(\"/content/online-valid.csv\")\n",
        "df.head()"
      ],
      "metadata": {
        "colab": {
          "base_uri": "https://localhost:8080/",
          "height": 313
        },
        "id": "AiCGnFiD6f27",
        "outputId": "8532f320-1eb8-48ba-d929-b80ecda47118"
      },
      "execution_count": 5,
      "outputs": [
        {
          "output_type": "execute_result",
          "data": {
            "text/plain": [
              "   phish_id                                                url  \\\n",
              "0   8641006                              https://metamask.ren/   \n",
              "1   8641004                     https://netflix-ce970.web.app/   \n",
              "2   8640999  https://pub-2a40e663f49749f1a4b42ce1d5a44458.r...   \n",
              "3   8640997        https://btinternetmailerdeaemon.weebly.com/   \n",
              "4   8640992                     https://attmmailer.weebly.com/   \n",
              "\n",
              "                                    phish_detail_url  \\\n",
              "0  http://www.phishtank.com/phish_detail.php?phis...   \n",
              "1  http://www.phishtank.com/phish_detail.php?phis...   \n",
              "2  http://www.phishtank.com/phish_detail.php?phis...   \n",
              "3  http://www.phishtank.com/phish_detail.php?phis...   \n",
              "4  http://www.phishtank.com/phish_detail.php?phis...   \n",
              "\n",
              "             submission_time verified          verification_time online  \\\n",
              "0  2024-07-04T20:09:52+00:00      yes  2024-07-04T20:13:33+00:00    yes   \n",
              "1  2024-07-04T20:06:09+00:00      yes  2024-07-04T20:13:33+00:00    yes   \n",
              "2  2024-07-04T20:01:19+00:00      yes  2024-07-04T20:04:22+00:00    yes   \n",
              "3  2024-07-04T19:57:50+00:00      yes  2024-07-04T20:04:22+00:00    yes   \n",
              "4  2024-07-04T19:54:01+00:00      yes  2024-07-04T20:04:22+00:00    yes   \n",
              "\n",
              "             target  \n",
              "0             Other  \n",
              "1           Netflix  \n",
              "2  American Express  \n",
              "3   British Telecom  \n",
              "4          AT&amp;T  "
            ],
            "text/html": [
              "\n",
              "  <div id=\"df-27c128f0-028d-4071-9289-c9e29b72fa23\" class=\"colab-df-container\">\n",
              "    <div>\n",
              "<style scoped>\n",
              "    .dataframe tbody tr th:only-of-type {\n",
              "        vertical-align: middle;\n",
              "    }\n",
              "\n",
              "    .dataframe tbody tr th {\n",
              "        vertical-align: top;\n",
              "    }\n",
              "\n",
              "    .dataframe thead th {\n",
              "        text-align: right;\n",
              "    }\n",
              "</style>\n",
              "<table border=\"1\" class=\"dataframe\">\n",
              "  <thead>\n",
              "    <tr style=\"text-align: right;\">\n",
              "      <th></th>\n",
              "      <th>phish_id</th>\n",
              "      <th>url</th>\n",
              "      <th>phish_detail_url</th>\n",
              "      <th>submission_time</th>\n",
              "      <th>verified</th>\n",
              "      <th>verification_time</th>\n",
              "      <th>online</th>\n",
              "      <th>target</th>\n",
              "    </tr>\n",
              "  </thead>\n",
              "  <tbody>\n",
              "    <tr>\n",
              "      <th>0</th>\n",
              "      <td>8641006</td>\n",
              "      <td>https://metamask.ren/</td>\n",
              "      <td>http://www.phishtank.com/phish_detail.php?phis...</td>\n",
              "      <td>2024-07-04T20:09:52+00:00</td>\n",
              "      <td>yes</td>\n",
              "      <td>2024-07-04T20:13:33+00:00</td>\n",
              "      <td>yes</td>\n",
              "      <td>Other</td>\n",
              "    </tr>\n",
              "    <tr>\n",
              "      <th>1</th>\n",
              "      <td>8641004</td>\n",
              "      <td>https://netflix-ce970.web.app/</td>\n",
              "      <td>http://www.phishtank.com/phish_detail.php?phis...</td>\n",
              "      <td>2024-07-04T20:06:09+00:00</td>\n",
              "      <td>yes</td>\n",
              "      <td>2024-07-04T20:13:33+00:00</td>\n",
              "      <td>yes</td>\n",
              "      <td>Netflix</td>\n",
              "    </tr>\n",
              "    <tr>\n",
              "      <th>2</th>\n",
              "      <td>8640999</td>\n",
              "      <td>https://pub-2a40e663f49749f1a4b42ce1d5a44458.r...</td>\n",
              "      <td>http://www.phishtank.com/phish_detail.php?phis...</td>\n",
              "      <td>2024-07-04T20:01:19+00:00</td>\n",
              "      <td>yes</td>\n",
              "      <td>2024-07-04T20:04:22+00:00</td>\n",
              "      <td>yes</td>\n",
              "      <td>American Express</td>\n",
              "    </tr>\n",
              "    <tr>\n",
              "      <th>3</th>\n",
              "      <td>8640997</td>\n",
              "      <td>https://btinternetmailerdeaemon.weebly.com/</td>\n",
              "      <td>http://www.phishtank.com/phish_detail.php?phis...</td>\n",
              "      <td>2024-07-04T19:57:50+00:00</td>\n",
              "      <td>yes</td>\n",
              "      <td>2024-07-04T20:04:22+00:00</td>\n",
              "      <td>yes</td>\n",
              "      <td>British Telecom</td>\n",
              "    </tr>\n",
              "    <tr>\n",
              "      <th>4</th>\n",
              "      <td>8640992</td>\n",
              "      <td>https://attmmailer.weebly.com/</td>\n",
              "      <td>http://www.phishtank.com/phish_detail.php?phis...</td>\n",
              "      <td>2024-07-04T19:54:01+00:00</td>\n",
              "      <td>yes</td>\n",
              "      <td>2024-07-04T20:04:22+00:00</td>\n",
              "      <td>yes</td>\n",
              "      <td>AT&amp;amp;T</td>\n",
              "    </tr>\n",
              "  </tbody>\n",
              "</table>\n",
              "</div>\n",
              "    <div class=\"colab-df-buttons\">\n",
              "\n",
              "  <div class=\"colab-df-container\">\n",
              "    <button class=\"colab-df-convert\" onclick=\"convertToInteractive('df-27c128f0-028d-4071-9289-c9e29b72fa23')\"\n",
              "            title=\"Convert this dataframe to an interactive table.\"\n",
              "            style=\"display:none;\">\n",
              "\n",
              "  <svg xmlns=\"http://www.w3.org/2000/svg\" height=\"24px\" viewBox=\"0 -960 960 960\">\n",
              "    <path d=\"M120-120v-720h720v720H120Zm60-500h600v-160H180v160Zm220 220h160v-160H400v160Zm0 220h160v-160H400v160ZM180-400h160v-160H180v160Zm440 0h160v-160H620v160ZM180-180h160v-160H180v160Zm440 0h160v-160H620v160Z\"/>\n",
              "  </svg>\n",
              "    </button>\n",
              "\n",
              "  <style>\n",
              "    .colab-df-container {\n",
              "      display:flex;\n",
              "      gap: 12px;\n",
              "    }\n",
              "\n",
              "    .colab-df-convert {\n",
              "      background-color: #E8F0FE;\n",
              "      border: none;\n",
              "      border-radius: 50%;\n",
              "      cursor: pointer;\n",
              "      display: none;\n",
              "      fill: #1967D2;\n",
              "      height: 32px;\n",
              "      padding: 0 0 0 0;\n",
              "      width: 32px;\n",
              "    }\n",
              "\n",
              "    .colab-df-convert:hover {\n",
              "      background-color: #E2EBFA;\n",
              "      box-shadow: 0px 1px 2px rgba(60, 64, 67, 0.3), 0px 1px 3px 1px rgba(60, 64, 67, 0.15);\n",
              "      fill: #174EA6;\n",
              "    }\n",
              "\n",
              "    .colab-df-buttons div {\n",
              "      margin-bottom: 4px;\n",
              "    }\n",
              "\n",
              "    [theme=dark] .colab-df-convert {\n",
              "      background-color: #3B4455;\n",
              "      fill: #D2E3FC;\n",
              "    }\n",
              "\n",
              "    [theme=dark] .colab-df-convert:hover {\n",
              "      background-color: #434B5C;\n",
              "      box-shadow: 0px 1px 3px 1px rgba(0, 0, 0, 0.15);\n",
              "      filter: drop-shadow(0px 1px 2px rgba(0, 0, 0, 0.3));\n",
              "      fill: #FFFFFF;\n",
              "    }\n",
              "  </style>\n",
              "\n",
              "    <script>\n",
              "      const buttonEl =\n",
              "        document.querySelector('#df-27c128f0-028d-4071-9289-c9e29b72fa23 button.colab-df-convert');\n",
              "      buttonEl.style.display =\n",
              "        google.colab.kernel.accessAllowed ? 'block' : 'none';\n",
              "\n",
              "      async function convertToInteractive(key) {\n",
              "        const element = document.querySelector('#df-27c128f0-028d-4071-9289-c9e29b72fa23');\n",
              "        const dataTable =\n",
              "          await google.colab.kernel.invokeFunction('convertToInteractive',\n",
              "                                                    [key], {});\n",
              "        if (!dataTable) return;\n",
              "\n",
              "        const docLinkHtml = 'Like what you see? Visit the ' +\n",
              "          '<a target=\"_blank\" href=https://colab.research.google.com/notebooks/data_table.ipynb>data table notebook</a>'\n",
              "          + ' to learn more about interactive tables.';\n",
              "        element.innerHTML = '';\n",
              "        dataTable['output_type'] = 'display_data';\n",
              "        await google.colab.output.renderOutput(dataTable, element);\n",
              "        const docLink = document.createElement('div');\n",
              "        docLink.innerHTML = docLinkHtml;\n",
              "        element.appendChild(docLink);\n",
              "      }\n",
              "    </script>\n",
              "  </div>\n",
              "\n",
              "\n",
              "<div id=\"df-013145ad-87c5-4e53-ba46-216b43c727c2\">\n",
              "  <button class=\"colab-df-quickchart\" onclick=\"quickchart('df-013145ad-87c5-4e53-ba46-216b43c727c2')\"\n",
              "            title=\"Suggest charts\"\n",
              "            style=\"display:none;\">\n",
              "\n",
              "<svg xmlns=\"http://www.w3.org/2000/svg\" height=\"24px\"viewBox=\"0 0 24 24\"\n",
              "     width=\"24px\">\n",
              "    <g>\n",
              "        <path d=\"M19 3H5c-1.1 0-2 .9-2 2v14c0 1.1.9 2 2 2h14c1.1 0 2-.9 2-2V5c0-1.1-.9-2-2-2zM9 17H7v-7h2v7zm4 0h-2V7h2v10zm4 0h-2v-4h2v4z\"/>\n",
              "    </g>\n",
              "</svg>\n",
              "  </button>\n",
              "\n",
              "<style>\n",
              "  .colab-df-quickchart {\n",
              "      --bg-color: #E8F0FE;\n",
              "      --fill-color: #1967D2;\n",
              "      --hover-bg-color: #E2EBFA;\n",
              "      --hover-fill-color: #174EA6;\n",
              "      --disabled-fill-color: #AAA;\n",
              "      --disabled-bg-color: #DDD;\n",
              "  }\n",
              "\n",
              "  [theme=dark] .colab-df-quickchart {\n",
              "      --bg-color: #3B4455;\n",
              "      --fill-color: #D2E3FC;\n",
              "      --hover-bg-color: #434B5C;\n",
              "      --hover-fill-color: #FFFFFF;\n",
              "      --disabled-bg-color: #3B4455;\n",
              "      --disabled-fill-color: #666;\n",
              "  }\n",
              "\n",
              "  .colab-df-quickchart {\n",
              "    background-color: var(--bg-color);\n",
              "    border: none;\n",
              "    border-radius: 50%;\n",
              "    cursor: pointer;\n",
              "    display: none;\n",
              "    fill: var(--fill-color);\n",
              "    height: 32px;\n",
              "    padding: 0;\n",
              "    width: 32px;\n",
              "  }\n",
              "\n",
              "  .colab-df-quickchart:hover {\n",
              "    background-color: var(--hover-bg-color);\n",
              "    box-shadow: 0 1px 2px rgba(60, 64, 67, 0.3), 0 1px 3px 1px rgba(60, 64, 67, 0.15);\n",
              "    fill: var(--button-hover-fill-color);\n",
              "  }\n",
              "\n",
              "  .colab-df-quickchart-complete:disabled,\n",
              "  .colab-df-quickchart-complete:disabled:hover {\n",
              "    background-color: var(--disabled-bg-color);\n",
              "    fill: var(--disabled-fill-color);\n",
              "    box-shadow: none;\n",
              "  }\n",
              "\n",
              "  .colab-df-spinner {\n",
              "    border: 2px solid var(--fill-color);\n",
              "    border-color: transparent;\n",
              "    border-bottom-color: var(--fill-color);\n",
              "    animation:\n",
              "      spin 1s steps(1) infinite;\n",
              "  }\n",
              "\n",
              "  @keyframes spin {\n",
              "    0% {\n",
              "      border-color: transparent;\n",
              "      border-bottom-color: var(--fill-color);\n",
              "      border-left-color: var(--fill-color);\n",
              "    }\n",
              "    20% {\n",
              "      border-color: transparent;\n",
              "      border-left-color: var(--fill-color);\n",
              "      border-top-color: var(--fill-color);\n",
              "    }\n",
              "    30% {\n",
              "      border-color: transparent;\n",
              "      border-left-color: var(--fill-color);\n",
              "      border-top-color: var(--fill-color);\n",
              "      border-right-color: var(--fill-color);\n",
              "    }\n",
              "    40% {\n",
              "      border-color: transparent;\n",
              "      border-right-color: var(--fill-color);\n",
              "      border-top-color: var(--fill-color);\n",
              "    }\n",
              "    60% {\n",
              "      border-color: transparent;\n",
              "      border-right-color: var(--fill-color);\n",
              "    }\n",
              "    80% {\n",
              "      border-color: transparent;\n",
              "      border-right-color: var(--fill-color);\n",
              "      border-bottom-color: var(--fill-color);\n",
              "    }\n",
              "    90% {\n",
              "      border-color: transparent;\n",
              "      border-bottom-color: var(--fill-color);\n",
              "    }\n",
              "  }\n",
              "</style>\n",
              "\n",
              "  <script>\n",
              "    async function quickchart(key) {\n",
              "      const quickchartButtonEl =\n",
              "        document.querySelector('#' + key + ' button');\n",
              "      quickchartButtonEl.disabled = true;  // To prevent multiple clicks.\n",
              "      quickchartButtonEl.classList.add('colab-df-spinner');\n",
              "      try {\n",
              "        const charts = await google.colab.kernel.invokeFunction(\n",
              "            'suggestCharts', [key], {});\n",
              "      } catch (error) {\n",
              "        console.error('Error during call to suggestCharts:', error);\n",
              "      }\n",
              "      quickchartButtonEl.classList.remove('colab-df-spinner');\n",
              "      quickchartButtonEl.classList.add('colab-df-quickchart-complete');\n",
              "    }\n",
              "    (() => {\n",
              "      let quickchartButtonEl =\n",
              "        document.querySelector('#df-013145ad-87c5-4e53-ba46-216b43c727c2 button');\n",
              "      quickchartButtonEl.style.display =\n",
              "        google.colab.kernel.accessAllowed ? 'block' : 'none';\n",
              "    })();\n",
              "  </script>\n",
              "</div>\n",
              "\n",
              "    </div>\n",
              "  </div>\n"
            ],
            "application/vnd.google.colaboratory.intrinsic+json": {
              "type": "dataframe",
              "variable_name": "df",
              "summary": "{\n  \"name\": \"df\",\n  \"rows\": 59762,\n  \"fields\": [\n    {\n      \"column\": \"phish_id\",\n      \"properties\": {\n        \"dtype\": \"number\",\n        \"std\": 256106,\n        \"min\": 1123978,\n        \"max\": 8641006,\n        \"num_unique_values\": 59762,\n        \"samples\": [\n          8605366,\n          8580838,\n          8635698\n        ],\n        \"semantic_type\": \"\",\n        \"description\": \"\"\n      }\n    },\n    {\n      \"column\": \"url\",\n      \"properties\": {\n        \"dtype\": \"string\",\n        \"num_unique_values\": 59760,\n        \"samples\": [\n          \"https://vocaleboite00.wixsite.com/vocaleboite00\",\n          \"http://claim-blockdag.pages.dev/app/\",\n          \"https://amazon.hmdt888.com/\"\n        ],\n        \"semantic_type\": \"\",\n        \"description\": \"\"\n      }\n    },\n    {\n      \"column\": \"phish_detail_url\",\n      \"properties\": {\n        \"dtype\": \"string\",\n        \"num_unique_values\": 59762,\n        \"samples\": [\n          \"http://www.phishtank.com/phish_detail.php?phish_id=8605366\",\n          \"http://www.phishtank.com/phish_detail.php?phish_id=8580838\",\n          \"http://www.phishtank.com/phish_detail.php?phish_id=8635698\"\n        ],\n        \"semantic_type\": \"\",\n        \"description\": \"\"\n      }\n    },\n    {\n      \"column\": \"submission_time\",\n      \"properties\": {\n        \"dtype\": \"object\",\n        \"num_unique_values\": 57624,\n        \"samples\": [\n          \"2023-10-05T21:11:02+00:00\",\n          \"2024-01-26T17:44:40+00:00\",\n          \"2024-07-02T20:14:56+00:00\"\n        ],\n        \"semantic_type\": \"\",\n        \"description\": \"\"\n      }\n    },\n    {\n      \"column\": \"verified\",\n      \"properties\": {\n        \"dtype\": \"category\",\n        \"num_unique_values\": 1,\n        \"samples\": [\n          \"yes\"\n        ],\n        \"semantic_type\": \"\",\n        \"description\": \"\"\n      }\n    },\n    {\n      \"column\": \"verification_time\",\n      \"properties\": {\n        \"dtype\": \"object\",\n        \"num_unique_values\": 18162,\n        \"samples\": [\n          \"2023-12-23T17:33:24+00:00\"\n        ],\n        \"semantic_type\": \"\",\n        \"description\": \"\"\n      }\n    },\n    {\n      \"column\": \"online\",\n      \"properties\": {\n        \"dtype\": \"category\",\n        \"num_unique_values\": 1,\n        \"samples\": [\n          \"yes\"\n        ],\n        \"semantic_type\": \"\",\n        \"description\": \"\"\n      }\n    },\n    {\n      \"column\": \"target\",\n      \"properties\": {\n        \"dtype\": \"category\",\n        \"num_unique_values\": 108,\n        \"samples\": [\n          \"Citibank\"\n        ],\n        \"semantic_type\": \"\",\n        \"description\": \"\"\n      }\n    }\n  ]\n}"
            }
          },
          "metadata": {},
          "execution_count": 5
        }
      ]
    },
    {
      "cell_type": "code",
      "source": [
        "df.shape"
      ],
      "metadata": {
        "colab": {
          "base_uri": "https://localhost:8080/"
        },
        "id": "mwQPPzo66znn",
        "outputId": "423eb6ac-f370-4ce1-bc17-881123038088"
      },
      "execution_count": 6,
      "outputs": [
        {
          "output_type": "execute_result",
          "data": {
            "text/plain": [
              "(59762, 8)"
            ]
          },
          "metadata": {},
          "execution_count": 6
        }
      ]
    },
    {
      "cell_type": "code",
      "source": [
        "phishurl = df.sample(n=5000, random_state=12).copy()\n",
        "phishurl = phishurl.reset_index(drop=True)\n",
        "phishurl.head()"
      ],
      "metadata": {
        "colab": {
          "base_uri": "https://localhost:8080/",
          "height": 293
        },
        "id": "SRhBL-Oh67FK",
        "outputId": "d878f148-4060-4c23-ce57-f99590437f77"
      },
      "execution_count": 7,
      "outputs": [
        {
          "output_type": "execute_result",
          "data": {
            "text/plain": [
              "   phish_id                                                url  \\\n",
              "0   8394229           https://bt-update-108795.weeblysite.com/   \n",
              "1   8635189              https://en--home-bitstamp.webflow.io/   \n",
              "2   8634264                      https://campsite.bio/ehejke33   \n",
              "3   8144686                           https://abrir.link/fDuLD   \n",
              "4   8125553  https://ipfs.best-practice.se/ipfs/bafybeidgnv...   \n",
              "\n",
              "                                    phish_detail_url  \\\n",
              "0  http://www.phishtank.com/phish_detail.php?phis...   \n",
              "1  http://www.phishtank.com/phish_detail.php?phis...   \n",
              "2  http://www.phishtank.com/phish_detail.php?phis...   \n",
              "3  http://www.phishtank.com/phish_detail.php?phis...   \n",
              "4  http://www.phishtank.com/phish_detail.php?phis...   \n",
              "\n",
              "             submission_time verified          verification_time online target  \n",
              "0  2023-12-15T11:11:21+00:00      yes  2023-12-15T11:14:58+00:00    yes  Other  \n",
              "1  2024-06-29T20:03:05+00:00      yes  2024-06-29T20:04:23+00:00    yes  Other  \n",
              "2  2024-06-29T11:31:32+00:00      yes  2024-06-29T11:43:18+00:00    yes  Other  \n",
              "3  2023-05-12T20:36:46+00:00      yes  2023-05-13T06:32:55+00:00    yes  Other  \n",
              "4  2023-04-23T03:44:06+00:00      yes  2023-04-23T03:55:06+00:00    yes  Other  "
            ],
            "text/html": [
              "\n",
              "  <div id=\"df-1db5ff5f-fdd5-40c6-bd5e-3970cecf257d\" class=\"colab-df-container\">\n",
              "    <div>\n",
              "<style scoped>\n",
              "    .dataframe tbody tr th:only-of-type {\n",
              "        vertical-align: middle;\n",
              "    }\n",
              "\n",
              "    .dataframe tbody tr th {\n",
              "        vertical-align: top;\n",
              "    }\n",
              "\n",
              "    .dataframe thead th {\n",
              "        text-align: right;\n",
              "    }\n",
              "</style>\n",
              "<table border=\"1\" class=\"dataframe\">\n",
              "  <thead>\n",
              "    <tr style=\"text-align: right;\">\n",
              "      <th></th>\n",
              "      <th>phish_id</th>\n",
              "      <th>url</th>\n",
              "      <th>phish_detail_url</th>\n",
              "      <th>submission_time</th>\n",
              "      <th>verified</th>\n",
              "      <th>verification_time</th>\n",
              "      <th>online</th>\n",
              "      <th>target</th>\n",
              "    </tr>\n",
              "  </thead>\n",
              "  <tbody>\n",
              "    <tr>\n",
              "      <th>0</th>\n",
              "      <td>8394229</td>\n",
              "      <td>https://bt-update-108795.weeblysite.com/</td>\n",
              "      <td>http://www.phishtank.com/phish_detail.php?phis...</td>\n",
              "      <td>2023-12-15T11:11:21+00:00</td>\n",
              "      <td>yes</td>\n",
              "      <td>2023-12-15T11:14:58+00:00</td>\n",
              "      <td>yes</td>\n",
              "      <td>Other</td>\n",
              "    </tr>\n",
              "    <tr>\n",
              "      <th>1</th>\n",
              "      <td>8635189</td>\n",
              "      <td>https://en--home-bitstamp.webflow.io/</td>\n",
              "      <td>http://www.phishtank.com/phish_detail.php?phis...</td>\n",
              "      <td>2024-06-29T20:03:05+00:00</td>\n",
              "      <td>yes</td>\n",
              "      <td>2024-06-29T20:04:23+00:00</td>\n",
              "      <td>yes</td>\n",
              "      <td>Other</td>\n",
              "    </tr>\n",
              "    <tr>\n",
              "      <th>2</th>\n",
              "      <td>8634264</td>\n",
              "      <td>https://campsite.bio/ehejke33</td>\n",
              "      <td>http://www.phishtank.com/phish_detail.php?phis...</td>\n",
              "      <td>2024-06-29T11:31:32+00:00</td>\n",
              "      <td>yes</td>\n",
              "      <td>2024-06-29T11:43:18+00:00</td>\n",
              "      <td>yes</td>\n",
              "      <td>Other</td>\n",
              "    </tr>\n",
              "    <tr>\n",
              "      <th>3</th>\n",
              "      <td>8144686</td>\n",
              "      <td>https://abrir.link/fDuLD</td>\n",
              "      <td>http://www.phishtank.com/phish_detail.php?phis...</td>\n",
              "      <td>2023-05-12T20:36:46+00:00</td>\n",
              "      <td>yes</td>\n",
              "      <td>2023-05-13T06:32:55+00:00</td>\n",
              "      <td>yes</td>\n",
              "      <td>Other</td>\n",
              "    </tr>\n",
              "    <tr>\n",
              "      <th>4</th>\n",
              "      <td>8125553</td>\n",
              "      <td>https://ipfs.best-practice.se/ipfs/bafybeidgnv...</td>\n",
              "      <td>http://www.phishtank.com/phish_detail.php?phis...</td>\n",
              "      <td>2023-04-23T03:44:06+00:00</td>\n",
              "      <td>yes</td>\n",
              "      <td>2023-04-23T03:55:06+00:00</td>\n",
              "      <td>yes</td>\n",
              "      <td>Other</td>\n",
              "    </tr>\n",
              "  </tbody>\n",
              "</table>\n",
              "</div>\n",
              "    <div class=\"colab-df-buttons\">\n",
              "\n",
              "  <div class=\"colab-df-container\">\n",
              "    <button class=\"colab-df-convert\" onclick=\"convertToInteractive('df-1db5ff5f-fdd5-40c6-bd5e-3970cecf257d')\"\n",
              "            title=\"Convert this dataframe to an interactive table.\"\n",
              "            style=\"display:none;\">\n",
              "\n",
              "  <svg xmlns=\"http://www.w3.org/2000/svg\" height=\"24px\" viewBox=\"0 -960 960 960\">\n",
              "    <path d=\"M120-120v-720h720v720H120Zm60-500h600v-160H180v160Zm220 220h160v-160H400v160Zm0 220h160v-160H400v160ZM180-400h160v-160H180v160Zm440 0h160v-160H620v160ZM180-180h160v-160H180v160Zm440 0h160v-160H620v160Z\"/>\n",
              "  </svg>\n",
              "    </button>\n",
              "\n",
              "  <style>\n",
              "    .colab-df-container {\n",
              "      display:flex;\n",
              "      gap: 12px;\n",
              "    }\n",
              "\n",
              "    .colab-df-convert {\n",
              "      background-color: #E8F0FE;\n",
              "      border: none;\n",
              "      border-radius: 50%;\n",
              "      cursor: pointer;\n",
              "      display: none;\n",
              "      fill: #1967D2;\n",
              "      height: 32px;\n",
              "      padding: 0 0 0 0;\n",
              "      width: 32px;\n",
              "    }\n",
              "\n",
              "    .colab-df-convert:hover {\n",
              "      background-color: #E2EBFA;\n",
              "      box-shadow: 0px 1px 2px rgba(60, 64, 67, 0.3), 0px 1px 3px 1px rgba(60, 64, 67, 0.15);\n",
              "      fill: #174EA6;\n",
              "    }\n",
              "\n",
              "    .colab-df-buttons div {\n",
              "      margin-bottom: 4px;\n",
              "    }\n",
              "\n",
              "    [theme=dark] .colab-df-convert {\n",
              "      background-color: #3B4455;\n",
              "      fill: #D2E3FC;\n",
              "    }\n",
              "\n",
              "    [theme=dark] .colab-df-convert:hover {\n",
              "      background-color: #434B5C;\n",
              "      box-shadow: 0px 1px 3px 1px rgba(0, 0, 0, 0.15);\n",
              "      filter: drop-shadow(0px 1px 2px rgba(0, 0, 0, 0.3));\n",
              "      fill: #FFFFFF;\n",
              "    }\n",
              "  </style>\n",
              "\n",
              "    <script>\n",
              "      const buttonEl =\n",
              "        document.querySelector('#df-1db5ff5f-fdd5-40c6-bd5e-3970cecf257d button.colab-df-convert');\n",
              "      buttonEl.style.display =\n",
              "        google.colab.kernel.accessAllowed ? 'block' : 'none';\n",
              "\n",
              "      async function convertToInteractive(key) {\n",
              "        const element = document.querySelector('#df-1db5ff5f-fdd5-40c6-bd5e-3970cecf257d');\n",
              "        const dataTable =\n",
              "          await google.colab.kernel.invokeFunction('convertToInteractive',\n",
              "                                                    [key], {});\n",
              "        if (!dataTable) return;\n",
              "\n",
              "        const docLinkHtml = 'Like what you see? Visit the ' +\n",
              "          '<a target=\"_blank\" href=https://colab.research.google.com/notebooks/data_table.ipynb>data table notebook</a>'\n",
              "          + ' to learn more about interactive tables.';\n",
              "        element.innerHTML = '';\n",
              "        dataTable['output_type'] = 'display_data';\n",
              "        await google.colab.output.renderOutput(dataTable, element);\n",
              "        const docLink = document.createElement('div');\n",
              "        docLink.innerHTML = docLinkHtml;\n",
              "        element.appendChild(docLink);\n",
              "      }\n",
              "    </script>\n",
              "  </div>\n",
              "\n",
              "\n",
              "<div id=\"df-3dd5de7a-f9ab-4b1d-ac3d-5699c1639584\">\n",
              "  <button class=\"colab-df-quickchart\" onclick=\"quickchart('df-3dd5de7a-f9ab-4b1d-ac3d-5699c1639584')\"\n",
              "            title=\"Suggest charts\"\n",
              "            style=\"display:none;\">\n",
              "\n",
              "<svg xmlns=\"http://www.w3.org/2000/svg\" height=\"24px\"viewBox=\"0 0 24 24\"\n",
              "     width=\"24px\">\n",
              "    <g>\n",
              "        <path d=\"M19 3H5c-1.1 0-2 .9-2 2v14c0 1.1.9 2 2 2h14c1.1 0 2-.9 2-2V5c0-1.1-.9-2-2-2zM9 17H7v-7h2v7zm4 0h-2V7h2v10zm4 0h-2v-4h2v4z\"/>\n",
              "    </g>\n",
              "</svg>\n",
              "  </button>\n",
              "\n",
              "<style>\n",
              "  .colab-df-quickchart {\n",
              "      --bg-color: #E8F0FE;\n",
              "      --fill-color: #1967D2;\n",
              "      --hover-bg-color: #E2EBFA;\n",
              "      --hover-fill-color: #174EA6;\n",
              "      --disabled-fill-color: #AAA;\n",
              "      --disabled-bg-color: #DDD;\n",
              "  }\n",
              "\n",
              "  [theme=dark] .colab-df-quickchart {\n",
              "      --bg-color: #3B4455;\n",
              "      --fill-color: #D2E3FC;\n",
              "      --hover-bg-color: #434B5C;\n",
              "      --hover-fill-color: #FFFFFF;\n",
              "      --disabled-bg-color: #3B4455;\n",
              "      --disabled-fill-color: #666;\n",
              "  }\n",
              "\n",
              "  .colab-df-quickchart {\n",
              "    background-color: var(--bg-color);\n",
              "    border: none;\n",
              "    border-radius: 50%;\n",
              "    cursor: pointer;\n",
              "    display: none;\n",
              "    fill: var(--fill-color);\n",
              "    height: 32px;\n",
              "    padding: 0;\n",
              "    width: 32px;\n",
              "  }\n",
              "\n",
              "  .colab-df-quickchart:hover {\n",
              "    background-color: var(--hover-bg-color);\n",
              "    box-shadow: 0 1px 2px rgba(60, 64, 67, 0.3), 0 1px 3px 1px rgba(60, 64, 67, 0.15);\n",
              "    fill: var(--button-hover-fill-color);\n",
              "  }\n",
              "\n",
              "  .colab-df-quickchart-complete:disabled,\n",
              "  .colab-df-quickchart-complete:disabled:hover {\n",
              "    background-color: var(--disabled-bg-color);\n",
              "    fill: var(--disabled-fill-color);\n",
              "    box-shadow: none;\n",
              "  }\n",
              "\n",
              "  .colab-df-spinner {\n",
              "    border: 2px solid var(--fill-color);\n",
              "    border-color: transparent;\n",
              "    border-bottom-color: var(--fill-color);\n",
              "    animation:\n",
              "      spin 1s steps(1) infinite;\n",
              "  }\n",
              "\n",
              "  @keyframes spin {\n",
              "    0% {\n",
              "      border-color: transparent;\n",
              "      border-bottom-color: var(--fill-color);\n",
              "      border-left-color: var(--fill-color);\n",
              "    }\n",
              "    20% {\n",
              "      border-color: transparent;\n",
              "      border-left-color: var(--fill-color);\n",
              "      border-top-color: var(--fill-color);\n",
              "    }\n",
              "    30% {\n",
              "      border-color: transparent;\n",
              "      border-left-color: var(--fill-color);\n",
              "      border-top-color: var(--fill-color);\n",
              "      border-right-color: var(--fill-color);\n",
              "    }\n",
              "    40% {\n",
              "      border-color: transparent;\n",
              "      border-right-color: var(--fill-color);\n",
              "      border-top-color: var(--fill-color);\n",
              "    }\n",
              "    60% {\n",
              "      border-color: transparent;\n",
              "      border-right-color: var(--fill-color);\n",
              "    }\n",
              "    80% {\n",
              "      border-color: transparent;\n",
              "      border-right-color: var(--fill-color);\n",
              "      border-bottom-color: var(--fill-color);\n",
              "    }\n",
              "    90% {\n",
              "      border-color: transparent;\n",
              "      border-bottom-color: var(--fill-color);\n",
              "    }\n",
              "  }\n",
              "</style>\n",
              "\n",
              "  <script>\n",
              "    async function quickchart(key) {\n",
              "      const quickchartButtonEl =\n",
              "        document.querySelector('#' + key + ' button');\n",
              "      quickchartButtonEl.disabled = true;  // To prevent multiple clicks.\n",
              "      quickchartButtonEl.classList.add('colab-df-spinner');\n",
              "      try {\n",
              "        const charts = await google.colab.kernel.invokeFunction(\n",
              "            'suggestCharts', [key], {});\n",
              "      } catch (error) {\n",
              "        console.error('Error during call to suggestCharts:', error);\n",
              "      }\n",
              "      quickchartButtonEl.classList.remove('colab-df-spinner');\n",
              "      quickchartButtonEl.classList.add('colab-df-quickchart-complete');\n",
              "    }\n",
              "    (() => {\n",
              "      let quickchartButtonEl =\n",
              "        document.querySelector('#df-3dd5de7a-f9ab-4b1d-ac3d-5699c1639584 button');\n",
              "      quickchartButtonEl.style.display =\n",
              "        google.colab.kernel.accessAllowed ? 'block' : 'none';\n",
              "    })();\n",
              "  </script>\n",
              "</div>\n",
              "\n",
              "    </div>\n",
              "  </div>\n"
            ],
            "application/vnd.google.colaboratory.intrinsic+json": {
              "type": "dataframe",
              "variable_name": "phishurl",
              "summary": "{\n  \"name\": \"phishurl\",\n  \"rows\": 5000,\n  \"fields\": [\n    {\n      \"column\": \"phish_id\",\n      \"properties\": {\n        \"dtype\": \"number\",\n        \"std\": 244674,\n        \"min\": 4755204,\n        \"max\": 8640930,\n        \"num_unique_values\": 5000,\n        \"samples\": [\n          8224512,\n          8574348,\n          8596310\n        ],\n        \"semantic_type\": \"\",\n        \"description\": \"\"\n      }\n    },\n    {\n      \"column\": \"url\",\n      \"properties\": {\n        \"dtype\": \"string\",\n        \"num_unique_values\": 5000,\n        \"samples\": [\n          \"https://www.sertras.com/v3/gndi-login/\",\n          \"https://pub-bbd23016d6ab4e38873ce87aa8db46e9.r2.dev/adobe2024.html\",\n          \"https://restless-hill-04f9.fxbkdm8o.workers.dev\"\n        ],\n        \"semantic_type\": \"\",\n        \"description\": \"\"\n      }\n    },\n    {\n      \"column\": \"phish_detail_url\",\n      \"properties\": {\n        \"dtype\": \"string\",\n        \"num_unique_values\": 5000,\n        \"samples\": [\n          \"http://www.phishtank.com/phish_detail.php?phish_id=8224512\",\n          \"http://www.phishtank.com/phish_detail.php?phish_id=8574348\",\n          \"http://www.phishtank.com/phish_detail.php?phish_id=8596310\"\n        ],\n        \"semantic_type\": \"\",\n        \"description\": \"\"\n      }\n    },\n    {\n      \"column\": \"submission_time\",\n      \"properties\": {\n        \"dtype\": \"object\",\n        \"num_unique_values\": 4989,\n        \"samples\": [\n          \"2022-08-07T16:53:55+00:00\",\n          \"2022-08-28T02:27:31+00:00\",\n          \"2023-05-23T12:28:12+00:00\"\n        ],\n        \"semantic_type\": \"\",\n        \"description\": \"\"\n      }\n    },\n    {\n      \"column\": \"verified\",\n      \"properties\": {\n        \"dtype\": \"category\",\n        \"num_unique_values\": 1,\n        \"samples\": [\n          \"yes\"\n        ],\n        \"semantic_type\": \"\",\n        \"description\": \"\"\n      }\n    },\n    {\n      \"column\": \"verification_time\",\n      \"properties\": {\n        \"dtype\": \"object\",\n        \"num_unique_values\": 3579,\n        \"samples\": [\n          \"2024-07-02T23:04:24+00:00\"\n        ],\n        \"semantic_type\": \"\",\n        \"description\": \"\"\n      }\n    },\n    {\n      \"column\": \"online\",\n      \"properties\": {\n        \"dtype\": \"category\",\n        \"num_unique_values\": 1,\n        \"samples\": [\n          \"yes\"\n        ],\n        \"semantic_type\": \"\",\n        \"description\": \"\"\n      }\n    },\n    {\n      \"column\": \"target\",\n      \"properties\": {\n        \"dtype\": \"category\",\n        \"num_unique_values\": 55,\n        \"samples\": [\n          \"Mercari\"\n        ],\n        \"semantic_type\": \"\",\n        \"description\": \"\"\n      }\n    }\n  ]\n}"
            }
          },
          "metadata": {},
          "execution_count": 7
        }
      ]
    },
    {
      "cell_type": "code",
      "source": [
        "phishurl.shape"
      ],
      "metadata": {
        "colab": {
          "base_uri": "https://localhost:8080/"
        },
        "id": "G3eM8Nmf7ZCq",
        "outputId": "c996f4c2-4a42-470c-ad62-cd68d631814a"
      },
      "execution_count": 8,
      "outputs": [
        {
          "output_type": "execute_result",
          "data": {
            "text/plain": [
              "(5000, 8)"
            ]
          },
          "metadata": {},
          "execution_count": 8
        }
      ]
    },
    {
      "cell_type": "markdown",
      "source": [
        "# Legitimate URLs:\n",
        "from the Benign_list_big_final.csv, the URLs are loaded into a dataframe.\n"
      ],
      "metadata": {
        "id": "lGVcNrfaC1ZT"
      }
    },
    {
      "cell_type": "code",
      "source": [
        "df1 = pd.read_csv(\"/1.Benign_list_big_final.csv\")\n",
        "df1.columns = ['URLs']\n",
        "df1.head()"
      ],
      "metadata": {
        "colab": {
          "base_uri": "https://localhost:8080/",
          "height": 206
        },
        "id": "IRQ-IUC_8MXD",
        "outputId": "2e50222a-c8d5-4a30-b4b4-fa04ba44807b"
      },
      "execution_count": 10,
      "outputs": [
        {
          "output_type": "execute_result",
          "data": {
            "text/plain": [
              "                                                URLs\n",
              "0  http://1337x.to/torrent/1110018/Blackhat-2015-...\n",
              "1  http://1337x.to/torrent/1122940/Blackhat-2015-...\n",
              "2  http://1337x.to/torrent/1124395/Fast-and-Furio...\n",
              "3  http://1337x.to/torrent/1145504/Avengers-Age-o...\n",
              "4  http://1337x.to/torrent/1160078/Avengers-age-o..."
            ],
            "text/html": [
              "\n",
              "  <div id=\"df-3f28f574-1924-4649-aec6-9e5848c730b6\" class=\"colab-df-container\">\n",
              "    <div>\n",
              "<style scoped>\n",
              "    .dataframe tbody tr th:only-of-type {\n",
              "        vertical-align: middle;\n",
              "    }\n",
              "\n",
              "    .dataframe tbody tr th {\n",
              "        vertical-align: top;\n",
              "    }\n",
              "\n",
              "    .dataframe thead th {\n",
              "        text-align: right;\n",
              "    }\n",
              "</style>\n",
              "<table border=\"1\" class=\"dataframe\">\n",
              "  <thead>\n",
              "    <tr style=\"text-align: right;\">\n",
              "      <th></th>\n",
              "      <th>URLs</th>\n",
              "    </tr>\n",
              "  </thead>\n",
              "  <tbody>\n",
              "    <tr>\n",
              "      <th>0</th>\n",
              "      <td>http://1337x.to/torrent/1110018/Blackhat-2015-...</td>\n",
              "    </tr>\n",
              "    <tr>\n",
              "      <th>1</th>\n",
              "      <td>http://1337x.to/torrent/1122940/Blackhat-2015-...</td>\n",
              "    </tr>\n",
              "    <tr>\n",
              "      <th>2</th>\n",
              "      <td>http://1337x.to/torrent/1124395/Fast-and-Furio...</td>\n",
              "    </tr>\n",
              "    <tr>\n",
              "      <th>3</th>\n",
              "      <td>http://1337x.to/torrent/1145504/Avengers-Age-o...</td>\n",
              "    </tr>\n",
              "    <tr>\n",
              "      <th>4</th>\n",
              "      <td>http://1337x.to/torrent/1160078/Avengers-age-o...</td>\n",
              "    </tr>\n",
              "  </tbody>\n",
              "</table>\n",
              "</div>\n",
              "    <div class=\"colab-df-buttons\">\n",
              "\n",
              "  <div class=\"colab-df-container\">\n",
              "    <button class=\"colab-df-convert\" onclick=\"convertToInteractive('df-3f28f574-1924-4649-aec6-9e5848c730b6')\"\n",
              "            title=\"Convert this dataframe to an interactive table.\"\n",
              "            style=\"display:none;\">\n",
              "\n",
              "  <svg xmlns=\"http://www.w3.org/2000/svg\" height=\"24px\" viewBox=\"0 -960 960 960\">\n",
              "    <path d=\"M120-120v-720h720v720H120Zm60-500h600v-160H180v160Zm220 220h160v-160H400v160Zm0 220h160v-160H400v160ZM180-400h160v-160H180v160Zm440 0h160v-160H620v160ZM180-180h160v-160H180v160Zm440 0h160v-160H620v160Z\"/>\n",
              "  </svg>\n",
              "    </button>\n",
              "\n",
              "  <style>\n",
              "    .colab-df-container {\n",
              "      display:flex;\n",
              "      gap: 12px;\n",
              "    }\n",
              "\n",
              "    .colab-df-convert {\n",
              "      background-color: #E8F0FE;\n",
              "      border: none;\n",
              "      border-radius: 50%;\n",
              "      cursor: pointer;\n",
              "      display: none;\n",
              "      fill: #1967D2;\n",
              "      height: 32px;\n",
              "      padding: 0 0 0 0;\n",
              "      width: 32px;\n",
              "    }\n",
              "\n",
              "    .colab-df-convert:hover {\n",
              "      background-color: #E2EBFA;\n",
              "      box-shadow: 0px 1px 2px rgba(60, 64, 67, 0.3), 0px 1px 3px 1px rgba(60, 64, 67, 0.15);\n",
              "      fill: #174EA6;\n",
              "    }\n",
              "\n",
              "    .colab-df-buttons div {\n",
              "      margin-bottom: 4px;\n",
              "    }\n",
              "\n",
              "    [theme=dark] .colab-df-convert {\n",
              "      background-color: #3B4455;\n",
              "      fill: #D2E3FC;\n",
              "    }\n",
              "\n",
              "    [theme=dark] .colab-df-convert:hover {\n",
              "      background-color: #434B5C;\n",
              "      box-shadow: 0px 1px 3px 1px rgba(0, 0, 0, 0.15);\n",
              "      filter: drop-shadow(0px 1px 2px rgba(0, 0, 0, 0.3));\n",
              "      fill: #FFFFFF;\n",
              "    }\n",
              "  </style>\n",
              "\n",
              "    <script>\n",
              "      const buttonEl =\n",
              "        document.querySelector('#df-3f28f574-1924-4649-aec6-9e5848c730b6 button.colab-df-convert');\n",
              "      buttonEl.style.display =\n",
              "        google.colab.kernel.accessAllowed ? 'block' : 'none';\n",
              "\n",
              "      async function convertToInteractive(key) {\n",
              "        const element = document.querySelector('#df-3f28f574-1924-4649-aec6-9e5848c730b6');\n",
              "        const dataTable =\n",
              "          await google.colab.kernel.invokeFunction('convertToInteractive',\n",
              "                                                    [key], {});\n",
              "        if (!dataTable) return;\n",
              "\n",
              "        const docLinkHtml = 'Like what you see? Visit the ' +\n",
              "          '<a target=\"_blank\" href=https://colab.research.google.com/notebooks/data_table.ipynb>data table notebook</a>'\n",
              "          + ' to learn more about interactive tables.';\n",
              "        element.innerHTML = '';\n",
              "        dataTable['output_type'] = 'display_data';\n",
              "        await google.colab.output.renderOutput(dataTable, element);\n",
              "        const docLink = document.createElement('div');\n",
              "        docLink.innerHTML = docLinkHtml;\n",
              "        element.appendChild(docLink);\n",
              "      }\n",
              "    </script>\n",
              "  </div>\n",
              "\n",
              "\n",
              "<div id=\"df-1c57f29b-1583-4dce-9429-00ebbf0aeafb\">\n",
              "  <button class=\"colab-df-quickchart\" onclick=\"quickchart('df-1c57f29b-1583-4dce-9429-00ebbf0aeafb')\"\n",
              "            title=\"Suggest charts\"\n",
              "            style=\"display:none;\">\n",
              "\n",
              "<svg xmlns=\"http://www.w3.org/2000/svg\" height=\"24px\"viewBox=\"0 0 24 24\"\n",
              "     width=\"24px\">\n",
              "    <g>\n",
              "        <path d=\"M19 3H5c-1.1 0-2 .9-2 2v14c0 1.1.9 2 2 2h14c1.1 0 2-.9 2-2V5c0-1.1-.9-2-2-2zM9 17H7v-7h2v7zm4 0h-2V7h2v10zm4 0h-2v-4h2v4z\"/>\n",
              "    </g>\n",
              "</svg>\n",
              "  </button>\n",
              "\n",
              "<style>\n",
              "  .colab-df-quickchart {\n",
              "      --bg-color: #E8F0FE;\n",
              "      --fill-color: #1967D2;\n",
              "      --hover-bg-color: #E2EBFA;\n",
              "      --hover-fill-color: #174EA6;\n",
              "      --disabled-fill-color: #AAA;\n",
              "      --disabled-bg-color: #DDD;\n",
              "  }\n",
              "\n",
              "  [theme=dark] .colab-df-quickchart {\n",
              "      --bg-color: #3B4455;\n",
              "      --fill-color: #D2E3FC;\n",
              "      --hover-bg-color: #434B5C;\n",
              "      --hover-fill-color: #FFFFFF;\n",
              "      --disabled-bg-color: #3B4455;\n",
              "      --disabled-fill-color: #666;\n",
              "  }\n",
              "\n",
              "  .colab-df-quickchart {\n",
              "    background-color: var(--bg-color);\n",
              "    border: none;\n",
              "    border-radius: 50%;\n",
              "    cursor: pointer;\n",
              "    display: none;\n",
              "    fill: var(--fill-color);\n",
              "    height: 32px;\n",
              "    padding: 0;\n",
              "    width: 32px;\n",
              "  }\n",
              "\n",
              "  .colab-df-quickchart:hover {\n",
              "    background-color: var(--hover-bg-color);\n",
              "    box-shadow: 0 1px 2px rgba(60, 64, 67, 0.3), 0 1px 3px 1px rgba(60, 64, 67, 0.15);\n",
              "    fill: var(--button-hover-fill-color);\n",
              "  }\n",
              "\n",
              "  .colab-df-quickchart-complete:disabled,\n",
              "  .colab-df-quickchart-complete:disabled:hover {\n",
              "    background-color: var(--disabled-bg-color);\n",
              "    fill: var(--disabled-fill-color);\n",
              "    box-shadow: none;\n",
              "  }\n",
              "\n",
              "  .colab-df-spinner {\n",
              "    border: 2px solid var(--fill-color);\n",
              "    border-color: transparent;\n",
              "    border-bottom-color: var(--fill-color);\n",
              "    animation:\n",
              "      spin 1s steps(1) infinite;\n",
              "  }\n",
              "\n",
              "  @keyframes spin {\n",
              "    0% {\n",
              "      border-color: transparent;\n",
              "      border-bottom-color: var(--fill-color);\n",
              "      border-left-color: var(--fill-color);\n",
              "    }\n",
              "    20% {\n",
              "      border-color: transparent;\n",
              "      border-left-color: var(--fill-color);\n",
              "      border-top-color: var(--fill-color);\n",
              "    }\n",
              "    30% {\n",
              "      border-color: transparent;\n",
              "      border-left-color: var(--fill-color);\n",
              "      border-top-color: var(--fill-color);\n",
              "      border-right-color: var(--fill-color);\n",
              "    }\n",
              "    40% {\n",
              "      border-color: transparent;\n",
              "      border-right-color: var(--fill-color);\n",
              "      border-top-color: var(--fill-color);\n",
              "    }\n",
              "    60% {\n",
              "      border-color: transparent;\n",
              "      border-right-color: var(--fill-color);\n",
              "    }\n",
              "    80% {\n",
              "      border-color: transparent;\n",
              "      border-right-color: var(--fill-color);\n",
              "      border-bottom-color: var(--fill-color);\n",
              "    }\n",
              "    90% {\n",
              "      border-color: transparent;\n",
              "      border-bottom-color: var(--fill-color);\n",
              "    }\n",
              "  }\n",
              "</style>\n",
              "\n",
              "  <script>\n",
              "    async function quickchart(key) {\n",
              "      const quickchartButtonEl =\n",
              "        document.querySelector('#' + key + ' button');\n",
              "      quickchartButtonEl.disabled = true;  // To prevent multiple clicks.\n",
              "      quickchartButtonEl.classList.add('colab-df-spinner');\n",
              "      try {\n",
              "        const charts = await google.colab.kernel.invokeFunction(\n",
              "            'suggestCharts', [key], {});\n",
              "      } catch (error) {\n",
              "        console.error('Error during call to suggestCharts:', error);\n",
              "      }\n",
              "      quickchartButtonEl.classList.remove('colab-df-spinner');\n",
              "      quickchartButtonEl.classList.add('colab-df-quickchart-complete');\n",
              "    }\n",
              "    (() => {\n",
              "      let quickchartButtonEl =\n",
              "        document.querySelector('#df-1c57f29b-1583-4dce-9429-00ebbf0aeafb button');\n",
              "      quickchartButtonEl.style.display =\n",
              "        google.colab.kernel.accessAllowed ? 'block' : 'none';\n",
              "    })();\n",
              "  </script>\n",
              "</div>\n",
              "\n",
              "    </div>\n",
              "  </div>\n"
            ],
            "application/vnd.google.colaboratory.intrinsic+json": {
              "type": "dataframe",
              "variable_name": "df1",
              "summary": "{\n  \"name\": \"df1\",\n  \"rows\": 35377,\n  \"fields\": [\n    {\n      \"column\": \"URLs\",\n      \"properties\": {\n        \"dtype\": \"string\",\n        \"num_unique_values\": 35377,\n        \"samples\": [\n          \"http://correios.com.br/Para-governo/tribunais-e-poder-judiciario/solucoes-gratuitas-de-apoio-e-gestao/construtor-para-mala-direta-postal\",\n          \"http://caixa.gov.br/voce/habitacao/financiamento/aquisicao-imovel-usado/Paginas/default.aspx\",\n          \"http://olx.ua/uk/list/q-%D0%BF%D0%BB%D0%B0%D1%82%D1%8C%D0%B5/bIE64RPKp0urlDE3vSbHw8dRLeUY1kOFK2_KOEmw9UT.A7\"\n        ],\n        \"semantic_type\": \"\",\n        \"description\": \"\"\n      }\n    }\n  ]\n}"
            }
          },
          "metadata": {},
          "execution_count": 10
        }
      ]
    },
    {
      "cell_type": "code",
      "source": [
        "legurl = df1.sample(n=5000, random_state=12).copy()\n",
        "legurl = legurl.reset_index(drop=True)\n",
        "legurl.head()"
      ],
      "metadata": {
        "colab": {
          "base_uri": "https://localhost:8080/",
          "height": 206
        },
        "id": "VaTdbzSk8hAF",
        "outputId": "d5566ff5-c5b9-4899-a39e-85876df48319"
      },
      "execution_count": 11,
      "outputs": [
        {
          "output_type": "execute_result",
          "data": {
            "text/plain": [
              "                                                URLs\n",
              "0  http://graphicriver.net/search?date=this-month...\n",
              "1  http://ecnavi.jp/redirect/?url=http://www.cros...\n",
              "2  https://hubpages.com/signin?explain=follow+Hub...\n",
              "3  http://extratorrent.cc/torrent/4190536/AOMEI+B...\n",
              "4  http://icicibank.com/Personal-Banking/offers/o..."
            ],
            "text/html": [
              "\n",
              "  <div id=\"df-37709630-0d4f-4d33-8fea-5f003d7cbf02\" class=\"colab-df-container\">\n",
              "    <div>\n",
              "<style scoped>\n",
              "    .dataframe tbody tr th:only-of-type {\n",
              "        vertical-align: middle;\n",
              "    }\n",
              "\n",
              "    .dataframe tbody tr th {\n",
              "        vertical-align: top;\n",
              "    }\n",
              "\n",
              "    .dataframe thead th {\n",
              "        text-align: right;\n",
              "    }\n",
              "</style>\n",
              "<table border=\"1\" class=\"dataframe\">\n",
              "  <thead>\n",
              "    <tr style=\"text-align: right;\">\n",
              "      <th></th>\n",
              "      <th>URLs</th>\n",
              "    </tr>\n",
              "  </thead>\n",
              "  <tbody>\n",
              "    <tr>\n",
              "      <th>0</th>\n",
              "      <td>http://graphicriver.net/search?date=this-month...</td>\n",
              "    </tr>\n",
              "    <tr>\n",
              "      <th>1</th>\n",
              "      <td>http://ecnavi.jp/redirect/?url=http://www.cros...</td>\n",
              "    </tr>\n",
              "    <tr>\n",
              "      <th>2</th>\n",
              "      <td>https://hubpages.com/signin?explain=follow+Hub...</td>\n",
              "    </tr>\n",
              "    <tr>\n",
              "      <th>3</th>\n",
              "      <td>http://extratorrent.cc/torrent/4190536/AOMEI+B...</td>\n",
              "    </tr>\n",
              "    <tr>\n",
              "      <th>4</th>\n",
              "      <td>http://icicibank.com/Personal-Banking/offers/o...</td>\n",
              "    </tr>\n",
              "  </tbody>\n",
              "</table>\n",
              "</div>\n",
              "    <div class=\"colab-df-buttons\">\n",
              "\n",
              "  <div class=\"colab-df-container\">\n",
              "    <button class=\"colab-df-convert\" onclick=\"convertToInteractive('df-37709630-0d4f-4d33-8fea-5f003d7cbf02')\"\n",
              "            title=\"Convert this dataframe to an interactive table.\"\n",
              "            style=\"display:none;\">\n",
              "\n",
              "  <svg xmlns=\"http://www.w3.org/2000/svg\" height=\"24px\" viewBox=\"0 -960 960 960\">\n",
              "    <path d=\"M120-120v-720h720v720H120Zm60-500h600v-160H180v160Zm220 220h160v-160H400v160Zm0 220h160v-160H400v160ZM180-400h160v-160H180v160Zm440 0h160v-160H620v160ZM180-180h160v-160H180v160Zm440 0h160v-160H620v160Z\"/>\n",
              "  </svg>\n",
              "    </button>\n",
              "\n",
              "  <style>\n",
              "    .colab-df-container {\n",
              "      display:flex;\n",
              "      gap: 12px;\n",
              "    }\n",
              "\n",
              "    .colab-df-convert {\n",
              "      background-color: #E8F0FE;\n",
              "      border: none;\n",
              "      border-radius: 50%;\n",
              "      cursor: pointer;\n",
              "      display: none;\n",
              "      fill: #1967D2;\n",
              "      height: 32px;\n",
              "      padding: 0 0 0 0;\n",
              "      width: 32px;\n",
              "    }\n",
              "\n",
              "    .colab-df-convert:hover {\n",
              "      background-color: #E2EBFA;\n",
              "      box-shadow: 0px 1px 2px rgba(60, 64, 67, 0.3), 0px 1px 3px 1px rgba(60, 64, 67, 0.15);\n",
              "      fill: #174EA6;\n",
              "    }\n",
              "\n",
              "    .colab-df-buttons div {\n",
              "      margin-bottom: 4px;\n",
              "    }\n",
              "\n",
              "    [theme=dark] .colab-df-convert {\n",
              "      background-color: #3B4455;\n",
              "      fill: #D2E3FC;\n",
              "    }\n",
              "\n",
              "    [theme=dark] .colab-df-convert:hover {\n",
              "      background-color: #434B5C;\n",
              "      box-shadow: 0px 1px 3px 1px rgba(0, 0, 0, 0.15);\n",
              "      filter: drop-shadow(0px 1px 2px rgba(0, 0, 0, 0.3));\n",
              "      fill: #FFFFFF;\n",
              "    }\n",
              "  </style>\n",
              "\n",
              "    <script>\n",
              "      const buttonEl =\n",
              "        document.querySelector('#df-37709630-0d4f-4d33-8fea-5f003d7cbf02 button.colab-df-convert');\n",
              "      buttonEl.style.display =\n",
              "        google.colab.kernel.accessAllowed ? 'block' : 'none';\n",
              "\n",
              "      async function convertToInteractive(key) {\n",
              "        const element = document.querySelector('#df-37709630-0d4f-4d33-8fea-5f003d7cbf02');\n",
              "        const dataTable =\n",
              "          await google.colab.kernel.invokeFunction('convertToInteractive',\n",
              "                                                    [key], {});\n",
              "        if (!dataTable) return;\n",
              "\n",
              "        const docLinkHtml = 'Like what you see? Visit the ' +\n",
              "          '<a target=\"_blank\" href=https://colab.research.google.com/notebooks/data_table.ipynb>data table notebook</a>'\n",
              "          + ' to learn more about interactive tables.';\n",
              "        element.innerHTML = '';\n",
              "        dataTable['output_type'] = 'display_data';\n",
              "        await google.colab.output.renderOutput(dataTable, element);\n",
              "        const docLink = document.createElement('div');\n",
              "        docLink.innerHTML = docLinkHtml;\n",
              "        element.appendChild(docLink);\n",
              "      }\n",
              "    </script>\n",
              "  </div>\n",
              "\n",
              "\n",
              "<div id=\"df-e3dc4049-983c-4208-95c2-9c0e4ffbed30\">\n",
              "  <button class=\"colab-df-quickchart\" onclick=\"quickchart('df-e3dc4049-983c-4208-95c2-9c0e4ffbed30')\"\n",
              "            title=\"Suggest charts\"\n",
              "            style=\"display:none;\">\n",
              "\n",
              "<svg xmlns=\"http://www.w3.org/2000/svg\" height=\"24px\"viewBox=\"0 0 24 24\"\n",
              "     width=\"24px\">\n",
              "    <g>\n",
              "        <path d=\"M19 3H5c-1.1 0-2 .9-2 2v14c0 1.1.9 2 2 2h14c1.1 0 2-.9 2-2V5c0-1.1-.9-2-2-2zM9 17H7v-7h2v7zm4 0h-2V7h2v10zm4 0h-2v-4h2v4z\"/>\n",
              "    </g>\n",
              "</svg>\n",
              "  </button>\n",
              "\n",
              "<style>\n",
              "  .colab-df-quickchart {\n",
              "      --bg-color: #E8F0FE;\n",
              "      --fill-color: #1967D2;\n",
              "      --hover-bg-color: #E2EBFA;\n",
              "      --hover-fill-color: #174EA6;\n",
              "      --disabled-fill-color: #AAA;\n",
              "      --disabled-bg-color: #DDD;\n",
              "  }\n",
              "\n",
              "  [theme=dark] .colab-df-quickchart {\n",
              "      --bg-color: #3B4455;\n",
              "      --fill-color: #D2E3FC;\n",
              "      --hover-bg-color: #434B5C;\n",
              "      --hover-fill-color: #FFFFFF;\n",
              "      --disabled-bg-color: #3B4455;\n",
              "      --disabled-fill-color: #666;\n",
              "  }\n",
              "\n",
              "  .colab-df-quickchart {\n",
              "    background-color: var(--bg-color);\n",
              "    border: none;\n",
              "    border-radius: 50%;\n",
              "    cursor: pointer;\n",
              "    display: none;\n",
              "    fill: var(--fill-color);\n",
              "    height: 32px;\n",
              "    padding: 0;\n",
              "    width: 32px;\n",
              "  }\n",
              "\n",
              "  .colab-df-quickchart:hover {\n",
              "    background-color: var(--hover-bg-color);\n",
              "    box-shadow: 0 1px 2px rgba(60, 64, 67, 0.3), 0 1px 3px 1px rgba(60, 64, 67, 0.15);\n",
              "    fill: var(--button-hover-fill-color);\n",
              "  }\n",
              "\n",
              "  .colab-df-quickchart-complete:disabled,\n",
              "  .colab-df-quickchart-complete:disabled:hover {\n",
              "    background-color: var(--disabled-bg-color);\n",
              "    fill: var(--disabled-fill-color);\n",
              "    box-shadow: none;\n",
              "  }\n",
              "\n",
              "  .colab-df-spinner {\n",
              "    border: 2px solid var(--fill-color);\n",
              "    border-color: transparent;\n",
              "    border-bottom-color: var(--fill-color);\n",
              "    animation:\n",
              "      spin 1s steps(1) infinite;\n",
              "  }\n",
              "\n",
              "  @keyframes spin {\n",
              "    0% {\n",
              "      border-color: transparent;\n",
              "      border-bottom-color: var(--fill-color);\n",
              "      border-left-color: var(--fill-color);\n",
              "    }\n",
              "    20% {\n",
              "      border-color: transparent;\n",
              "      border-left-color: var(--fill-color);\n",
              "      border-top-color: var(--fill-color);\n",
              "    }\n",
              "    30% {\n",
              "      border-color: transparent;\n",
              "      border-left-color: var(--fill-color);\n",
              "      border-top-color: var(--fill-color);\n",
              "      border-right-color: var(--fill-color);\n",
              "    }\n",
              "    40% {\n",
              "      border-color: transparent;\n",
              "      border-right-color: var(--fill-color);\n",
              "      border-top-color: var(--fill-color);\n",
              "    }\n",
              "    60% {\n",
              "      border-color: transparent;\n",
              "      border-right-color: var(--fill-color);\n",
              "    }\n",
              "    80% {\n",
              "      border-color: transparent;\n",
              "      border-right-color: var(--fill-color);\n",
              "      border-bottom-color: var(--fill-color);\n",
              "    }\n",
              "    90% {\n",
              "      border-color: transparent;\n",
              "      border-bottom-color: var(--fill-color);\n",
              "    }\n",
              "  }\n",
              "</style>\n",
              "\n",
              "  <script>\n",
              "    async function quickchart(key) {\n",
              "      const quickchartButtonEl =\n",
              "        document.querySelector('#' + key + ' button');\n",
              "      quickchartButtonEl.disabled = true;  // To prevent multiple clicks.\n",
              "      quickchartButtonEl.classList.add('colab-df-spinner');\n",
              "      try {\n",
              "        const charts = await google.colab.kernel.invokeFunction(\n",
              "            'suggestCharts', [key], {});\n",
              "      } catch (error) {\n",
              "        console.error('Error during call to suggestCharts:', error);\n",
              "      }\n",
              "      quickchartButtonEl.classList.remove('colab-df-spinner');\n",
              "      quickchartButtonEl.classList.add('colab-df-quickchart-complete');\n",
              "    }\n",
              "    (() => {\n",
              "      let quickchartButtonEl =\n",
              "        document.querySelector('#df-e3dc4049-983c-4208-95c2-9c0e4ffbed30 button');\n",
              "      quickchartButtonEl.style.display =\n",
              "        google.colab.kernel.accessAllowed ? 'block' : 'none';\n",
              "    })();\n",
              "  </script>\n",
              "</div>\n",
              "\n",
              "    </div>\n",
              "  </div>\n"
            ],
            "application/vnd.google.colaboratory.intrinsic+json": {
              "type": "dataframe",
              "variable_name": "legurl",
              "summary": "{\n  \"name\": \"legurl\",\n  \"rows\": 5000,\n  \"fields\": [\n    {\n      \"column\": \"URLs\",\n      \"properties\": {\n        \"dtype\": \"string\",\n        \"num_unique_values\": 5000,\n        \"samples\": [\n          \"http://emgn.com/entertainment/24-photos-of-food-perfectly-prepared-and-organized-to-satisfy-all-of-your-ocd-cravings/\",\n          \"http://babal.net/women/view/609/%D8%A3%D8%BA%D8%B1%D8%A8-%D8%AF%D9%8A%D8%B2%D8%A7%D9%8A%D9%86%D8%A7%D8%AA-%D8%B3%D8%B1%D8%A7%D8%A6%D8%B1\",\n          \"https://ifttt.com/recipes/156570-if-i-mark-a-video-as-watch-later-send-the-link-to-pushbullet\"\n        ],\n        \"semantic_type\": \"\",\n        \"description\": \"\"\n      }\n    }\n  ]\n}"
            }
          },
          "metadata": {},
          "execution_count": 11
        }
      ]
    },
    {
      "cell_type": "code",
      "source": [
        "legurl.shape"
      ],
      "metadata": {
        "colab": {
          "base_uri": "https://localhost:8080/"
        },
        "id": "qDyQJJidCn8f",
        "outputId": "51e83200-d688-4ed0-c2d5-c7fc7289e236"
      },
      "execution_count": 12,
      "outputs": [
        {
          "output_type": "execute_result",
          "data": {
            "text/plain": [
              "(5000, 1)"
            ]
          },
          "metadata": {},
          "execution_count": 12
        }
      ]
    },
    {
      "cell_type": "markdown",
      "source": [
        "# Feature Extraction:\n",
        "features are extracted from the URLs dataset.\n",
        "The extracted features are categorized into\n",
        " 1.Address Bar based features\n",
        " 2.Domain based features\n",
        " 3.HTML & Javascript based\n",
        "\n",
        "# Address bar based features:\n",
        "Below mentioned address bar features were considered for this project.\n",
        "\n",
        "\n",
        "*   Domain of URL\n",
        "*   IP Address in URL\n",
        "*   '@' symbol in URL\n",
        "*   Length of URL\n",
        "*   Depth of URL\n",
        "*   Redirection '//' in URL\n",
        "*   'http/https' in Domain name\n",
        "*   Using URL shortening Services \"TinyURL\"\n",
        "*   Prefix or Suffix \"-\" in Domain\n",
        "\n",
        "\n",
        "\n",
        "\n",
        "\n",
        "\n",
        "\n",
        "\n",
        "\n"
      ],
      "metadata": {
        "id": "xjLV3-WrDgK5"
      }
    },
    {
      "cell_type": "code",
      "source": [
        "from urllib.parse import urlparse,urlencode\n",
        "import ipaddress\n",
        "import re"
      ],
      "metadata": {
        "id": "I9ouuWNQEw1P"
      },
      "execution_count": 13,
      "outputs": []
    },
    {
      "cell_type": "markdown",
      "source": [
        "# Domain of the URL\n",
        "\n",
        "extracting the domain present in the URL"
      ],
      "metadata": {
        "id": "r9tbCNolF2x_"
      }
    },
    {
      "cell_type": "code",
      "source": [
        "def getDomain(url):\n",
        "  domain = urlparse(url).netloc\n",
        "  if re.match(r\"www.\", domain):\n",
        "    domain = domain.replace(\"www.\", \"\")\n",
        "  return domain"
      ],
      "metadata": {
        "id": "7VMORaUvCtdw"
      },
      "execution_count": 14,
      "outputs": []
    },
    {
      "cell_type": "markdown",
      "source": [
        "# IP Address in the URL\n",
        "Checks for the presence of IP address in the URL. URLs may have IP address instead of domain name. If so, we can be sure that someone is trying to steal personal information with that URL.\n",
        "\n",
        "If the domain part of URL has IP address, the value assigned to this feature is 1 (phishing) or else 0 (legitimate)."
      ],
      "metadata": {
        "id": "pOXRayayaPvJ"
      }
    },
    {
      "cell_type": "code",
      "source": [
        "def havingIP(url):\n",
        "  try:\n",
        "    ipaddress.ip_address(url)\n",
        "    ip = 1\n",
        "  except:\n",
        "    ip = 0\n",
        "  return ip"
      ],
      "metadata": {
        "id": "9AG7J1nQDcdO"
      },
      "execution_count": 15,
      "outputs": []
    },
    {
      "cell_type": "markdown",
      "source": [
        "# \"@\" in URL\n",
        "\n",
        "If there is a presence of '@' in URL, value assigned is 1 (phishing) else 0 (legitimate)."
      ],
      "metadata": {
        "id": "AVQ_mDcCEglA"
      }
    },
    {
      "cell_type": "code",
      "source": [
        "def haveAtSign(url):\n",
        "  if \"@\" in url:\n",
        "    at = 1\n",
        "  else:\n",
        "    at = 0\n",
        "  return at"
      ],
      "metadata": {
        "id": "fTdcACbHEaRk"
      },
      "execution_count": 16,
      "outputs": []
    },
    {
      "cell_type": "markdown",
      "source": [
        "# Length of URL\n",
        "\n",
        "Phishers sometimes use long url to hide the doubtful part in the address bar. In this project if the length of the URL is greater than or equal to 54 characters then the value assigned to this feature is 1 (phishing) else 0 (legitimate)"
      ],
      "metadata": {
        "id": "x6D3Vvl1FR1d"
      }
    },
    {
      "cell_type": "code",
      "source": [
        "def getLength(url):\n",
        "  if len(url) < 54:\n",
        "    length = 0\n",
        "  else:\n",
        "    length = 1\n",
        "  return length"
      ],
      "metadata": {
        "id": "NKgTWbRWF0KO"
      },
      "execution_count": 17,
      "outputs": []
    },
    {
      "cell_type": "markdown",
      "source": [
        "# Depth of URL\n",
        "\n",
        "This feature calculates the number of sub pages in the given url based on the '/'."
      ],
      "metadata": {
        "id": "YxbzqVy6GGuW"
      }
    },
    {
      "cell_type": "code",
      "source": [
        "def getDepth(url):\n",
        "  s = urlparse(url).path.split('/')\n",
        "  depth = 0\n",
        "  for j in range(len(s)):\n",
        "    if len(s[j]) != 0:\n",
        "      depth = depth+1\n",
        "  return depth"
      ],
      "metadata": {
        "id": "Lr4sBhVrGFpl"
      },
      "execution_count": 18,
      "outputs": []
    },
    {
      "cell_type": "markdown",
      "source": [
        "# Redirection \"//\" in URL\n",
        "\n",
        "In the URL which starts with \"HTTP\" the \"//\" should appear in 6th position and if URL starts with \"HTTPS\" it should appear in 7th position."
      ],
      "metadata": {
        "id": "DHUxhmMkG9Xh"
      }
    },
    {
      "cell_type": "code",
      "source": [
        "def redirection(url):\n",
        "  pos = url.rfind('//')\n",
        "  if pos > 6:\n",
        "    if pos > 7:\n",
        "      return 1\n",
        "    else:\n",
        "      return 0\n",
        "  else:\n",
        "    return 0"
      ],
      "metadata": {
        "id": "gt2dHRZIG6AR"
      },
      "execution_count": 19,
      "outputs": []
    },
    {
      "cell_type": "markdown",
      "source": [
        "# \"http/https\" in Domain name\n",
        "The phishers may add the “HTTPS” token to the domain part of a URL in order to trick users.\n",
        "\n",
        "If the URL has \"http/https\" in the domain part, the value assigned to this feature is 1 (phishing) or else 0 (legitimate).\n"
      ],
      "metadata": {
        "id": "HqqG-wjDIXcF"
      }
    },
    {
      "cell_type": "code",
      "source": [
        "def httpDomain(url):\n",
        "  domain = urlparse(url).netloc\n",
        "  if 'https' in domain:\n",
        "    return 1\n",
        "  else:\n",
        "    return 0"
      ],
      "metadata": {
        "id": "21J8aPN2IWb8"
      },
      "execution_count": 20,
      "outputs": []
    },
    {
      "cell_type": "markdown",
      "source": [
        "#### **Using URL Shortening Services “TinyURL”**\n",
        "\n",
        "URL shortening is a method on the “World Wide Web” in which a URL may be made considerably smaller in length and still lead to the required webpage. This is accomplished by means of an “HTTP Redirect” on a domain name that is short, which links to the webpage that has a long URL.\n",
        "\n",
        "If the URL is using Shortening Services, the value assigned to this feature is 1 (phishing) or else 0 (legitimate)."
      ],
      "metadata": {
        "id": "5RxyF_r2I2de"
      }
    },
    {
      "cell_type": "code",
      "source": [
        "#listing shortening services\n",
        "shortening_services = r\"bit\\.ly|goo\\.gl|shorte\\.st|go2l\\.ink|x\\.co|ow\\.ly|t\\.co|tinyurl|tr\\.im|is\\.gd|cli\\.gs|\" \\\n",
        "                      r\"yfrog\\.com|migre\\.me|ff\\.im|tiny\\.cc|url4\\.eu|twit\\.ac|su\\.pr|twurl\\.nl|snipurl\\.com|\" \\\n",
        "                      r\"short\\.to|BudURL\\.com|ping\\.fm|post\\.ly|Just\\.as|bkite\\.com|snipr\\.com|fic\\.kr|loopt\\.us|\" \\\n",
        "                      r\"doiop\\.com|short\\.ie|kl\\.am|wp\\.me|rubyurl\\.com|om\\.ly|to\\.ly|bit\\.do|t\\.co|lnkd\\.in|db\\.tt|\" \\\n",
        "                      r\"qr\\.ae|adf\\.ly|goo\\.gl|bitly\\.com|cur\\.lv|tinyurl\\.com|ow\\.ly|bit\\.ly|ity\\.im|q\\.gs|is\\.gd|\" \\\n",
        "                      r\"po\\.st|bc\\.vc|twitthis\\.com|u\\.to|j\\.mp|buzurl\\.com|cutt\\.us|u\\.bb|yourls\\.org|x\\.co|\" \\\n",
        "                      r\"prettylinkpro\\.com|scrnch\\.me|filoops\\.info|vzturl\\.com|qr\\.net|1url\\.com|tweez\\.me|v\\.gd|\" \\\n",
        "                      r\"tr\\.im|link\\.zip\\.net\""
      ],
      "metadata": {
        "id": "8MQzZM39I0i3"
      },
      "execution_count": 21,
      "outputs": []
    },
    {
      "cell_type": "code",
      "source": [
        "#Checking for Shortening Services in URL (Tiny_URL)\n",
        "def tinyURL(url):\n",
        "    match=re.search(shortening_services,url)\n",
        "    if match:\n",
        "        return 1\n",
        "    else:\n",
        "        return 0"
      ],
      "metadata": {
        "id": "a8VaHdHAJO0r"
      },
      "execution_count": 22,
      "outputs": []
    },
    {
      "cell_type": "markdown",
      "source": [
        "# Prefix or Suffix \"-\" in Domain**\n",
        "\n",
        "Checking the presence of '-' in the domain part of URL. The dash symbol is rarely used in legitimate URLs. Phishers tend to add prefixes or suffixes separated by (-) to the domain name so that users feel that they are dealing with a legitimate webpage.\n",
        "\n",
        "If the URL has '-' symbol in the domain part of the URL, the value assigned to this feature is 1 (phishing) or else 0 (legitimate)."
      ],
      "metadata": {
        "id": "_CjkyhMAJb39"
      }
    },
    {
      "cell_type": "code",
      "source": [
        "#Checking for Prefix or Suffix Separated by (-) in the Domain (Prefix/Suffix)\n",
        "def prefixSuffix(url):\n",
        "    if '-' in urlparse(url).netloc:\n",
        "        return 1\n",
        "    else:\n",
        "        return 0"
      ],
      "metadata": {
        "id": "lmc8iU-8JaWl"
      },
      "execution_count": 23,
      "outputs": []
    },
    {
      "cell_type": "markdown",
      "source": [
        "##  Domain Based Features:\n",
        "\n",
        "Many features can be extracted that come under this category. Out of them, below mentioned were considered for this project.\n",
        "\n",
        "*   DNS Record\n",
        "*   Website Traffic\n",
        "*   Age of Domain\n",
        "*   End Period of Domain\n",
        "\n",
        "Each of these features are explained and the coded below:"
      ],
      "metadata": {
        "id": "UCG7JBihJu7D"
      }
    },
    {
      "cell_type": "code",
      "source": [
        "!pip install python-whois"
      ],
      "metadata": {
        "colab": {
          "base_uri": "https://localhost:8080/"
        },
        "id": "4GGnyJ18Jsjq",
        "outputId": "928ab905-9fb3-49fc-e3ac-ceea2f1ec23c"
      },
      "execution_count": 25,
      "outputs": [
        {
          "output_type": "stream",
          "name": "stdout",
          "text": [
            "Collecting python-whois\n",
            "  Downloading python_whois-0.9.4-py3-none-any.whl (103 kB)\n",
            "\u001b[2K     \u001b[90m━━━━━━━━━━━━━━━━━━━━━━━━━━━━━━━━━━━━━━━━\u001b[0m \u001b[32m103.3/103.3 kB\u001b[0m \u001b[31m2.8 MB/s\u001b[0m eta \u001b[36m0:00:00\u001b[0m\n",
            "\u001b[?25hRequirement already satisfied: python-dateutil in /usr/local/lib/python3.10/dist-packages (from python-whois) (2.8.2)\n",
            "Requirement already satisfied: six>=1.5 in /usr/local/lib/python3.10/dist-packages (from python-dateutil->python-whois) (1.16.0)\n",
            "Installing collected packages: python-whois\n",
            "Successfully installed python-whois-0.9.4\n"
          ]
        }
      ]
    },
    {
      "cell_type": "code",
      "source": [
        "# importing required packages for this section\n",
        "import re\n",
        "from bs4 import BeautifulSoup\n",
        "import whois\n",
        "import urllib\n",
        "import urllib.request\n",
        "from datetime import datetime"
      ],
      "metadata": {
        "id": "Io1AW-zyKHnp",
        "colab": {
          "base_uri": "https://localhost:8080/",
          "height": 383
        },
        "outputId": "ae2b1725-5ca6-4330-ed31-18d9291a9622"
      },
      "execution_count": 24,
      "outputs": [
        {
          "output_type": "error",
          "ename": "ModuleNotFoundError",
          "evalue": "No module named 'whois'",
          "traceback": [
            "\u001b[0;31m---------------------------------------------------------------------------\u001b[0m",
            "\u001b[0;31mModuleNotFoundError\u001b[0m                       Traceback (most recent call last)",
            "\u001b[0;32m<ipython-input-24-cd81a96ffd18>\u001b[0m in \u001b[0;36m<cell line: 4>\u001b[0;34m()\u001b[0m\n\u001b[1;32m      2\u001b[0m \u001b[0;32mimport\u001b[0m \u001b[0mre\u001b[0m\u001b[0;34m\u001b[0m\u001b[0;34m\u001b[0m\u001b[0m\n\u001b[1;32m      3\u001b[0m \u001b[0;32mfrom\u001b[0m \u001b[0mbs4\u001b[0m \u001b[0;32mimport\u001b[0m \u001b[0mBeautifulSoup\u001b[0m\u001b[0;34m\u001b[0m\u001b[0;34m\u001b[0m\u001b[0m\n\u001b[0;32m----> 4\u001b[0;31m \u001b[0;32mimport\u001b[0m \u001b[0mwhois\u001b[0m\u001b[0;34m\u001b[0m\u001b[0;34m\u001b[0m\u001b[0m\n\u001b[0m\u001b[1;32m      5\u001b[0m \u001b[0;32mimport\u001b[0m \u001b[0murllib\u001b[0m\u001b[0;34m\u001b[0m\u001b[0;34m\u001b[0m\u001b[0m\n\u001b[1;32m      6\u001b[0m \u001b[0;32mimport\u001b[0m \u001b[0murllib\u001b[0m\u001b[0;34m.\u001b[0m\u001b[0mrequest\u001b[0m\u001b[0;34m\u001b[0m\u001b[0;34m\u001b[0m\u001b[0m\n",
            "\u001b[0;31mModuleNotFoundError\u001b[0m: No module named 'whois'",
            "",
            "\u001b[0;31m---------------------------------------------------------------------------\u001b[0;32m\nNOTE: If your import is failing due to a missing package, you can\nmanually install dependencies using either !pip or !apt.\n\nTo view examples of installing some common dependencies, click the\n\"Open Examples\" button below.\n\u001b[0;31m---------------------------------------------------------------------------\u001b[0m\n"
          ],
          "errorDetails": {
            "actions": [
              {
                "action": "open_url",
                "actionText": "Open Examples",
                "url": "/notebooks/snippets/importing_libraries.ipynb"
              }
            ]
          }
        }
      ]
    },
    {
      "cell_type": "markdown",
      "source": [
        "#### DNS Record\n",
        "\n",
        "For phishing websites, either the claimed identity is not recognized by the WHOIS database or no records founded for the hostname.\n",
        "If the DNS record is empty or not found then, the value assigned to this feature is 1 (phishing) or else 0 (legitimate)."
      ],
      "metadata": {
        "id": "31IPIt2FKaJH"
      }
    },
    {
      "cell_type": "markdown",
      "source": [
        "#### Web Traffic\n",
        "\n",
        "This feature measures the popularity of the website by determining the number of visitors and the number of pages they visit. However, since phishing websites live for a short period of time, they may not be recognized by the Alexa database (Alexa the Web Information Company., 1996). By reviewing our dataset, we find that in worst scenarios, legitimate websites ranked among the top 100,000. Furthermore, if the domain has no traffic or is not recognized by the Alexa database, it is classified as “Phishing”.\n",
        "\n",
        "If the rank of the domain < 100000, the vlaue of this feature is 1 (phishing) else 0 (legitimate)."
      ],
      "metadata": {
        "id": "FrrGIbFKKoM-"
      }
    },
    {
      "cell_type": "code",
      "source": [
        "!pip install requests  # Install the requests library if not already installed\n",
        "import urllib\n",
        "import requests\n",
        "from bs4 import BeautifulSoup\n",
        "\n",
        "def web_traffic(url):\n",
        "    try:\n",
        "        # Filling the whitespaces in the URL if any\n",
        "        url = urllib.parse.quote(url)\n",
        "        # Use requests library for better error handling\n",
        "        response = requests.get(\"http://data.alexa.com/data?cli=10&dat=s&url=\" + url)\n",
        "        response.raise_for_status()  # Raise an exception for bad status codes\n",
        "        rank = BeautifulSoup(response.content, \"xml\").find(\"REACH\")['RANK']\n",
        "        return int(rank)\n",
        "    except requests.exceptions.RequestException as e:\n",
        "        print(f\"Error fetching Alexa rank for {url}: {e}\")\n",
        "        return -1  # Return -1 to indicate an error"
      ],
      "metadata": {
        "colab": {
          "base_uri": "https://localhost:8080/"
        },
        "id": "kvqzVvSLKnii",
        "outputId": "f633cbe6-7a30-460d-fc52-63ff6a7e2fd2"
      },
      "execution_count": null,
      "outputs": [
        {
          "output_type": "stream",
          "name": "stdout",
          "text": [
            "Requirement already satisfied: requests in /usr/local/lib/python3.10/dist-packages (2.31.0)\n",
            "Requirement already satisfied: charset-normalizer<4,>=2 in /usr/local/lib/python3.10/dist-packages (from requests) (3.3.2)\n",
            "Requirement already satisfied: idna<4,>=2.5 in /usr/local/lib/python3.10/dist-packages (from requests) (3.7)\n",
            "Requirement already satisfied: urllib3<3,>=1.21.1 in /usr/local/lib/python3.10/dist-packages (from requests) (2.0.7)\n",
            "Requirement already satisfied: certifi>=2017.4.17 in /usr/local/lib/python3.10/dist-packages (from requests) (2024.6.2)\n"
          ]
        }
      ]
    },
    {
      "cell_type": "markdown",
      "source": [
        "#### Age of Domain\n",
        "\n",
        "This feature can be extracted from WHOIS database. Most phishing websites live for a short period of time. The minimum age of the legitimate domain is considered to be 12 months for this project. Age here is nothing but different between creation and expiration time.\n",
        "\n",
        "If age of domain > 12 months, the vlaue of this feature is 1 (phishing) else 0 (legitimate)."
      ],
      "metadata": {
        "id": "zYT7THqtLBuW"
      }
    },
    {
      "cell_type": "code",
      "source": [
        "# Survival time of domain: The difference between termination time and creation time (Domain_Age)\n",
        "def domainAge(domain_name):\n",
        "  creation_date = domain_name.creation_date\n",
        "  expiration_date = domain_name.expiration_date\n",
        "  if (isinstance(creation_date,str) or isinstance(expiration_date,str)):\n",
        "    try:\n",
        "      creation_date = datetime.strptime(creation_date,'%Y-%m-%d')\n",
        "      expiration_date = datetime.strptime(expiration_date,\"%Y-%m-%d\")\n",
        "    except:\n",
        "      return 1\n",
        "  if ((expiration_date is None) or (creation_date is None)):\n",
        "      return 1\n",
        "  elif ((type(expiration_date) is list) or (type(creation_date) is list)):\n",
        "      return 1\n",
        "  else:\n",
        "    ageofdomain = abs((expiration_date - creation_date).days)\n",
        "    if ((ageofdomain/30) < 6):\n",
        "      age = 1\n",
        "    else:\n",
        "      age = 0\n",
        "  return age"
      ],
      "metadata": {
        "id": "GwEmTmNWKYRq"
      },
      "execution_count": null,
      "outputs": []
    },
    {
      "cell_type": "markdown",
      "source": [
        "#### End Period of Domain\n",
        "\n",
        "This feature can be extracted from WHOIS database. For this feature, the remaining domain time is calculated by finding the different between expiration time & current time. The end period considered for the legitimate domain is 6 months or less  for this project.\n",
        "\n",
        "If end period of domain > 6 months, the vlaue of this feature is 1 (phishing) else 0 (legitimate)."
      ],
      "metadata": {
        "id": "QcOB07QPLWvM"
      }
    },
    {
      "cell_type": "code",
      "source": [
        "#End time of domain: The difference between termination time and current time (Domain_End)\n",
        "def domainEnd(domain_name):\n",
        "  expiration_date = domain_name.expiration_date\n",
        "  if isinstance(expiration_date,str):\n",
        "    try:\n",
        "      expiration_date = datetime.strptime(expiration_date,\"%Y-%m-%d\")\n",
        "    except:\n",
        "      return 1\n",
        "  if (expiration_date is None):\n",
        "      return 1\n",
        "  elif (type(expiration_date) is list):\n",
        "      return 1\n",
        "  else:\n",
        "    today = datetime.now()\n",
        "    end = abs((expiration_date - today).days)\n",
        "    if ((end/30) < 6):\n",
        "      end = 0\n",
        "    else:\n",
        "      end = 1\n",
        "  return end"
      ],
      "metadata": {
        "id": "ZH_OJbOjLM0m"
      },
      "execution_count": null,
      "outputs": []
    },
    {
      "cell_type": "markdown",
      "source": [
        "## HTML and JavaScript based Features\n",
        "\n",
        "Many features can be extracted that come under this category. Out of them, below mentioned were considered for this project.\n",
        "\n",
        "*   IFrame Redirection\n",
        "*   Status Bar Customization\n",
        "*   Disabling Right Click\n",
        "*   Website Forwarding\n",
        "\n",
        "Each of these features are explained and the coded below:"
      ],
      "metadata": {
        "id": "Tv_UMplALkc8"
      }
    },
    {
      "cell_type": "code",
      "source": [
        "# importing required packages for this section\n",
        "import requests"
      ],
      "metadata": {
        "id": "BOGINzPrLccF"
      },
      "execution_count": null,
      "outputs": []
    },
    {
      "cell_type": "markdown",
      "source": [
        "## IFrame Redirection\n",
        "\n",
        "IFrame is an HTML tag used to display an additional webpage into one that is currently shown. Phishers can make use of the “iframe” tag and make it invisible i.e. without frame borders. In this regard, phishers make use of the “frameBorder” attribute which causes the browser to render a visual delineation.\n",
        "\n",
        "If the iframe is empty or repsonse is not found then, the value assigned to this feature is 1 (phishing) or else 0 (legitimate)."
      ],
      "metadata": {
        "id": "ZYRM9baaLrAq"
      }
    },
    {
      "cell_type": "code",
      "source": [
        "#IFrame Redirection (iFrame)\n",
        "def iframe(response):\n",
        "  if response == \"\":\n",
        "      return 1\n",
        "  else:\n",
        "      if re.findall(r\"[<iframe>|<frameBorder>]\", response.text):\n",
        "          return 0\n",
        "      else:\n",
        "          return 1"
      ],
      "metadata": {
        "id": "o4ECr_BSLvtT"
      },
      "execution_count": null,
      "outputs": []
    },
    {
      "cell_type": "markdown",
      "source": [
        "### Status Bar Customization\n",
        "\n",
        "Phishers may use JavaScript to show a fake URL in the status bar to users. To extract this feature, we must dig-out the webpage source code, particularly the “onMouseOver” event, and check if it makes any changes on the status bar\n",
        "\n",
        "If the response is empty or onmouseover is found then, the value assigned to this feature is 1 (phishing) or else 0 (legitimate)."
      ],
      "metadata": {
        "id": "hqXOfN69L2oT"
      }
    },
    {
      "cell_type": "code",
      "source": [
        "#Checks the effect of mouse over on status bar (Mouse_Over)\n",
        "def mouseOver(response):\n",
        "  if response == \"\" :\n",
        "    return 1\n",
        "  else:\n",
        "    if re.findall(\"<script>.+onmouseover.+</script>\", response.text):\n",
        "      return 1\n",
        "    else:\n",
        "      return 0"
      ],
      "metadata": {
        "id": "wcEvZ6MELzMu"
      },
      "execution_count": null,
      "outputs": []
    },
    {
      "cell_type": "markdown",
      "source": [
        "### Disabling Right Click\n",
        "\n",
        "Phishers use JavaScript to disable the right-click function, so that users cannot view and save the webpage source code. This feature is treated exactly as “Using onMouseOver to hide the Link”. Nonetheless, for this feature, we will search for event “event.button==2” in the webpage source code and check if the right click is disabled.\n",
        "\n",
        "If the response is empty or onmouseover is not found then, the value assigned to this feature is 1 (phishing) or else 0 (legitimate)."
      ],
      "metadata": {
        "id": "nHqrA_92MG3N"
      }
    },
    {
      "cell_type": "code",
      "source": [
        "#Checks the status of the right click attribute (Right_Click)\n",
        "def rightClick(response):\n",
        "  if response == \"\":\n",
        "    return 1\n",
        "  else:\n",
        "    if re.findall(r\"event.button ?== ?2\", response.text):\n",
        "      return 0\n",
        "    else:\n",
        "      return 1#"
      ],
      "metadata": {
        "id": "qGPfitcHMGfL"
      },
      "execution_count": null,
      "outputs": []
    },
    {
      "cell_type": "markdown",
      "source": [
        "### Website Forwarding\n",
        "The fine line that distinguishes phishing websites from legitimate ones is how many times a website has been redirected. In our dataset, we find that legitimate websites have been redirected one time max. On the other hand, phishing websites containing this feature have been redirected at least 4 times.\n"
      ],
      "metadata": {
        "id": "Pzoj9Ip2MQfz"
      }
    },
    {
      "cell_type": "code",
      "source": [
        "\n",
        "#Checks the number of forwardings (Web_Forwards)\n",
        "def forwarding(response):\n",
        "  if response == \"\":\n",
        "    return 1\n",
        "  else:\n",
        "    if len(response.history) <= 2:\n",
        "      return 0\n",
        "    else:\n",
        "      return 1"
      ],
      "metadata": {
        "id": "HEvZr2i2L-Om"
      },
      "execution_count": null,
      "outputs": []
    },
    {
      "cell_type": "markdown",
      "source": [
        "## Computing URL Features\n",
        "\n",
        "Create a list and a function that calls the other functions and stores all the features of the URL in the list. We will extract the features of each URL and append to this list."
      ],
      "metadata": {
        "id": "NNqU5P1DMa6p"
      }
    },
    {
      "cell_type": "code",
      "source": [
        "#Function to extract features\n",
        "def featureExtraction(url,label):\n",
        "\n",
        "  features = []\n",
        "  #Address bar based features (10)\n",
        "  features.append(getDomain(url))\n",
        "  features.append(havingIP(url))\n",
        "  features.append(haveAtSign(url))\n",
        "  features.append(getLength(url))\n",
        "  features.append(getDepth(url))\n",
        "  features.append(redirection(url))\n",
        "  features.append(httpDomain(url))\n",
        "  features.append(tinyURL(url))\n",
        "  features.append(prefixSuffix(url))\n",
        "\n",
        "  #Domain based features (4)\n",
        "  dns = 0\n",
        "  try:\n",
        "    domain_name = whois.whois(urlparse(url).netloc)\n",
        "  except:\n",
        "    dns = 1\n",
        "\n",
        "  features.append(dns)\n",
        "  features.append(web_traffic(url))\n",
        "  features.append(1 if dns == 1 else domainAge(domain_name))\n",
        "  features.append(1 if dns == 1 else domainEnd(domain_name))\n",
        "\n",
        "  # HTML & Javascript based features (4)\n",
        "  try:\n",
        "    response = requests.get(url)\n",
        "  except:\n",
        "    response = \"\"\n",
        "  features.append(iframe(response))\n",
        "  features.append(mouseOver(response))\n",
        "  features.append(rightClick(response))\n",
        "  features.append(forwarding(response))\n",
        "  features.append(label)\n",
        "\n",
        "  return features"
      ],
      "metadata": {
        "id": "o8Ko1or2MWVJ"
      },
      "execution_count": null,
      "outputs": []
    },
    {
      "cell_type": "markdown",
      "source": [
        "### Legitimate URLs:\n",
        "\n",
        "Now, feature extraction is done on legitimate URLs."
      ],
      "metadata": {
        "id": "V6LRnv0XMxc5"
      }
    },
    {
      "cell_type": "code",
      "source": [
        "legurl.shape"
      ],
      "metadata": {
        "colab": {
          "base_uri": "https://localhost:8080/"
        },
        "id": "SfIJfHDfMrnS",
        "outputId": "e1ff263d-37ef-4a91-9459-2e221d265d69"
      },
      "execution_count": null,
      "outputs": [
        {
          "output_type": "execute_result",
          "data": {
            "text/plain": [
              "(5000, 1)"
            ]
          },
          "metadata": {},
          "execution_count": 130
        }
      ]
    },
    {
      "cell_type": "code",
      "source": [
        "#Extracting the feautres & storing them in a list\n",
        "leg_features = []\n",
        "label = 0\n",
        "\n",
        "for i in range(0, 5000):\n",
        "  url = legurl['URLs'][i]\n",
        "  leg_features.append(featureExtraction(url,label))"
      ],
      "metadata": {
        "colab": {
          "base_uri": "https://localhost:8080/"
        },
        "id": "_dsBCqRIM6Eq",
        "outputId": "243cc3fe-c17a-45f8-c5f9-374ac4e4f8ca"
      },
      "execution_count": null,
      "outputs": [
        {
          "metadata": {
            "tags": null
          },
          "name": "stdout",
          "output_type": "stream",
          "text": [
            "Error fetching Alexa rank for http%3A//graphicriver.net/search%3Fdate%3Dthis-month%26length_max%3D%26length_min%3D%26price_max%3D%26price_min%3D%26rating_min%3D%26sales%3D%26sort%3Dsales%26term%3D%26view%3Dlist: HTTPConnectionPool(host='data.alexa.com', port=80): Max retries exceeded with url: /data?cli=10&dat=s&url=http%3A//graphicriver.net/search%3Fdate%3Dthis-month%26length_max%3D%26length_min%3D%26price_max%3D%26price_min%3D%26rating_min%3D%26sales%3D%26sort%3Dsales%26term%3D%26view%3Dlist (Caused by NameResolutionError(\"<urllib3.connection.HTTPConnection object at 0x7e1317d1c580>: Failed to resolve 'data.alexa.com' ([Errno -2] Name or service not known)\"))\n",
            "Error fetching Alexa rank for http%3A//ecnavi.jp/redirect/%3Furl%3Dhttp%3A//www.cross-a.net/x.php%3Fid%3D1845_3212_22061_26563%26m%3D1004%26pid%3D%25user_id%25: HTTPConnectionPool(host='data.alexa.com', port=80): Max retries exceeded with url: /data?cli=10&dat=s&url=http%3A//ecnavi.jp/redirect/%3Furl%3Dhttp%3A//www.cross-a.net/x.php%3Fid%3D1845_3212_22061_26563%26m%3D1004%26pid%3D%25user_id%25 (Caused by NameResolutionError(\"<urllib3.connection.HTTPConnection object at 0x7e1317d1c820>: Failed to resolve 'data.alexa.com' ([Errno -2] Name or service not known)\"))\n",
            "Error fetching Alexa rank for https%3A//hubpages.com/signin%3Fexplain%3Dfollow%2BHubs%26url%3D%252Fhub%252FComfort-Theories-of-Religion: HTTPConnectionPool(host='data.alexa.com', port=80): Max retries exceeded with url: /data?cli=10&dat=s&url=https%3A//hubpages.com/signin%3Fexplain%3Dfollow%2BHubs%26url%3D%252Fhub%252FComfort-Theories-of-Religion (Caused by NameResolutionError(\"<urllib3.connection.HTTPConnection object at 0x7e1318c1ce80>: Failed to resolve 'data.alexa.com' ([Errno -2] Name or service not known)\"))\n",
            "Error fetching Alexa rank for http%3A//extratorrent.cc/torrent/4190536/AOMEI%2BBackupper%2BTechnician%2B%252B%2BServer%2BEdition%2B2.8.0%2B%252B%2BPatch%2B%252B%2BKey%2B%252B%2B100%2525%2BWorking.html: HTTPConnectionPool(host='data.alexa.com', port=80): Max retries exceeded with url: /data?cli=10&dat=s&url=http%3A//extratorrent.cc/torrent/4190536/AOMEI%2BBackupper%2BTechnician%2B%252B%2BServer%2BEdition%2B2.8.0%2B%252B%2BPatch%2B%252B%2BKey%2B%252B%2B100%2525%2BWorking.html (Caused by NameResolutionError(\"<urllib3.connection.HTTPConnection object at 0x7e1318c8be50>: Failed to resolve 'data.alexa.com' ([Errno -2] Name or service not known)\"))\n",
            "Error fetching Alexa rank for http%3A//icicibank.com/Personal-Banking/offers/offer-detail.page%3Fid%3Doffer-ezeego-domestic-airtravel-20141407112611060: HTTPConnectionPool(host='data.alexa.com', port=80): Max retries exceeded with url: /data?cli=10&dat=s&url=http%3A//icicibank.com/Personal-Banking/offers/offer-detail.page%3Fid%3Doffer-ezeego-domestic-airtravel-20141407112611060 (Caused by NameResolutionError(\"<urllib3.connection.HTTPConnection object at 0x7e1318c1ccd0>: Failed to resolve 'data.alexa.com' ([Errno -2] Name or service not known)\"))\n",
            "Error fetching Alexa rank for http%3A//nypost.com/2015/05/07/us-indifference-leaves-saudis-partnering-with-terrorists/: HTTPConnectionPool(host='data.alexa.com', port=80): Max retries exceeded with url: /data?cli=10&dat=s&url=http%3A//nypost.com/2015/05/07/us-indifference-leaves-saudis-partnering-with-terrorists/ (Caused by NameResolutionError(\"<urllib3.connection.HTTPConnection object at 0x7e1317d1d960>: Failed to resolve 'data.alexa.com' ([Errno -2] Name or service not known)\"))\n"
          ]
        },
        {
          "metadata": {
            "tags": null
          },
          "name": "stderr",
          "output_type": "stream",
          "text": [
            "2024-07-04 20:02:27,922 - whois.whois - ERROR - Error trying to connect to socket: closing socket - [Errno -2] Name or service not known\n",
            "ERROR:whois.whois:Error trying to connect to socket: closing socket - [Errno -2] Name or service not known\n"
          ]
        },
        {
          "metadata": {
            "tags": null
          },
          "name": "stdout",
          "output_type": "stream",
          "text": [
            "Error fetching Alexa rank for http%3A//kienthuc.net.vn/diem-thi/diem-chuan-dh-cong-nghe-giao-thong-van-tai-nam-2014-482407.html: HTTPConnectionPool(host='data.alexa.com', port=80): Max retries exceeded with url: /data?cli=10&dat=s&url=http%3A//kienthuc.net.vn/diem-thi/diem-chuan-dh-cong-nghe-giao-thong-van-tai-nam-2014-482407.html (Caused by NameResolutionError(\"<urllib3.connection.HTTPConnection object at 0x7e1318c1c9d0>: Failed to resolve 'data.alexa.com' ([Errno -2] Name or service not known)\"))\n",
            "Error fetching Alexa rank for http%3A//thenextweb.com/in/2015/04/16/india-wants-a-neutral-web-and-facebooks-internet-org-cant-be-a-part-of-it/gtm.js: HTTPConnectionPool(host='data.alexa.com', port=80): Max retries exceeded with url: /data?cli=10&dat=s&url=http%3A//thenextweb.com/in/2015/04/16/india-wants-a-neutral-web-and-facebooks-internet-org-cant-be-a-part-of-it/gtm.js (Caused by NameResolutionError(\"<urllib3.connection.HTTPConnection object at 0x7e1317d1f070>: Failed to resolve 'data.alexa.com' ([Errno -2] Name or service not known)\"))\n",
            "Error fetching Alexa rank for http%3A//tobogo.net/cdsb/board.php%3Fboard%3Dgreet%26bm%3Dview%26no%3D5716%26category%3D%26auth%3D%26page%3D1%26search%3D%26keyword%3D%26recom%3D: HTTPConnectionPool(host='data.alexa.com', port=80): Max retries exceeded with url: /data?cli=10&dat=s&url=http%3A//tobogo.net/cdsb/board.php%3Fboard%3Dgreet%26bm%3Dview%26no%3D5716%26category%3D%26auth%3D%26page%3D1%26search%3D%26keyword%3D%26recom%3D (Caused by NameResolutionError(\"<urllib3.connection.HTTPConnection object at 0x7e1318c1f010>: Failed to resolve 'data.alexa.com' ([Errno -2] Name or service not known)\"))\n",
            "Error fetching Alexa rank for http%3A//akhbarelyom.com/news/newdetails/411395/1/%25D9%2585%25D8%25AD%25D8%25A7%25D9%2581%25D8%25B8-%25D8%25A7%25D9%2584%25D8%25A8%25D8%25AD%25D9%258A%25D8%25B1.html: HTTPConnectionPool(host='data.alexa.com', port=80): Max retries exceeded with url: /data?cli=10&dat=s&url=http%3A//akhbarelyom.com/news/newdetails/411395/1/%25D9%2585%25D8%25AD%25D8%25A7%25D9%2581%25D8%25B8-%25D8%25A7%25D9%2584%25D8%25A8%25D8%25AD%25D9%258A%25D8%25B1.html (Caused by NameResolutionError(\"<urllib3.connection.HTTPConnection object at 0x7e1318c1eaa0>: Failed to resolve 'data.alexa.com' ([Errno -2] Name or service not known)\"))\n",
            "Error fetching Alexa rank for http%3A//tunein.com/radio/Carolina-Mudcats-at-Myrtle-Beach-Pelicans-May-13-2015-p729095/15480783/ca-pub-1542925551861702/ProgramTopBanner: HTTPConnectionPool(host='data.alexa.com', port=80): Max retries exceeded with url: /data?cli=10&dat=s&url=http%3A//tunein.com/radio/Carolina-Mudcats-at-Myrtle-Beach-Pelicans-May-13-2015-p729095/15480783/ca-pub-1542925551861702/ProgramTopBanner (Caused by NameResolutionError(\"<urllib3.connection.HTTPConnection object at 0x7e1317d1f670>: Failed to resolve 'data.alexa.com' ([Errno -2] Name or service not known)\"))\n",
            "Error fetching Alexa rank for https%3A//tune.pk/video/6046458/canelo-vs-kirkland-highlights-hbo-world-championship-boxing: HTTPConnectionPool(host='data.alexa.com', port=80): Max retries exceeded with url: /data?cli=10&dat=s&url=https%3A//tune.pk/video/6046458/canelo-vs-kirkland-highlights-hbo-world-championship-boxing (Caused by NameResolutionError(\"<urllib3.connection.HTTPConnection object at 0x7e1318c1fee0>: Failed to resolve 'data.alexa.com' ([Errno -2] Name or service not known)\"))\n",
            "Error fetching Alexa rank for http%3A//sfglobe.com/2015/05/01/six-baltimore-police-officers-charged-in-freddie-grays-death/%3Fsrc%3Dhome_feed: HTTPConnectionPool(host='data.alexa.com', port=80): Max retries exceeded with url: /data?cli=10&dat=s&url=http%3A//sfglobe.com/2015/05/01/six-baltimore-police-officers-charged-in-freddie-grays-death/%3Fsrc%3Dhome_feed (Caused by NameResolutionError(\"<urllib3.connection.HTTPConnection object at 0x7e1318c1ddb0>: Failed to resolve 'data.alexa.com' ([Errno -2] Name or service not known)\"))\n",
            "Error fetching Alexa rank for http%3A//mic.com/articles/107372/49-tremendous-things-florida-men-accomplished-this-year: HTTPConnectionPool(host='data.alexa.com', port=80): Max retries exceeded with url: /data?cli=10&dat=s&url=http%3A//mic.com/articles/107372/49-tremendous-things-florida-men-accomplished-this-year (Caused by NameResolutionError(\"<urllib3.connection.HTTPConnection object at 0x7e1318c1d030>: Failed to resolve 'data.alexa.com' ([Errno -2] Name or service not known)\"))\n",
            "Error fetching Alexa rank for http%3A//thenextweb.com/apps/2015/05/07/flickr-launches-redesigned-mobile-apps-encourages-you-to-upload-your-entire-camera-roll/gtm.js: HTTPConnectionPool(host='data.alexa.com', port=80): Max retries exceeded with url: /data?cli=10&dat=s&url=http%3A//thenextweb.com/apps/2015/05/07/flickr-launches-redesigned-mobile-apps-encourages-you-to-upload-your-entire-camera-roll/gtm.js (Caused by NameResolutionError(\"<urllib3.connection.HTTPConnection object at 0x7e1318c1c370>: Failed to resolve 'data.alexa.com' ([Errno -2] Name or service not known)\"))\n",
            "Error fetching Alexa rank for http%3A//couchtuner.eu.com/2013/05/anger-management-s2-e17-charlie-lets-kate-take-charge.html: HTTPConnectionPool(host='data.alexa.com', port=80): Max retries exceeded with url: /data?cli=10&dat=s&url=http%3A//couchtuner.eu.com/2013/05/anger-management-s2-e17-charlie-lets-kate-take-charge.html (Caused by NameResolutionError(\"<urllib3.connection.HTTPConnection object at 0x7e1318d681c0>: Failed to resolve 'data.alexa.com' ([Errno -2] Name or service not known)\"))\n",
            "Error fetching Alexa rank for http%3A//olx.in/hi/item/nokia-5800-express-music-perfect-working-condition-body-average-cond-IDTIzUp.html: HTTPConnectionPool(host='data.alexa.com', port=80): Max retries exceeded with url: /data?cli=10&dat=s&url=http%3A//olx.in/hi/item/nokia-5800-express-music-perfect-working-condition-body-average-cond-IDTIzUp.html (Caused by NameResolutionError(\"<urllib3.connection.HTTPConnection object at 0x7e1318d690f0>: Failed to resolve 'data.alexa.com' ([Errno -2] Name or service not known)\"))\n",
            "Error fetching Alexa rank for http%3A//venturebeat.com/2015/05/08/yelp-sale-rumor-reminds-us-that-social-is-terrible-as-a-business-even-if-it-did-change-the-web/: HTTPConnectionPool(host='data.alexa.com', port=80): Max retries exceeded with url: /data?cli=10&dat=s&url=http%3A//venturebeat.com/2015/05/08/yelp-sale-rumor-reminds-us-that-social-is-terrible-as-a-business-even-if-it-did-change-the-web/ (Caused by NameResolutionError(\"<urllib3.connection.HTTPConnection object at 0x7e1318c1c670>: Failed to resolve 'data.alexa.com' ([Errno -2] Name or service not known)\"))\n",
            "Error fetching Alexa rank for http%3A//allegro.pl/listing/listing.php%3Fid%3D122233%26order%3Dm%26string%3D%257Bstring%257D%26bmatch%3Dseng-ps-mp-p-sm-isqm-2-e-0402: HTTPConnectionPool(host='data.alexa.com', port=80): Max retries exceeded with url: /data?cli=10&dat=s&url=http%3A//allegro.pl/listing/listing.php%3Fid%3D122233%26order%3Dm%26string%3D%257Bstring%257D%26bmatch%3Dseng-ps-mp-p-sm-isqm-2-e-0402 (Caused by NameResolutionError(\"<urllib3.connection.HTTPConnection object at 0x7e1318c1fc10>: Failed to resolve 'data.alexa.com' ([Errno -2] Name or service not known)\"))\n",
            "Error fetching Alexa rank for http%3A//allegro.pl/listing/listing.php%3Fid%3D20782%26order%3Dm%26p%3D2%26string%3D%257Bstring%257D%26bmatch%3Dseng-v10-p-sm-isqm-2-o-0113: HTTPConnectionPool(host='data.alexa.com', port=80): Max retries exceeded with url: /data?cli=10&dat=s&url=http%3A//allegro.pl/listing/listing.php%3Fid%3D20782%26order%3Dm%26p%3D2%26string%3D%257Bstring%257D%26bmatch%3Dseng-v10-p-sm-isqm-2-o-0113 (Caused by NameResolutionError(\"<urllib3.connection.HTTPConnection object at 0x7e1318c1d7e0>: Failed to resolve 'data.alexa.com' ([Errno -2] Name or service not known)\"))\n",
            "Error fetching Alexa rank for http%3A//tinnhanh360.net/-ong-tay-de-thuong-ban-do-choi-dao-ha-noi-gay-ngac-nhien-thich-thu.html: HTTPConnectionPool(host='data.alexa.com', port=80): Max retries exceeded with url: /data?cli=10&dat=s&url=http%3A//tinnhanh360.net/-ong-tay-de-thuong-ban-do-choi-dao-ha-noi-gay-ngac-nhien-thich-thu.html (Caused by NameResolutionError(\"<urllib3.connection.HTTPConnection object at 0x7e1318c1c640>: Failed to resolve 'data.alexa.com' ([Errno -2] Name or service not known)\"))\n",
            "Error fetching Alexa rank for http%3A//metro.co.uk/2014/08/15/big-brother-2014-shock-twist-ashleigh-coyle-comes-second-4834723/: HTTPConnectionPool(host='data.alexa.com', port=80): Max retries exceeded with url: /data?cli=10&dat=s&url=http%3A//metro.co.uk/2014/08/15/big-brother-2014-shock-twist-ashleigh-coyle-comes-second-4834723/ (Caused by NameResolutionError(\"<urllib3.connection.HTTPConnection object at 0x7e1317d1ec20>: Failed to resolve 'data.alexa.com' ([Errno -2] Name or service not known)\"))\n",
            "Error fetching Alexa rank for http%3A//atwiki.jp/wiki/%25EF%25BC%25AD%25EF%25BC%25B5%25EF%25BC%25A7%25EF%25BC%25A5%25EF%25BC%25AE%2520%25E6%2582%259F%25E7%25A9%25BA: HTTPConnectionPool(host='data.alexa.com', port=80): Max retries exceeded with url: /data?cli=10&dat=s&url=http%3A//atwiki.jp/wiki/%25EF%25BC%25AD%25EF%25BC%25B5%25EF%25BC%25A7%25EF%25BC%25A5%25EF%25BC%25AE%2520%25E6%2582%259F%25E7%25A9%25BA (Caused by NameResolutionError(\"<urllib3.connection.HTTPConnection object at 0x7e1318c1f490>: Failed to resolve 'data.alexa.com' ([Errno -2] Name or service not known)\"))\n",
            "Error fetching Alexa rank for http%3A//emgn.com/tv/schnauzer-passes-out-with-excitement-when-he-is-reunited-with-his-human-after-2-years/: HTTPConnectionPool(host='data.alexa.com', port=80): Max retries exceeded with url: /data?cli=10&dat=s&url=http%3A//emgn.com/tv/schnauzer-passes-out-with-excitement-when-he-is-reunited-with-his-human-after-2-years/ (Caused by NameResolutionError(\"<urllib3.connection.HTTPConnection object at 0x7e1318d691b0>: Failed to resolve 'data.alexa.com' ([Errno -2] Name or service not known)\"))\n",
            "Error fetching Alexa rank for http%3A//nguyentandung.org/bo-truong-nguyen-bac-son-se-manh-tay-ngan-chan-tin-nhan-rac.html: HTTPConnectionPool(host='data.alexa.com', port=80): Max retries exceeded with url: /data?cli=10&dat=s&url=http%3A//nguyentandung.org/bo-truong-nguyen-bac-son-se-manh-tay-ngan-chan-tin-nhan-rac.html (Caused by NameResolutionError(\"<urllib3.connection.HTTPConnection object at 0x7e1318c1fdf0>: Failed to resolve 'data.alexa.com' ([Errno -2] Name or service not known)\"))\n"
          ]
        },
        {
          "metadata": {
            "tags": null
          },
          "name": "stderr",
          "output_type": "stream",
          "text": [
            "2024-07-04 20:03:49,342 - whois.whois - ERROR - Error trying to connect to socket: closing socket - [Errno -2] Name or service not known\n",
            "ERROR:whois.whois:Error trying to connect to socket: closing socket - [Errno -2] Name or service not known\n"
          ]
        },
        {
          "metadata": {
            "tags": null
          },
          "name": "stdout",
          "output_type": "stream",
          "text": [
            "Error fetching Alexa rank for http%3A//motthegioi.vn/tai-chinh-bat-dong-san/tu-17-nguoi-mua-nha-dat-phai-cong-them-hang-loat-chi-phi-187472.html: HTTPConnectionPool(host='data.alexa.com', port=80): Max retries exceeded with url: /data?cli=10&dat=s&url=http%3A//motthegioi.vn/tai-chinh-bat-dong-san/tu-17-nguoi-mua-nha-dat-phai-cong-them-hang-loat-chi-phi-187472.html (Caused by NameResolutionError(\"<urllib3.connection.HTTPConnection object at 0x7e1318c8b9d0>: Failed to resolve 'data.alexa.com' ([Errno -2] Name or service not known)\"))\n",
            "Error fetching Alexa rank for http%3A//spankbang.com/4ze1/video/brunette%2Bwith%2Bbig%2Bboobs%2Bfucked%2Bin%2Ba%2Bcellar%2Bpublic%2Bagent: HTTPConnectionPool(host='data.alexa.com', port=80): Max retries exceeded with url: /data?cli=10&dat=s&url=http%3A//spankbang.com/4ze1/video/brunette%2Bwith%2Bbig%2Bboobs%2Bfucked%2Bin%2Ba%2Bcellar%2Bpublic%2Bagent (Caused by NameResolutionError(\"<urllib3.connection.HTTPConnection object at 0x7e1318c1f9a0>: Failed to resolve 'data.alexa.com' ([Errno -2] Name or service not known)\"))\n",
            "Error fetching Alexa rank for http%3A//torcache.net/torrent/FECDCFB88429EDAE6184E26D63EDD5A1AB2B1736.torrent%3Ftitle%3D%5Bkickass.to%5Dbro.s.before.ho.s.2013.720p.brrip.nl.gesproken.dutchreleaseteam: HTTPConnectionPool(host='data.alexa.com', port=80): Max retries exceeded with url: /data?cli=10&dat=s&url=http%3A//torcache.net/torrent/FECDCFB88429EDAE6184E26D63EDD5A1AB2B1736.torrent%3Ftitle%3D%5Bkickass.to%5Dbro.s.before.ho.s.2013.720p.brrip.nl.gesproken.dutchreleaseteam (Caused by NameResolutionError(\"<urllib3.connection.HTTPConnection object at 0x7e1318d69480>: Failed to resolve 'data.alexa.com' ([Errno -2] Name or service not known)\"))\n",
            "Error fetching Alexa rank for http%3A//mic.com/articles/117370/baltimore-reveals-why-we-need-our-musicians-now-more-than-ever: HTTPConnectionPool(host='data.alexa.com', port=80): Max retries exceeded with url: /data?cli=10&dat=s&url=http%3A//mic.com/articles/117370/baltimore-reveals-why-we-need-our-musicians-now-more-than-ever (Caused by NameResolutionError(\"<urllib3.connection.HTTPConnection object at 0x7e1318c1d330>: Failed to resolve 'data.alexa.com' ([Errno -2] Name or service not known)\"))\n",
            "Error fetching Alexa rank for http%3A//thenextweb.com/dd/2014/04/08/ux-designers-side-drawer-navigation-costing-half-user-engagement/feed/gtm.start: HTTPConnectionPool(host='data.alexa.com', port=80): Max retries exceeded with url: /data?cli=10&dat=s&url=http%3A//thenextweb.com/dd/2014/04/08/ux-designers-side-drawer-navigation-costing-half-user-engagement/feed/gtm.start (Caused by NameResolutionError(\"<urllib3.connection.HTTPConnection object at 0x7e1318d68430>: Failed to resolve 'data.alexa.com' ([Errno -2] Name or service not known)\"))\n",
            "Error fetching Alexa rank for http%3A//emgn.com/movies/person-of-interest-what-to-expect-from-season-4-release-date/: HTTPConnectionPool(host='data.alexa.com', port=80): Max retries exceeded with url: /data?cli=10&dat=s&url=http%3A//emgn.com/movies/person-of-interest-what-to-expect-from-season-4-release-date/ (Caused by NameResolutionError(\"<urllib3.connection.HTTPConnection object at 0x7e1318c1f8b0>: Failed to resolve 'data.alexa.com' ([Errno -2] Name or service not known)\"))\n",
            "Error fetching Alexa rank for http%3A//depositphotos.com/login.html%3Furl%3D%252F34608623%252Fstock-illustration-vector-abstract-3d-road-infographics.html: HTTPConnectionPool(host='data.alexa.com', port=80): Max retries exceeded with url: /data?cli=10&dat=s&url=http%3A//depositphotos.com/login.html%3Furl%3D%252F34608623%252Fstock-illustration-vector-abstract-3d-road-infographics.html (Caused by NameResolutionError(\"<urllib3.connection.HTTPConnection object at 0x7e1318c1f400>: Failed to resolve 'data.alexa.com' ([Errno -2] Name or service not known)\"))\n",
            "Error fetching Alexa rank for http%3A//serverfault.com/questions/52370/what-is-the-order-group-policy-settings-are-applied: HTTPConnectionPool(host='data.alexa.com', port=80): Max retries exceeded with url: /data?cli=10&dat=s&url=http%3A//serverfault.com/questions/52370/what-is-the-order-group-policy-settings-are-applied (Caused by NameResolutionError(\"<urllib3.connection.HTTPConnection object at 0x7e1318c1d4e0>: Failed to resolve 'data.alexa.com' ([Errno -2] Name or service not known)\"))\n",
            "Error fetching Alexa rank for http%3A//kakaku.com/kaden/portable-dvd-player/ranking_2026/pricedown/div-gpt-ad-k/header_text: HTTPConnectionPool(host='data.alexa.com', port=80): Max retries exceeded with url: /data?cli=10&dat=s&url=http%3A//kakaku.com/kaden/portable-dvd-player/ranking_2026/pricedown/div-gpt-ad-k/header_text (Caused by NameResolutionError(\"<urllib3.connection.HTTPConnection object at 0x7e1318c1fac0>: Failed to resolve 'data.alexa.com' ([Errno -2] Name or service not known)\"))\n",
            "Error fetching Alexa rank for http%3A//indianexpress.com/article/world/asia/pak-officer-gave-up-osama-kayani-isi-chief-helped-us/: HTTPConnectionPool(host='data.alexa.com', port=80): Max retries exceeded with url: /data?cli=10&dat=s&url=http%3A//indianexpress.com/article/world/asia/pak-officer-gave-up-osama-kayani-isi-chief-helped-us/ (Caused by NameResolutionError(\"<urllib3.connection.HTTPConnection object at 0x7e1318c1d510>: Failed to resolve 'data.alexa.com' ([Errno -2] Name or service not known)\"))\n",
            "Error fetching Alexa rank for http%3A//nypost.com/2015/05/13/brooklyn-man-kills-cheating-girlfriends-lover-then-self/%3Fshare%3Demail: HTTPConnectionPool(host='data.alexa.com', port=80): Max retries exceeded with url: /data?cli=10&dat=s&url=http%3A//nypost.com/2015/05/13/brooklyn-man-kills-cheating-girlfriends-lover-then-self/%3Fshare%3Demail (Caused by NameResolutionError(\"<urllib3.connection.HTTPConnection object at 0x7e1318c1c2b0>: Failed to resolve 'data.alexa.com' ([Errno -2] Name or service not known)\"))\n",
            "Error fetching Alexa rank for http%3A//distractify.com/post/related/id/5543af854a0c4b511d7c70a2/skip/30/limit/10/back/0: HTTPConnectionPool(host='data.alexa.com', port=80): Max retries exceeded with url: /data?cli=10&dat=s&url=http%3A//distractify.com/post/related/id/5543af854a0c4b511d7c70a2/skip/30/limit/10/back/0 (Caused by NameResolutionError(\"<urllib3.connection.HTTPConnection object at 0x7e1318c1e3e0>: Failed to resolve 'data.alexa.com' ([Errno -2] Name or service not known)\"))\n",
            "Error fetching Alexa rank for http%3A//sourceforge.net/directory/communications/add_facet_filter%3Ffacet%3Dos%26constraint%3DMac: HTTPConnectionPool(host='data.alexa.com', port=80): Max retries exceeded with url: /data?cli=10&dat=s&url=http%3A//sourceforge.net/directory/communications/add_facet_filter%3Ffacet%3Dos%26constraint%3DMac (Caused by NameResolutionError(\"<urllib3.connection.HTTPConnection object at 0x7e1318c1ec80>: Failed to resolve 'data.alexa.com' ([Errno -2] Name or service not known)\"))\n",
            "Error fetching Alexa rank for http%3A//babal.net/books/view/960/%25D8%25AE%25D9%258A%25D8%25A7%25D9%2586%25D8%25A9-%25D8%25A7%25D9%2584%25D9%2585%25D8%25AB%25D9%2582%25D9%2581%25D9%258A%25D9%2586: HTTPConnectionPool(host='data.alexa.com', port=80): Max retries exceeded with url: /data?cli=10&dat=s&url=http%3A//babal.net/books/view/960/%25D8%25AE%25D9%258A%25D8%25A7%25D9%2586%25D8%25A9-%25D8%25A7%25D9%2584%25D9%2585%25D8%25AB%25D9%2582%25D9%2581%25D9%258A%25D9%2586 (Caused by NameResolutionError(\"<urllib3.connection.HTTPConnection object at 0x7e1318c1ea70>: Failed to resolve 'data.alexa.com' ([Errno -2] Name or service not known)\"))\n",
            "Error fetching Alexa rank for http%3A//serverfault.com/questions/690852/use-powershell-to-start-a-gui-program-on-a-remote-machine: HTTPConnectionPool(host='data.alexa.com', port=80): Max retries exceeded with url: /data?cli=10&dat=s&url=http%3A//serverfault.com/questions/690852/use-powershell-to-start-a-gui-program-on-a-remote-machine (Caused by NameResolutionError(\"<urllib3.connection.HTTPConnection object at 0x7e1318c1e890>: Failed to resolve 'data.alexa.com' ([Errno -2] Name or service not known)\"))\n",
            "Error fetching Alexa rank for http%3A//cookpad.com/login%3Frt%3D%252Fcategory%252Frecommend%252F590%253Frt%253D%25252Fcategory%25252F590: HTTPConnectionPool(host='data.alexa.com', port=80): Max retries exceeded with url: /data?cli=10&dat=s&url=http%3A//cookpad.com/login%3Frt%3D%252Fcategory%252Frecommend%252F590%253Frt%253D%25252Fcategory%25252F590 (Caused by NameResolutionError(\"<urllib3.connection.HTTPConnection object at 0x7e1318c1d8d0>: Failed to resolve 'data.alexa.com' ([Errno -2] Name or service not known)\"))\n",
            "Error fetching Alexa rank for http%3A//plarium.com/en/strategy-games/stormfall-age-of-war/news/withdraw-to-the-catacombs/: HTTPConnectionPool(host='data.alexa.com', port=80): Max retries exceeded with url: /data?cli=10&dat=s&url=http%3A//plarium.com/en/strategy-games/stormfall-age-of-war/news/withdraw-to-the-catacombs/ (Caused by NameResolutionError(\"<urllib3.connection.HTTPConnection object at 0x7e1318c1ff40>: Failed to resolve 'data.alexa.com' ([Errno -2] Name or service not known)\"))\n",
            "Error fetching Alexa rank for http%3A//pikabu.ru/tag/%25D1%2581%25D1%2582%25D0%25B0%25D0%25B2%25D1%2580%25D0%25BE%25D0%25BF%25D0%25BE%25D0%25BB%25D1%258C/hot: HTTPConnectionPool(host='data.alexa.com', port=80): Max retries exceeded with url: /data?cli=10&dat=s&url=http%3A//pikabu.ru/tag/%25D1%2581%25D1%2582%25D0%25B0%25D0%25B2%25D1%2580%25D0%25BE%25D0%25BF%25D0%25BE%25D0%25BB%25D1%258C/hot (Caused by NameResolutionError(\"<urllib3.connection.HTTPConnection object at 0x7e1318c1d000>: Failed to resolve 'data.alexa.com' ([Errno -2] Name or service not known)\"))\n",
            "Error fetching Alexa rank for http%3A//grantland.com/hollywood-prospectus/2015-oscar-nomination-predictions-best-director-best-picture/: HTTPConnectionPool(host='data.alexa.com', port=80): Max retries exceeded with url: /data?cli=10&dat=s&url=http%3A//grantland.com/hollywood-prospectus/2015-oscar-nomination-predictions-best-director-best-picture/ (Caused by NameResolutionError(\"<urllib3.connection.HTTPConnection object at 0x7e1318c1eaa0>: Failed to resolve 'data.alexa.com' ([Errno -2] Name or service not known)\"))\n",
            "Error fetching Alexa rank for http%3A//allegro.pl/listing/user/listing.php%3Fus_id%3D25662671%26order%3Dp%26string%3DB-110%2BHIT%26search_scope%3DuserItems-25662671%26bmatch%3Ds0-default-0113%26sh_dwh_token%3Dd0b6dd74a8394345128e20d296cb1c5e: HTTPConnectionPool(host='data.alexa.com', port=80): Max retries exceeded with url: /data?cli=10&dat=s&url=http%3A//allegro.pl/listing/user/listing.php%3Fus_id%3D25662671%26order%3Dp%26string%3DB-110%2BHIT%26search_scope%3DuserItems-25662671%26bmatch%3Ds0-default-0113%26sh_dwh_token%3Dd0b6dd74a8394345128e20d296cb1c5e (Caused by NameResolutionError(\"<urllib3.connection.HTTPConnection object at 0x7e1318c1c8b0>: Failed to resolve 'data.alexa.com' ([Errno -2] Name or service not known)\"))\n",
            "Error fetching Alexa rank for http%3A//nguyentandung.org/bai-do-xe-ngam-trong-cong-vien-thong-nhat-thu-hoi-von-cach-nao.html: HTTPConnectionPool(host='data.alexa.com', port=80): Max retries exceeded with url: /data?cli=10&dat=s&url=http%3A//nguyentandung.org/bai-do-xe-ngam-trong-cong-vien-thong-nhat-thu-hoi-von-cach-nao.html (Caused by NameResolutionError(\"<urllib3.connection.HTTPConnection object at 0x7e1318c1d690>: Failed to resolve 'data.alexa.com' ([Errno -2] Name or service not known)\"))\n",
            "Error fetching Alexa rank for http%3A//allegro.pl/listing/listing.php%3Fbmatch%3Dseng-v6-p-sm-isqm-2-ce-0113%26id%3D175%26order%3Dm%26string%3D%257Bstring%257D: HTTPConnectionPool(host='data.alexa.com', port=80): Max retries exceeded with url: /data?cli=10&dat=s&url=http%3A//allegro.pl/listing/listing.php%3Fbmatch%3Dseng-v6-p-sm-isqm-2-ce-0113%26id%3D175%26order%3Dm%26string%3D%257Bstring%257D (Caused by NameResolutionError(\"<urllib3.connection.HTTPConnection object at 0x7e1318c1ff10>: Failed to resolve 'data.alexa.com' ([Errno -2] Name or service not known)\"))\n",
            "Error fetching Alexa rank for http%3A//europa.eu/about-eu/agencies/regulatory_agencies_bodies/policy_agencies/eurofound/index_en.htm: HTTPConnectionPool(host='data.alexa.com', port=80): Max retries exceeded with url: /data?cli=10&dat=s&url=http%3A//europa.eu/about-eu/agencies/regulatory_agencies_bodies/policy_agencies/eurofound/index_en.htm (Caused by NameResolutionError(\"<urllib3.connection.HTTPConnection object at 0x7e1318c1d930>: Failed to resolve 'data.alexa.com' ([Errno -2] Name or service not known)\"))\n",
            "Error fetching Alexa rank for http%3A//extratorrent.cc/torrent/4190380/VA-Unusual_Techno_One_LP-WEB-2015-CBR_INT.html: HTTPConnectionPool(host='data.alexa.com', port=80): Max retries exceeded with url: /data?cli=10&dat=s&url=http%3A//extratorrent.cc/torrent/4190380/VA-Unusual_Techno_One_LP-WEB-2015-CBR_INT.html (Caused by NameResolutionError(\"<urllib3.connection.HTTPConnection object at 0x7e1318c1c9a0>: Failed to resolve 'data.alexa.com' ([Errno -2] Name or service not known)\"))\n"
          ]
        },
        {
          "metadata": {
            "tags": null
          },
          "name": "stderr",
          "output_type": "stream",
          "text": [
            "2024-07-04 20:04:40,914 - whois.whois - ERROR - Error trying to connect to socket: closing socket - timed out\n",
            "ERROR:whois.whois:Error trying to connect to socket: closing socket - timed out\n"
          ]
        },
        {
          "metadata": {
            "tags": null
          },
          "name": "stdout",
          "output_type": "stream",
          "text": [
            "Error fetching Alexa rank for http%3A//persianblog.ir/tags/42604/8/%25d8%25b3%25d9%2587%25d8%25b1%25d8%25a7%25d8%25a8_%25d8%25b3%25d9%25be%25d9%2587%25d8%25b1%25db%258c/: HTTPConnectionPool(host='data.alexa.com', port=80): Max retries exceeded with url: /data?cli=10&dat=s&url=http%3A//persianblog.ir/tags/42604/8/%25d8%25b3%25d9%2587%25d8%25b1%25d8%25a7%25d8%25a8_%25d8%25b3%25d9%25be%25d9%2587%25d8%25b1%25db%258c/ (Caused by NameResolutionError(\"<urllib3.connection.HTTPConnection object at 0x7e1318c1d7b0>: Failed to resolve 'data.alexa.com' ([Errno -2] Name or service not known)\"))\n",
            "Error fetching Alexa rank for http%3A//distractify.com/post/related/id/5537c6314a0c4b89316cdbdf/skip/20/limit/10/back/0: HTTPConnectionPool(host='data.alexa.com', port=80): Max retries exceeded with url: /data?cli=10&dat=s&url=http%3A//distractify.com/post/related/id/5537c6314a0c4b89316cdbdf/skip/20/limit/10/back/0 (Caused by NameResolutionError(\"<urllib3.connection.HTTPConnection object at 0x7e1318c8bdc0>: Failed to resolve 'data.alexa.com' ([Errno -2] Name or service not known)\"))\n"
          ]
        },
        {
          "metadata": {
            "tags": null
          },
          "name": "stderr",
          "output_type": "stream",
          "text": [
            "2024-07-04 20:04:46,806 - whois.whois - ERROR - Error trying to connect to socket: closing socket - [Errno -2] Name or service not known\n",
            "ERROR:whois.whois:Error trying to connect to socket: closing socket - [Errno -2] Name or service not known\n"
          ]
        },
        {
          "metadata": {
            "tags": null
          },
          "name": "stdout",
          "output_type": "stream",
          "text": [
            "Error fetching Alexa rank for http%3A//kenh14.vn/star/lo-dien-ban-trai-hot-boy-cua-van-mai-huong-20140716121655295.chn: HTTPConnectionPool(host='data.alexa.com', port=80): Max retries exceeded with url: /data?cli=10&dat=s&url=http%3A//kenh14.vn/star/lo-dien-ban-trai-hot-boy-cua-van-mai-huong-20140716121655295.chn (Caused by NameResolutionError(\"<urllib3.connection.HTTPConnection object at 0x7e1318c1cc40>: Failed to resolve 'data.alexa.com' ([Errno -2] Name or service not known)\"))\n",
            "Error fetching Alexa rank for https%3A//twitter.com/share%3Furl%3Dhttp%253A%252F%252Fhubpages.com%252Fhub%252FWhats-the-difference-between-self-esteem-and-confidence%26text%3DDefinitions%2Bof%2BConfidence%2B%2526%2BSelf%2BEsteem%2B-%2BWhat%2527s%2Bthe%2BDifference%253F: HTTPConnectionPool(host='data.alexa.com', port=80): Max retries exceeded with url: /data?cli=10&dat=s&url=https%3A//twitter.com/share%3Furl%3Dhttp%253A%252F%252Fhubpages.com%252Fhub%252FWhats-the-difference-between-self-esteem-and-confidence%26text%3DDefinitions%2Bof%2BConfidence%2B%2526%2BSelf%2BEsteem%2B-%2BWhat%2527s%2Bthe%2BDifference%253F (Caused by NameResolutionError(\"<urllib3.connection.HTTPConnection object at 0x7e1318c1dbd0>: Failed to resolve 'data.alexa.com' ([Errno -2] Name or service not known)\"))\n",
            "Error fetching Alexa rank for http%3A//nesn.com/2015/04/draftkings-giancarlo-stanton-mookie-betts-in-tom-carons-fantasy-lineup/: HTTPConnectionPool(host='data.alexa.com', port=80): Max retries exceeded with url: /data?cli=10&dat=s&url=http%3A//nesn.com/2015/04/draftkings-giancarlo-stanton-mookie-betts-in-tom-carons-fantasy-lineup/ (Caused by NameResolutionError(\"<urllib3.connection.HTTPConnection object at 0x7e1318c1ff40>: Failed to resolve 'data.alexa.com' ([Errno -2] Name or service not known)\"))\n",
            "Error fetching Alexa rank for http%3A//fishki.net/1526766-kapello-zajavil-o-bezumii-prezidenta-rfs.html%3Fmode%3Drecent: HTTPConnectionPool(host='data.alexa.com', port=80): Max retries exceeded with url: /data?cli=10&dat=s&url=http%3A//fishki.net/1526766-kapello-zajavil-o-bezumii-prezidenta-rfs.html%3Fmode%3Drecent (Caused by NameResolutionError(\"<urllib3.connection.HTTPConnection object at 0x7e1318c1f190>: Failed to resolve 'data.alexa.com' ([Errno -2] Name or service not known)\"))\n",
            "Error fetching Alexa rank for http%3A//syosetu.com/searchuser/search/index.php%3Fname1st%3D%25E3%2582%2580%26all%3D1%26all2%3D1%26all3%3D1%26all4%3D1%26p%3D10: HTTPConnectionPool(host='data.alexa.com', port=80): Max retries exceeded with url: /data?cli=10&dat=s&url=http%3A//syosetu.com/searchuser/search/index.php%3Fname1st%3D%25E3%2582%2580%26all%3D1%26all2%3D1%26all3%3D1%26all4%3D1%26p%3D10 (Caused by NameResolutionError(\"<urllib3.connection.HTTPConnection object at 0x7e1318c1dd50>: Failed to resolve 'data.alexa.com' ([Errno -2] Name or service not known)\"))\n",
            "Error fetching Alexa rank for http%3A//akhbarelyom.com/news/newdetails/411497/1/%25D9%2585%25D8%25B5%25D8%25B1-%25D8%25A7%25D9%2584%25D8%25B9%25D8%25B7%25D8%25A7%25D8%25A1-%25D8%25AA.html: HTTPConnectionPool(host='data.alexa.com', port=80): Max retries exceeded with url: /data?cli=10&dat=s&url=http%3A//akhbarelyom.com/news/newdetails/411497/1/%25D9%2585%25D8%25B5%25D8%25B1-%25D8%25A7%25D9%2584%25D8%25B9%25D8%25B7%25D8%25A7%25D8%25A1-%25D8%25AA.html (Caused by NameResolutionError(\"<urllib3.connection.HTTPConnection object at 0x7e1318c1c610>: Failed to resolve 'data.alexa.com' ([Errno -2] Name or service not known)\"))\n",
            "Error fetching Alexa rank for http%3A//allegro.pl/triumph-stringi-precious-essence-string-granat-40-i5035632976.html: HTTPConnectionPool(host='data.alexa.com', port=80): Max retries exceeded with url: /data?cli=10&dat=s&url=http%3A//allegro.pl/triumph-stringi-precious-essence-string-granat-40-i5035632976.html (Caused by NameResolutionError(\"<urllib3.connection.HTTPConnection object at 0x7e1318c1e950>: Failed to resolve 'data.alexa.com' ([Errno -2] Name or service not known)\"))\n",
            "Error fetching Alexa rank for http%3A//getpocket.com/signup%3Fmode%3Dsocialmode%26route%3Dhttp%3A//getpocket.com/p/pocket-topics/fitness: HTTPConnectionPool(host='data.alexa.com', port=80): Max retries exceeded with url: /data?cli=10&dat=s&url=http%3A//getpocket.com/signup%3Fmode%3Dsocialmode%26route%3Dhttp%3A//getpocket.com/p/pocket-topics/fitness (Caused by NameResolutionError(\"<urllib3.connection.HTTPConnection object at 0x7e1318c1d8a0>: Failed to resolve 'data.alexa.com' ([Errno -2] Name or service not known)\"))\n",
            "Error fetching Alexa rank for http%3A//mylust.com/videos/235751/sexy-hentai-chick-gets-her-huge-succulent-tits-squeezed/: HTTPConnectionPool(host='data.alexa.com', port=80): Max retries exceeded with url: /data?cli=10&dat=s&url=http%3A//mylust.com/videos/235751/sexy-hentai-chick-gets-her-huge-succulent-tits-squeezed/ (Caused by NameResolutionError(\"<urllib3.connection.HTTPConnection object at 0x7e1318c1e860>: Failed to resolve 'data.alexa.com' ([Errno -2] Name or service not known)\"))\n",
            "Error fetching Alexa rank for http%3A//censor.net.ua/photo_news/335629/v_tsentre_donetska_ural_boevikov_dnr_razdavil_jiguli_2_pogibshih_narod_ne_protestuet_foto: HTTPConnectionPool(host='data.alexa.com', port=80): Max retries exceeded with url: /data?cli=10&dat=s&url=http%3A//censor.net.ua/photo_news/335629/v_tsentre_donetska_ural_boevikov_dnr_razdavil_jiguli_2_pogibshih_narod_ne_protestuet_foto (Caused by NameResolutionError(\"<urllib3.connection.HTTPConnection object at 0x7e1318c1f280>: Failed to resolve 'data.alexa.com' ([Errno -2] Name or service not known)\"))\n",
            "Error fetching Alexa rank for http%3A//pornsharing.com/latina-girl-chloe-amour-and-busty-blonde-step-mom-julia-ann-get-face-fucked_v78082: HTTPConnectionPool(host='data.alexa.com', port=80): Max retries exceeded with url: /data?cli=10&dat=s&url=http%3A//pornsharing.com/latina-girl-chloe-amour-and-busty-blonde-step-mom-julia-ann-get-face-fucked_v78082 (Caused by NameResolutionError(\"<urllib3.connection.HTTPConnection object at 0x7e1318c1faf0>: Failed to resolve 'data.alexa.com' ([Errno -2] Name or service not known)\"))\n",
            "Error fetching Alexa rank for http%3A//genius.com/4810956/Ol-dirty-bastard-never-before-seen-ol-dirty-bastard-raw-and-uncut-interview/But-its-just-hey-the-kids-love-dirty-you-know-what-i-mean-every-time-they-see-dirty-they-smile-you-know-what-i-mean: HTTPConnectionPool(host='data.alexa.com', port=80): Max retries exceeded with url: /data?cli=10&dat=s&url=http%3A//genius.com/4810956/Ol-dirty-bastard-never-before-seen-ol-dirty-bastard-raw-and-uncut-interview/But-its-just-hey-the-kids-love-dirty-you-know-what-i-mean-every-time-they-see-dirty-they-smile-you-know-what-i-mean (Caused by NameResolutionError(\"<urllib3.connection.HTTPConnection object at 0x7e1318c1d6c0>: Failed to resolve 'data.alexa.com' ([Errno -2] Name or service not known)\"))\n",
            "Error fetching Alexa rank for http%3A//sourceforge.net/directory/communications/add_facet_filter%3Ffacet%3Dlanguage%26constraint%3DPL%252FSQL: HTTPConnectionPool(host='data.alexa.com', port=80): Max retries exceeded with url: /data?cli=10&dat=s&url=http%3A//sourceforge.net/directory/communications/add_facet_filter%3Ffacet%3Dlanguage%26constraint%3DPL%252FSQL (Caused by NameResolutionError(\"<urllib3.connection.HTTPConnection object at 0x7e1318c1c6d0>: Failed to resolve 'data.alexa.com' ([Errno -2] Name or service not known)\"))\n",
            "Error fetching Alexa rank for http%3A//codecanyon.net/item/bitdrop-file-hosting-with-short-url-link/full_screen_preview/426023: HTTPConnectionPool(host='data.alexa.com', port=80): Max retries exceeded with url: /data?cli=10&dat=s&url=http%3A//codecanyon.net/item/bitdrop-file-hosting-with-short-url-link/full_screen_preview/426023 (Caused by NameResolutionError(\"<urllib3.connection.HTTPConnection object at 0x7e1318c1f940>: Failed to resolve 'data.alexa.com' ([Errno -2] Name or service not known)\"))\n",
            "Error fetching Alexa rank for http%3A//qz.com/404309/photos-silicon-valley-fashion-week-kicks-off-with-drone-models/: HTTPConnectionPool(host='data.alexa.com', port=80): Max retries exceeded with url: /data?cli=10&dat=s&url=http%3A//qz.com/404309/photos-silicon-valley-fashion-week-kicks-off-with-drone-models/ (Caused by NameResolutionError(\"<urllib3.connection.HTTPConnection object at 0x7e1318c1cb80>: Failed to resolve 'data.alexa.com' ([Errno -2] Name or service not known)\"))\n"
          ]
        },
        {
          "metadata": {
            "tags": null
          },
          "name": "stderr",
          "output_type": "stream",
          "text": [
            "2024-07-04 20:05:14,400 - whois.whois - ERROR - Error trying to connect to socket: closing socket - [Errno -2] Name or service not known\n",
            "ERROR:whois.whois:Error trying to connect to socket: closing socket - [Errno -2] Name or service not known\n"
          ]
        },
        {
          "metadata": {
            "tags": null
          },
          "name": "stdout",
          "output_type": "stream",
          "text": [
            "Error fetching Alexa rank for http%3A//kenh14.vn/2-tek/ban-jailbreak-he-dieu-hanh-ios-613-toi-ios-615-chinh-thuc-trinh-lang-2013122404361169.chn: HTTPConnectionPool(host='data.alexa.com', port=80): Max retries exceeded with url: /data?cli=10&dat=s&url=http%3A//kenh14.vn/2-tek/ban-jailbreak-he-dieu-hanh-ios-613-toi-ios-615-chinh-thuc-trinh-lang-2013122404361169.chn (Caused by NameResolutionError(\"<urllib3.connection.HTTPConnection object at 0x7e1318c1fd90>: Failed to resolve 'data.alexa.com' ([Errno -2] Name or service not known)\"))\n",
            "Error fetching Alexa rank for http%3A//uproxx.com/movies/2015/04/paul-bettany-gives-us-a-glimpse-of-vision-in-action-in-avengers-age-of-ultron/: HTTPConnectionPool(host='data.alexa.com', port=80): Max retries exceeded with url: /data?cli=10&dat=s&url=http%3A//uproxx.com/movies/2015/04/paul-bettany-gives-us-a-glimpse-of-vision-in-action-in-avengers-age-of-ultron/ (Caused by NameResolutionError(\"<urllib3.connection.HTTPConnection object at 0x7e1318c1d8a0>: Failed to resolve 'data.alexa.com' ([Errno -2] Name or service not known)\"))\n",
            "Error fetching Alexa rank for http%3A//babal.net/women/view/80/%25D8%25AF%25D9%2584%25D9%2591%25D9%2584%25D9%258A-%25D9%2586%25D9%2581%25D8%25B3%25D9%2583-%25D8%25A3%25D9%258A%25D8%25AA%25D9%2587%25D8%25A7-%25D8%25A7%25D9%2584%25D8%25A3%25D9%2585-%25D9%2585%25D8%25B9-%25D9%2587%25D8%25B0%25D9%2587-%25D8%25A7%25D9%2584%25D9%2586%25D8%25B5%25D8%25A7%25D8%25A6%25D8%25AD: HTTPConnectionPool(host='data.alexa.com', port=80): Max retries exceeded with url: /data?cli=10&dat=s&url=http%3A//babal.net/women/view/80/%25D8%25AF%25D9%2584%25D9%2591%25D9%2584%25D9%258A-%25D9%2586%25D9%2581%25D8%25B3%25D9%2583-%25D8%25A3%25D9%258A%25D8%25AA%25D9%2587%25D8%25A7-%25D8%25A7%25D9%2584%25D8%25A3%25D9%2585-%25D9%2585%25D8%25B9-%25D9%2587%25D8%25B0%25D9%2587-%25D8%25A7%25D9%2584%25D9%2586%25D8%25B5%25D8%25A7%25D8%25A6%25D8%25AD (Caused by NameResolutionError(\"<urllib3.connection.HTTPConnection object at 0x7e1318c1c9a0>: Failed to resolve 'data.alexa.com' ([Errno -2] Name or service not known)\"))\n",
            "Error fetching Alexa rank for http%3A//mic.com/articles/116370/avengers-stars-sexist-jokes-illustrate-a-major-problem-with-the-comic-book-industry: HTTPConnectionPool(host='data.alexa.com', port=80): Max retries exceeded with url: /data?cli=10&dat=s&url=http%3A//mic.com/articles/116370/avengers-stars-sexist-jokes-illustrate-a-major-problem-with-the-comic-book-industry (Caused by NameResolutionError(\"<urllib3.connection.HTTPConnection object at 0x7e1318c1c0d0>: Failed to resolve 'data.alexa.com' ([Errno -2] Name or service not known)\"))\n",
            "Error fetching Alexa rank for http%3A//torcache.net/torrent/0FF0E2F39CD5AB403EE03F8E1B69127D0476D976.torrent%3Ftitle%3D%5Bkickass.to%5Dkomban.2015.hq.real.dvdscr.xvid.1cd.700mb.tamil: HTTPConnectionPool(host='data.alexa.com', port=80): Max retries exceeded with url: /data?cli=10&dat=s&url=http%3A//torcache.net/torrent/0FF0E2F39CD5AB403EE03F8E1B69127D0476D976.torrent%3Ftitle%3D%5Bkickass.to%5Dkomban.2015.hq.real.dvdscr.xvid.1cd.700mb.tamil (Caused by NameResolutionError(\"<urllib3.connection.HTTPConnection object at 0x7e1318c1e680>: Failed to resolve 'data.alexa.com' ([Errno -2] Name or service not known)\"))\n",
            "Error fetching Alexa rank for https%3A//paytm.com/blog/paytm-offer-for-app-users-get-upto-rs-50-cash-back/%3Fshare%3Demail: HTTPConnectionPool(host='data.alexa.com', port=80): Max retries exceeded with url: /data?cli=10&dat=s&url=https%3A//paytm.com/blog/paytm-offer-for-app-users-get-upto-rs-50-cash-back/%3Fshare%3Demail (Caused by NameResolutionError(\"<urllib3.connection.HTTPConnection object at 0x7e1318c1cc10>: Failed to resolve 'data.alexa.com' ([Errno -2] Name or service not known)\"))\n"
          ]
        },
        {
          "metadata": {
            "tags": null
          },
          "name": "stderr",
          "output_type": "stream",
          "text": [
            "2024-07-04 20:05:23,207 - whois.whois - ERROR - Error trying to connect to socket: closing socket - [Errno -2] Name or service not known\n",
            "ERROR:whois.whois:Error trying to connect to socket: closing socket - [Errno -2] Name or service not known\n"
          ]
        },
        {
          "metadata": {
            "tags": null
          },
          "name": "stdout",
          "output_type": "stream",
          "text": [
            "Error fetching Alexa rank for http%3A//motthegioi.vn/suckhoe/nu-cuoi-y-hoc/nu-cuoi-suc-khoe-nhung-li-do-nen-yeu-chang-trai-bung-bu-188294.html: HTTPConnectionPool(host='data.alexa.com', port=80): Max retries exceeded with url: /data?cli=10&dat=s&url=http%3A//motthegioi.vn/suckhoe/nu-cuoi-y-hoc/nu-cuoi-suc-khoe-nhung-li-do-nen-yeu-chang-trai-bung-bu-188294.html (Caused by NameResolutionError(\"<urllib3.connection.HTTPConnection object at 0x7e1318d685b0>: Failed to resolve 'data.alexa.com' ([Errno -2] Name or service not known)\"))\n",
            "Error fetching Alexa rank for http%3A//torcache.net/torrent/047D47DFF4DC5CD9BEA6D0F4C57D68F2F2D71205.torrent%3Ftitle%3D%5Bkickass.to%5Dnight.at.the.museum.secret.of.the.tomb.2014.1080p.brrip.x264.yify: HTTPConnectionPool(host='data.alexa.com', port=80): Max retries exceeded with url: /data?cli=10&dat=s&url=http%3A//torcache.net/torrent/047D47DFF4DC5CD9BEA6D0F4C57D68F2F2D71205.torrent%3Ftitle%3D%5Bkickass.to%5Dnight.at.the.museum.secret.of.the.tomb.2014.1080p.brrip.x264.yify (Caused by NameResolutionError(\"<urllib3.connection.HTTPConnection object at 0x7e1318c1ee60>: Failed to resolve 'data.alexa.com' ([Errno -2] Name or service not known)\"))\n",
            "Error fetching Alexa rank for http%3A//thenextweb.com/asia/2014/09/26/myanmars-mobile-revolution-kicks-telenor-prepares-launch-service/gtm.start: HTTPConnectionPool(host='data.alexa.com', port=80): Max retries exceeded with url: /data?cli=10&dat=s&url=http%3A//thenextweb.com/asia/2014/09/26/myanmars-mobile-revolution-kicks-telenor-prepares-launch-service/gtm.start (Caused by NameResolutionError(\"<urllib3.connection.HTTPConnection object at 0x7e1318c1cb50>: Failed to resolve 'data.alexa.com' ([Errno -2] Name or service not known)\"))\n",
            "Error fetching Alexa rank for http%3A//extratorrent.cc/torrent/4189616/Jedi%2BMind.Tricks.The.Thief.and.the.Fallen.2015.mp3.vbr.NOiR.html: HTTPConnectionPool(host='data.alexa.com', port=80): Max retries exceeded with url: /data?cli=10&dat=s&url=http%3A//extratorrent.cc/torrent/4189616/Jedi%2BMind.Tricks.The.Thief.and.the.Fallen.2015.mp3.vbr.NOiR.html (Caused by NameResolutionError(\"<urllib3.connection.HTTPConnection object at 0x7e1318d689a0>: Failed to resolve 'data.alexa.com' ([Errno -2] Name or service not known)\"))\n",
            "Error fetching Alexa rank for http%3A//genius.com/2990084/Us-general-services-administration-gsa-mentor-protege-program-subpart-51970/Incentives-for-prime-contractors: HTTPConnectionPool(host='data.alexa.com', port=80): Max retries exceeded with url: /data?cli=10&dat=s&url=http%3A//genius.com/2990084/Us-general-services-administration-gsa-mentor-protege-program-subpart-51970/Incentives-for-prime-contractors (Caused by NameResolutionError(\"<urllib3.connection.HTTPConnection object at 0x7e1318c1ec50>: Failed to resolve 'data.alexa.com' ([Errno -2] Name or service not known)\"))\n",
            "Error fetching Alexa rank for http%3A//thenextweb.com/apps/2012/04/19/500px-launches-android-app-and-overhauls-its-ipad-version-too/: HTTPConnectionPool(host='data.alexa.com', port=80): Max retries exceeded with url: /data?cli=10&dat=s&url=http%3A//thenextweb.com/apps/2012/04/19/500px-launches-android-app-and-overhauls-its-ipad-version-too/ (Caused by NameResolutionError(\"<urllib3.connection.HTTPConnection object at 0x7e1318d68f10>: Failed to resolve 'data.alexa.com' ([Errno -2] Name or service not known)\"))\n"
          ]
        },
        {
          "metadata": {
            "tags": null
          },
          "name": "stderr",
          "output_type": "stream",
          "text": [
            "2024-07-04 20:05:29,067 - whois.whois - ERROR - Error trying to connect to socket: closing socket - [Errno -2] Name or service not known\n",
            "ERROR:whois.whois:Error trying to connect to socket: closing socket - [Errno -2] Name or service not known\n"
          ]
        },
        {
          "metadata": {
            "tags": null
          },
          "name": "stdout",
          "output_type": "stream",
          "text": [
            "Error fetching Alexa rank for http%3A//kienthuc.net.vn/tin-tuc-tuyen-sinh/ty-le-choi-cua-dai-hoc-fpt-nam-2014-487408.html: HTTPConnectionPool(host='data.alexa.com', port=80): Max retries exceeded with url: /data?cli=10&dat=s&url=http%3A//kienthuc.net.vn/tin-tuc-tuyen-sinh/ty-le-choi-cua-dai-hoc-fpt-nam-2014-487408.html (Caused by NameResolutionError(\"<urllib3.connection.HTTPConnection object at 0x7e1317d1cc10>: Failed to resolve 'data.alexa.com' ([Errno -2] Name or service not known)\"))\n",
            "Error fetching Alexa rank for http%3A//sourceforge.net/directory/development/add_facet_filter%3Ffacet%3Dlicense%26constraint%3DOSI-Approved%2BOpen%2BSource%2B%253A%253A%2BPHP%2BLicense: HTTPConnectionPool(host='data.alexa.com', port=80): Max retries exceeded with url: /data?cli=10&dat=s&url=http%3A//sourceforge.net/directory/development/add_facet_filter%3Ffacet%3Dlicense%26constraint%3DOSI-Approved%2BOpen%2BSource%2B%253A%253A%2BPHP%2BLicense (Caused by NameResolutionError(\"<urllib3.connection.HTTPConnection object at 0x7e1318c1f7c0>: Failed to resolve 'data.alexa.com' ([Errno -2] Name or service not known)\"))\n",
            "Error fetching Alexa rank for http%3A//nypost.com/2015/01/28/tepper-loses-fight-to-restructure-caesars-in-delaware/: HTTPConnectionPool(host='data.alexa.com', port=80): Max retries exceeded with url: /data?cli=10&dat=s&url=http%3A//nypost.com/2015/01/28/tepper-loses-fight-to-restructure-caesars-in-delaware/ (Caused by NameResolutionError(\"<urllib3.connection.HTTPConnection object at 0x7e1318c1f9a0>: Failed to resolve 'data.alexa.com' ([Errno -2] Name or service not known)\"))\n",
            "Error fetching Alexa rank for http%3A//ap.org/Content/Press-Release/2013/NFL-celebrates-season-with-NFL-Honors-Super-Bowl-Eve: HTTPConnectionPool(host='data.alexa.com', port=80): Max retries exceeded with url: /data?cli=10&dat=s&url=http%3A//ap.org/Content/Press-Release/2013/NFL-celebrates-season-with-NFL-Honors-Super-Bowl-Eve (Caused by NameResolutionError(\"<urllib3.connection.HTTPConnection object at 0x7e1318d689a0>: Failed to resolve 'data.alexa.com' ([Errno -2] Name or service not known)\"))\n",
            "Error fetching Alexa rank for http%3A//indianexpress.com/article/cities/ludhiana/32-year-old-commits-suicide-at-in-laws-place-in-ludhiana/: HTTPConnectionPool(host='data.alexa.com', port=80): Max retries exceeded with url: /data?cli=10&dat=s&url=http%3A//indianexpress.com/article/cities/ludhiana/32-year-old-commits-suicide-at-in-laws-place-in-ludhiana/ (Caused by NameResolutionError(\"<urllib3.connection.HTTPConnection object at 0x7e1318c1ceb0>: Failed to resolve 'data.alexa.com' ([Errno -2] Name or service not known)\"))\n",
            "Error fetching Alexa rank for http%3A//extratorrent.cc/torrent_download/4191066/Chappie.2015.720p.WEB-DL.AAC2.0.H.264-PLAYNOW.torrent: HTTPConnectionPool(host='data.alexa.com', port=80): Max retries exceeded with url: /data?cli=10&dat=s&url=http%3A//extratorrent.cc/torrent_download/4191066/Chappie.2015.720p.WEB-DL.AAC2.0.H.264-PLAYNOW.torrent (Caused by NameResolutionError(\"<urllib3.connection.HTTPConnection object at 0x7e1318c1fe50>: Failed to resolve 'data.alexa.com' ([Errno -2] Name or service not known)\"))\n",
            "Error fetching Alexa rank for http%3A//correios.com.br/english/the-brazil-post/education-and-culture/cultural-centers/cultural-center-of-rio-de-janeiro: HTTPConnectionPool(host='data.alexa.com', port=80): Max retries exceeded with url: /data?cli=10&dat=s&url=http%3A//correios.com.br/english/the-brazil-post/education-and-culture/cultural-centers/cultural-center-of-rio-de-janeiro (Caused by NameResolutionError(\"<urllib3.connection.HTTPConnection object at 0x7e1318c8b970>: Failed to resolve 'data.alexa.com' ([Errno -2] Name or service not known)\"))\n",
            "Error fetching Alexa rank for http%3A//web.de/magazine/sport/fussball/champions-league/fc-bayern-muenchen-fc-barcelona/fc-bayern-muenchen-fc-barcelona-enrique-fuerchtet-freund-guardiola-30633596: HTTPConnectionPool(host='data.alexa.com', port=80): Max retries exceeded with url: /data?cli=10&dat=s&url=http%3A//web.de/magazine/sport/fussball/champions-league/fc-bayern-muenchen-fc-barcelona/fc-bayern-muenchen-fc-barcelona-enrique-fuerchtet-freund-guardiola-30633596 (Caused by NameResolutionError(\"<urllib3.connection.HTTPConnection object at 0x7e1318c1dbd0>: Failed to resolve 'data.alexa.com' ([Errno -2] Name or service not known)\"))\n",
            "Error fetching Alexa rank for http%3A//noticias.uol.com.br/saude/album/2015/03/17/dengue-pelo-brasil.htm%3Fabrefoto%3D63: HTTPConnectionPool(host='data.alexa.com', port=80): Max retries exceeded with url: /data?cli=10&dat=s&url=http%3A//noticias.uol.com.br/saude/album/2015/03/17/dengue-pelo-brasil.htm%3Fabrefoto%3D63 (Caused by NameResolutionError(\"<urllib3.connection.HTTPConnection object at 0x7e1318c1f2b0>: Failed to resolve 'data.alexa.com' ([Errno -2] Name or service not known)\"))\n",
            "Error fetching Alexa rank for http%3A//bdnews24.com/economy/2015/05/05/world-bank-to-give-bangladesh-200-million-loan-to-cut-poverty: HTTPConnectionPool(host='data.alexa.com', port=80): Max retries exceeded with url: /data?cli=10&dat=s&url=http%3A//bdnews24.com/economy/2015/05/05/world-bank-to-give-bangladesh-200-million-loan-to-cut-poverty (Caused by NameResolutionError(\"<urllib3.connection.HTTPConnection object at 0x7e1318c1ec20>: Failed to resolve 'data.alexa.com' ([Errno -2] Name or service not known)\"))\n"
          ]
        },
        {
          "metadata": {
            "tags": null
          },
          "name": "stderr",
          "output_type": "stream",
          "text": [
            "2024-07-04 20:05:49,453 - whois.whois - ERROR - Error trying to connect to socket: closing socket - [Errno -2] Name or service not known\n",
            "ERROR:whois.whois:Error trying to connect to socket: closing socket - [Errno -2] Name or service not known\n"
          ]
        },
        {
          "metadata": {
            "tags": null
          },
          "name": "stdout",
          "output_type": "stream",
          "text": [
            "Error fetching Alexa rank for http%3A//kenh14.vn/tv-show/viet-huong-gao-thet-to-chong-leng-pheng-trai-tre-20150208121726226.chn: HTTPConnectionPool(host='data.alexa.com', port=80): Max retries exceeded with url: /data?cli=10&dat=s&url=http%3A//kenh14.vn/tv-show/viet-huong-gao-thet-to-chong-leng-pheng-trai-tre-20150208121726226.chn (Caused by NameResolutionError(\"<urllib3.connection.HTTPConnection object at 0x7e1318c1cac0>: Failed to resolve 'data.alexa.com' ([Errno -2] Name or service not known)\"))\n",
            "Error fetching Alexa rank for http%3A//codecanyon.net/item/photofans-your-social-network-to-share-photos/full_screen_preview/6308014: HTTPConnectionPool(host='data.alexa.com', port=80): Max retries exceeded with url: /data?cli=10&dat=s&url=http%3A//codecanyon.net/item/photofans-your-social-network-to-share-photos/full_screen_preview/6308014 (Caused by NameResolutionError(\"<urllib3.connection.HTTPConnection object at 0x7e1318c1e6b0>: Failed to resolve 'data.alexa.com' ([Errno -2] Name or service not known)\"))\n",
            "Error fetching Alexa rank for http%3A//tunein.com/radio/Carolina-Mudcats-at-Myrtle-Beach-Pelicans-May-13-2015-p729095/: HTTPConnectionPool(host='data.alexa.com', port=80): Max retries exceeded with url: /data?cli=10&dat=s&url=http%3A//tunein.com/radio/Carolina-Mudcats-at-Myrtle-Beach-Pelicans-May-13-2015-p729095/ (Caused by NameResolutionError(\"<urllib3.connection.HTTPConnection object at 0x7e1318c1c4c0>: Failed to resolve 'data.alexa.com' ([Errno -2] Name or service not known)\"))\n",
            "Error fetching Alexa rank for http%3A//nguyentandung.org/vi-sao-nguyen-tong-bien-tap-bao-nguoi-cao-tuoi-bi-khoi-to.html: HTTPConnectionPool(host='data.alexa.com', port=80): Max retries exceeded with url: /data?cli=10&dat=s&url=http%3A//nguyentandung.org/vi-sao-nguyen-tong-bien-tap-bao-nguoi-cao-tuoi-bi-khoi-to.html (Caused by NameResolutionError(\"<urllib3.connection.HTTPConnection object at 0x7e1317d1e260>: Failed to resolve 'data.alexa.com' ([Errno -2] Name or service not known)\"))\n"
          ]
        },
        {
          "metadata": {
            "tags": null
          },
          "name": "stderr",
          "output_type": "stream",
          "text": [
            "2024-07-04 20:05:53,973 - whois.whois - ERROR - Error trying to connect to socket: closing socket - [Errno 111] Connection refused\n",
            "ERROR:whois.whois:Error trying to connect to socket: closing socket - [Errno 111] Connection refused\n"
          ]
        },
        {
          "metadata": {
            "tags": null
          },
          "name": "stdout",
          "output_type": "stream",
          "text": [
            "Error fetching Alexa rank for http%3A//kickass.to/microsoft-office-professional-plus-2013-64-bit-english-rareabyss-t10091322.html: HTTPConnectionPool(host='data.alexa.com', port=80): Max retries exceeded with url: /data?cli=10&dat=s&url=http%3A//kickass.to/microsoft-office-professional-plus-2013-64-bit-english-rareabyss-t10091322.html (Caused by NameResolutionError(\"<urllib3.connection.HTTPConnection object at 0x7e1318c1f130>: Failed to resolve 'data.alexa.com' ([Errno -2] Name or service not known)\"))\n",
            "Error fetching Alexa rank for http%3A//weathernews.jp/smart/sora_mission/0/glance.html%3Fmissionid%3D1431484304.67676%26fm%3Dsw%26fmdotop%3D2: HTTPConnectionPool(host='data.alexa.com', port=80): Max retries exceeded with url: /data?cli=10&dat=s&url=http%3A//weathernews.jp/smart/sora_mission/0/glance.html%3Fmissionid%3D1431484304.67676%26fm%3Dsw%26fmdotop%3D2 (Caused by NameResolutionError(\"<urllib3.connection.HTTPConnection object at 0x7e1318c1f1f0>: Failed to resolve 'data.alexa.com' ([Errno -2] Name or service not known)\"))\n",
            "Error fetching Alexa rank for http%3A//atwiki.jp/wiki/%25E8%25A9%25A6%25E9%25A8%2593%25E4%25B8%25AD%2520%25E9%259C%2587%25E7%2581%25BD%25E5%25AF%25BE%25E5%25BF%259C: HTTPConnectionPool(host='data.alexa.com', port=80): Max retries exceeded with url: /data?cli=10&dat=s&url=http%3A//atwiki.jp/wiki/%25E8%25A9%25A6%25E9%25A8%2593%25E4%25B8%25AD%2520%25E9%259C%2587%25E7%2581%25BD%25E5%25AF%25BE%25E5%25BF%259C (Caused by NameResolutionError(\"<urllib3.connection.HTTPConnection object at 0x7e1318c1e590>: Failed to resolve 'data.alexa.com' ([Errno -2] Name or service not known)\"))\n",
            "Error fetching Alexa rank for http%3A//plarium.com/en/strategy-games/sparta-war-of-empires/mmo-masters/offensive-positions: HTTPConnectionPool(host='data.alexa.com', port=80): Max retries exceeded with url: /data?cli=10&dat=s&url=http%3A//plarium.com/en/strategy-games/sparta-war-of-empires/mmo-masters/offensive-positions (Caused by NameResolutionError(\"<urllib3.connection.HTTPConnection object at 0x7e1317d1eb90>: Failed to resolve 'data.alexa.com' ([Errno -2] Name or service not known)\"))\n",
            "Error fetching Alexa rank for https%3A//chaturbate.com/tipping/spy_on_private_show_tokens_per_minute/ingridblondy94/: HTTPConnectionPool(host='data.alexa.com', port=80): Max retries exceeded with url: /data?cli=10&dat=s&url=https%3A//chaturbate.com/tipping/spy_on_private_show_tokens_per_minute/ingridblondy94/ (Caused by NameResolutionError(\"<urllib3.connection.HTTPConnection object at 0x7e1318c1f7f0>: Failed to resolve 'data.alexa.com' ([Errno -2] Name or service not known)\"))\n",
            "Error fetching Alexa rank for http%3A//babal.net/news/view/42903/%25D8%25AD%25D8%25A8%25D8%25B3-%25D9%2585%25D8%25AD%25D8%25A7%25D9%2581%25D8%25B8-%25D8%25A7%25D9%2584%25D8%25A3%25D9%2582%25D8%25B5%25D8%25B1-%25D8%25A7%25D9%2584%25D8%25B3%25D8%25A7%25D8%25A8%25D9%2582-%25D8%25B9%25D8%25A7%25D9%2585%25D9%258A%25D9%2586-%25D9%2588%25D8%25AA%25D8%25BA%25D8%25B1%25D9%258A%25D9%2585%25D9%2587-10-%25D8%25A2%25D9%2584%25D8%25A7%25D9%2581-%25D8%25AC%25D9%2586%25D9%258A%25D9%2587-%25D9%2584%25D8%25B9%25D8%25AF%25D9%2585-%25D8%25AA%25D9%2586%25D9%2581%25D9%258A%25D8%25B0%25D9%2587-%25D8%25AD%25D9%2583%25D9%2585%25D8%25A7-%25D9%2582%25D8%25B6%25D8%25A7%25D8%25A6%25D9%258A%25D8%25A7: HTTPConnectionPool(host='data.alexa.com', port=80): Max retries exceeded with url: /data?cli=10&dat=s&url=http%3A//babal.net/news/view/42903/%25D8%25AD%25D8%25A8%25D8%25B3-%25D9%2585%25D8%25AD%25D8%25A7%25D9%2581%25D8%25B8-%25D8%25A7%25D9%2584%25D8%25A3%25D9%2582%25D8%25B5%25D8%25B1-%25D8%25A7%25D9%2584%25D8%25B3%25D8%25A7%25D8%25A8%25D9%2582-%25D8%25B9%25D8%25A7%25D9%2585%25D9%258A%25D9%2586-%25D9%2588%25D8%25AA%25D8%25BA%25D8%25B1%25D9%258A%25D9%2585%25D9%2587-10-%25D8%25A2%25D9%2584%25D8%25A7%25D9%2581-%25D8%25AC%25D9%2586%25D9%258A%25D9%2587-%25D9%2584%25D8%25B9%25D8%25AF%25D9%2585-%25D8%25AA%25D9%2586%25D9%2581%25D9%258A%25D8%25B0%25D9%2587-%25D8%25AD%25D9%2583%25D9%2585%25D8%25A7-%25D9%2582%25D8%25B6%25D8%25A7%25D8%25A6%25D9%258A%25D8%25A7 (Caused by NameResolutionError(\"<urllib3.connection.HTTPConnection object at 0x7e1317d1c5b0>: Failed to resolve 'data.alexa.com' ([Errno -2] Name or service not known)\"))\n",
            "Error fetching Alexa rank for http%3A//sberbank.ru/portalserver/sb-portal-ru/ru/person/paymentsandremittances/remittance/in/beznal_rus/beznal_snal_rus: HTTPConnectionPool(host='data.alexa.com', port=80): Max retries exceeded with url: /data?cli=10&dat=s&url=http%3A//sberbank.ru/portalserver/sb-portal-ru/ru/person/paymentsandremittances/remittance/in/beznal_rus/beznal_snal_rus (Caused by NameResolutionError(\"<urllib3.connection.HTTPConnection object at 0x7e1318c1cf70>: Failed to resolve 'data.alexa.com' ([Errno -2] Name or service not known)\"))\n",
            "Error fetching Alexa rank for http%3A//torcache.net/torrent/3671994FE2E23CC3E914E74EB63E5A85AA184B4B.torrent%3Ftitle%3D%5Bkickass.to%5Dfocus.2015.720p.hq.ac3.dd5.1.externe.eng.nl.subs.tbs: HTTPConnectionPool(host='data.alexa.com', port=80): Max retries exceeded with url: /data?cli=10&dat=s&url=http%3A//torcache.net/torrent/3671994FE2E23CC3E914E74EB63E5A85AA184B4B.torrent%3Ftitle%3D%5Bkickass.to%5Dfocus.2015.720p.hq.ac3.dd5.1.externe.eng.nl.subs.tbs (Caused by NameResolutionError(\"<urllib3.connection.HTTPConnection object at 0x7e1318c1d7e0>: Failed to resolve 'data.alexa.com' ([Errno -2] Name or service not known)\"))\n",
            "Error fetching Alexa rank for http%3A//torcache.net/torrent/110A54D90A4F523BF7051AAD5ADE8F5E72FC3ED2.torrent%3Ftitle%3D%5Bkickass.to%5Dhentai.3d.milky.maid.may.2015: HTTPConnectionPool(host='data.alexa.com', port=80): Max retries exceeded with url: /data?cli=10&dat=s&url=http%3A//torcache.net/torrent/110A54D90A4F523BF7051AAD5ADE8F5E72FC3ED2.torrent%3Ftitle%3D%5Bkickass.to%5Dhentai.3d.milky.maid.may.2015 (Caused by NameResolutionError(\"<urllib3.connection.HTTPConnection object at 0x7e1318c1e860>: Failed to resolve 'data.alexa.com' ([Errno -2] Name or service not known)\"))\n",
            "Error fetching Alexa rank for http%3A//pikabu.ru/tag/%25D0%2590%25D1%2580%25D0%25B5%25D0%25BD%25D0%25B4%25D0%25B0%2520%25D0%25B6%25D0%25B8%25D0%25BB%25D1%258C%25D1%258F/hot: HTTPConnectionPool(host='data.alexa.com', port=80): Max retries exceeded with url: /data?cli=10&dat=s&url=http%3A//pikabu.ru/tag/%25D0%2590%25D1%2580%25D0%25B5%25D0%25BD%25D0%25B4%25D0%25B0%2520%25D0%25B6%25D0%25B8%25D0%25BB%25D1%258C%25D1%258F/hot (Caused by NameResolutionError(\"<urllib3.connection.HTTPConnection object at 0x7e1318c1f160>: Failed to resolve 'data.alexa.com' ([Errno -2] Name or service not known)\"))\n",
            "Error fetching Alexa rank for http%3A//mirtesen.ru/url%3Fe%3Dsimple_click%26blog_post_id%3D43032218893%26url%3Dhttp%253A%252F%252Fnarodnayamedicyna.ru%252Fblog%252F43032218893%252Fsudorogi: HTTPConnectionPool(host='data.alexa.com', port=80): Max retries exceeded with url: /data?cli=10&dat=s&url=http%3A//mirtesen.ru/url%3Fe%3Dsimple_click%26blog_post_id%3D43032218893%26url%3Dhttp%253A%252F%252Fnarodnayamedicyna.ru%252Fblog%252F43032218893%252Fsudorogi (Caused by NameResolutionError(\"<urllib3.connection.HTTPConnection object at 0x7e1318c1f190>: Failed to resolve 'data.alexa.com' ([Errno -2] Name or service not known)\"))\n",
            "Error fetching Alexa rank for http%3A//mirtesen.ru/url%3Fe%3Dsimple_click%26blog_post_id%3D43294960453%26url%3Dhttp%253A%252F%252Fs30469371943.mirtesen.ru%252Fblog%252F43294960453%252FAh-leto%2521: HTTPConnectionPool(host='data.alexa.com', port=80): Max retries exceeded with url: /data?cli=10&dat=s&url=http%3A//mirtesen.ru/url%3Fe%3Dsimple_click%26blog_post_id%3D43294960453%26url%3Dhttp%253A%252F%252Fs30469371943.mirtesen.ru%252Fblog%252F43294960453%252FAh-leto%2521 (Caused by NameResolutionError(\"<urllib3.connection.HTTPConnection object at 0x7e1318c1e950>: Failed to resolve 'data.alexa.com' ([Errno -2] Name or service not known)\"))\n",
            "Error fetching Alexa rank for http%3A//distractify.com/post/related/id/54b985434a0c4b136ee6813d/skip/20/limit/10/back/0: HTTPConnectionPool(host='data.alexa.com', port=80): Max retries exceeded with url: /data?cli=10&dat=s&url=http%3A//distractify.com/post/related/id/54b985434a0c4b136ee6813d/skip/20/limit/10/back/0 (Caused by NameResolutionError(\"<urllib3.connection.HTTPConnection object at 0x7e1318c1d360>: Failed to resolve 'data.alexa.com' ([Errno -2] Name or service not known)\"))\n",
            "Error fetching Alexa rank for http%3A//jalopnik.com/5958144/gourmet-food-trucks-feed-storm-battered-and-starved-coney-island-residents: HTTPConnectionPool(host='data.alexa.com', port=80): Max retries exceeded with url: /data?cli=10&dat=s&url=http%3A//jalopnik.com/5958144/gourmet-food-trucks-feed-storm-battered-and-starved-coney-island-residents (Caused by NameResolutionError(\"<urllib3.connection.HTTPConnection object at 0x7e1318c1c8e0>: Failed to resolve 'data.alexa.com' ([Errno -2] Name or service not known)\"))\n",
            "Error fetching Alexa rank for http%3A//techcrunch.com/2015/01/11/from-a-rebuilt-60s-motel-in-vegas-orderwithme-tackles-big-e-commerce-challenges/: HTTPConnectionPool(host='data.alexa.com', port=80): Max retries exceeded with url: /data?cli=10&dat=s&url=http%3A//techcrunch.com/2015/01/11/from-a-rebuilt-60s-motel-in-vegas-orderwithme-tackles-big-e-commerce-challenges/ (Caused by NameResolutionError(\"<urllib3.connection.HTTPConnection object at 0x7e1317d1cca0>: Failed to resolve 'data.alexa.com' ([Errno -2] Name or service not known)\"))\n",
            "Error fetching Alexa rank for https%3A//twitter.com/home%3Fstatus%3D%25E3%2583%258C%25E3%2581%2591%25E3%2582%258B%25EF%25BC%2581%25E3%2580%2590%25E3%2582%25A2%25E3%2583%258B%25E3%2583%25A1%25E3%2580%2591%2Bhttp%253A%252F%252Fero-video.net%252Ft%252FfnLTNjuNx6qWFt13%2B%25E3%2582%25A2%25E3%2583%25AB%25E3%2583%2590%25E3%2582%25A4%25E3%2583%2588%25E3%2581%25AE%25E5%2585%2588%25E8%25BC%25A9%25E3%2581%25AE%25E5%25A5%25B3%25E3%2581%25AE%25E3%2582%25B3%25E3%2581%25A8%25E3%2582%25A8%25E3%2583%2583%25E3%2583%2581%25E3%2580%2580%25E7%2590%25B4%25E5%25B9%25B3%25E3%2581%2595%25E3%2582%2586%2B%2523ero%2B%2523douga%2B%2523agesage: HTTPConnectionPool(host='data.alexa.com', port=80): Max retries exceeded with url: /data?cli=10&dat=s&url=https%3A//twitter.com/home%3Fstatus%3D%25E3%2583%258C%25E3%2581%2591%25E3%2582%258B%25EF%25BC%2581%25E3%2580%2590%25E3%2582%25A2%25E3%2583%258B%25E3%2583%25A1%25E3%2580%2591%2Bhttp%253A%252F%252Fero-video.net%252Ft%252FfnLTNjuNx6qWFt13%2B%25E3%2582%25A2%25E3%2583%25AB%25E3%2583%2590%25E3%2582%25A4%25E3%2583%2588%25E3%2581%25AE%25E5%2585%2588%25E8%25BC%25A9%25E3%2581%25AE%25E5%25A5%25B3%25E3%2581%25AE%25E3%2582%25B3%25E3%2581%25A8%25E3%2582%25A8%25E3%2583%2583%25E3%2583%2581%25E3%2580%2580%25E7%2590%25B4%25E5%25B9%25B3%25E3%2581%2595%25E3%2582%2586%2B%2523ero%2B%2523douga%2B%2523agesage (Caused by NameResolutionError(\"<urllib3.connection.HTTPConnection object at 0x7e1318c1fc70>: Failed to resolve 'data.alexa.com' ([Errno -2] Name or service not known)\"))\n",
            "Error fetching Alexa rank for http%3A//torcache.net/torrent/9CFDD892CDA9F5EEA5DB98A955E4E1382262E670.torrent%3Ftitle%3D%5Bkickass.to%5Darrow.s03e04.hdtv.x264.lol.eztv: HTTPConnectionPool(host='data.alexa.com', port=80): Max retries exceeded with url: /data?cli=10&dat=s&url=http%3A//torcache.net/torrent/9CFDD892CDA9F5EEA5DB98A955E4E1382262E670.torrent%3Ftitle%3D%5Bkickass.to%5Darrow.s03e04.hdtv.x264.lol.eztv (Caused by NameResolutionError(\"<urllib3.connection.HTTPConnection object at 0x7e1318c1ecb0>: Failed to resolve 'data.alexa.com' ([Errno -2] Name or service not known)\"))\n",
            "Error fetching Alexa rank for http%3A//thenextweb.com/insider/2014/10/29/unbabel-integrates-mailchimp-offer-translation-service-promotional-emails/gtm.start/: HTTPConnectionPool(host='data.alexa.com', port=80): Max retries exceeded with url: /data?cli=10&dat=s&url=http%3A//thenextweb.com/insider/2014/10/29/unbabel-integrates-mailchimp-offer-translation-service-promotional-emails/gtm.start/ (Caused by NameResolutionError(\"<urllib3.connection.HTTPConnection object at 0x7e1318c1da80>: Failed to resolve 'data.alexa.com' ([Errno -2] Name or service not known)\"))\n",
            "Error fetching Alexa rank for http%3A//arstechnica.com/science/2015/05/carbon-emissions-put-sixteen-percent-of-species-at-risk-of-extinction/: HTTPConnectionPool(host='data.alexa.com', port=80): Max retries exceeded with url: /data?cli=10&dat=s&url=http%3A//arstechnica.com/science/2015/05/carbon-emissions-put-sixteen-percent-of-species-at-risk-of-extinction/ (Caused by NameResolutionError(\"<urllib3.connection.HTTPConnection object at 0x7e1318c1c250>: Failed to resolve 'data.alexa.com' ([Errno -2] Name or service not known)\"))\n",
            "Error fetching Alexa rank for http%3A//tunein.com/radio/Economics-of-Political-Memoir---Marketplace-May-13-2015-p729173/15480783/ca-pub-1542925551861702/Program: HTTPConnectionPool(host='data.alexa.com', port=80): Max retries exceeded with url: /data?cli=10&dat=s&url=http%3A//tunein.com/radio/Economics-of-Political-Memoir---Marketplace-May-13-2015-p729173/15480783/ca-pub-1542925551861702/Program (Caused by NameResolutionError(\"<urllib3.connection.HTTPConnection object at 0x7e1317d1e650>: Failed to resolve 'data.alexa.com' ([Errno -2] Name or service not known)\"))\n",
            "Error fetching Alexa rank for http%3A//torrentdn.com/bbs/s.php%3Fbo_table%3Dtorrent_mid%26wr_id%3D57742%26k%3D%25EC%2599%2595%25EC%25A2%258C%26page%3D1: HTTPConnectionPool(host='data.alexa.com', port=80): Max retries exceeded with url: /data?cli=10&dat=s&url=http%3A//torrentdn.com/bbs/s.php%3Fbo_table%3Dtorrent_mid%26wr_id%3D57742%26k%3D%25EC%2599%2595%25EC%25A2%258C%26page%3D1 (Caused by NameResolutionError(\"<urllib3.connection.HTTPConnection object at 0x7e1318c1fe20>: Failed to resolve 'data.alexa.com' ([Errno -2] Name or service not known)\"))\n",
            "Error fetching Alexa rank for http%3A//searchengineland.com/twitters-full-google-search-integration-is-coming-in-may-219941: HTTPConnectionPool(host='data.alexa.com', port=80): Max retries exceeded with url: /data?cli=10&dat=s&url=http%3A//searchengineland.com/twitters-full-google-search-integration-is-coming-in-may-219941 (Caused by NameResolutionError(\"<urllib3.connection.HTTPConnection object at 0x7e1317d1ef80>: Failed to resolve 'data.alexa.com' ([Errno -2] Name or service not known)\"))\n",
            "Error fetching Alexa rank for http%3A//nesn.com/2014/07/veteran-leaders-return-to-field-for-day-1-of-patriots-training-camp-video/: HTTPConnectionPool(host='data.alexa.com', port=80): Max retries exceeded with url: /data?cli=10&dat=s&url=http%3A//nesn.com/2014/07/veteran-leaders-return-to-field-for-day-1-of-patriots-training-camp-video/ (Caused by NameResolutionError(\"<urllib3.connection.HTTPConnection object at 0x7e1318d687c0>: Failed to resolve 'data.alexa.com' ([Errno -2] Name or service not known)\"))\n",
            "Error fetching Alexa rank for https%3A//paytm.com/blog/pep-up-this-summer-season-with-paytms-first-ever-fashion-fest/: HTTPConnectionPool(host='data.alexa.com', port=80): Max retries exceeded with url: /data?cli=10&dat=s&url=https%3A//paytm.com/blog/pep-up-this-summer-season-with-paytms-first-ever-fashion-fest/ (Caused by NameResolutionError(\"<urllib3.connection.HTTPConnection object at 0x7e1318c1efe0>: Failed to resolve 'data.alexa.com' ([Errno -2] Name or service not known)\"))\n",
            "Error fetching Alexa rank for http%3A//torcache.net/torrent/523EF7169F14C884FC2AD988451BBB6A4E0BD5F4.torrent%3Ftitle%3D%5Bkickass.to%5Dproject.almanac.2014.720p.brrip.x264.yify: HTTPConnectionPool(host='data.alexa.com', port=80): Max retries exceeded with url: /data?cli=10&dat=s&url=http%3A//torcache.net/torrent/523EF7169F14C884FC2AD988451BBB6A4E0BD5F4.torrent%3Ftitle%3D%5Bkickass.to%5Dproject.almanac.2014.720p.brrip.x264.yify (Caused by NameResolutionError(\"<urllib3.connection.HTTPConnection object at 0x7e1318d68610>: Failed to resolve 'data.alexa.com' ([Errno -2] Name or service not known)\"))\n",
            "Error fetching Alexa rank for http%3A//metro.co.uk/2015/04/01/zayn-malik-loses-50000-twitter-follows-in-wake-of-one-direction-departure-but-dont-worry-hes-still-popular-5131044/: HTTPConnectionPool(host='data.alexa.com', port=80): Max retries exceeded with url: /data?cli=10&dat=s&url=http%3A//metro.co.uk/2015/04/01/zayn-malik-loses-50000-twitter-follows-in-wake-of-one-direction-departure-but-dont-worry-hes-still-popular-5131044/ (Caused by NameResolutionError(\"<urllib3.connection.HTTPConnection object at 0x7e1318d68a00>: Failed to resolve 'data.alexa.com' ([Errno -2] Name or service not known)\"))\n",
            "Error fetching Alexa rank for http%3A//censor.net.ua/jokes/all/page/1/hero/0/category/138/interval/5/author/0/sortby/date: HTTPConnectionPool(host='data.alexa.com', port=80): Max retries exceeded with url: /data?cli=10&dat=s&url=http%3A//censor.net.ua/jokes/all/page/1/hero/0/category/138/interval/5/author/0/sortby/date (Caused by NameResolutionError(\"<urllib3.connection.HTTPConnection object at 0x7e1318c1eb90>: Failed to resolve 'data.alexa.com' ([Errno -2] Name or service not known)\"))\n",
            "Error fetching Alexa rank for http%3A//depositphotos.com/login.html%3Furl%3D%252F25901805%252Fstock-photo-breakfast-with-coffee-orange-juice.html: HTTPConnectionPool(host='data.alexa.com', port=80): Max retries exceeded with url: /data?cli=10&dat=s&url=http%3A//depositphotos.com/login.html%3Furl%3D%252F25901805%252Fstock-photo-breakfast-with-coffee-orange-juice.html (Caused by NameResolutionError(\"<urllib3.connection.HTTPConnection object at 0x7e1318d68ee0>: Failed to resolve 'data.alexa.com' ([Errno -2] Name or service not known)\"))\n",
            "Error fetching Alexa rank for http%3A//thenextweb.com/eu/2015/05/09/meet-the-man-who-left-nasa-to-join-a-european-startup/gtm.start: HTTPConnectionPool(host='data.alexa.com', port=80): Max retries exceeded with url: /data?cli=10&dat=s&url=http%3A//thenextweb.com/eu/2015/05/09/meet-the-man-who-left-nasa-to-join-a-european-startup/gtm.start (Caused by NameResolutionError(\"<urllib3.connection.HTTPConnection object at 0x7e1318c1edd0>: Failed to resolve 'data.alexa.com' ([Errno -2] Name or service not known)\"))\n",
            "Error fetching Alexa rank for http%3A//putlocker.is/watch-night-at-the-museum-secret-of-the-tomb-online-free-putlocker.html: HTTPConnectionPool(host='data.alexa.com', port=80): Max retries exceeded with url: /data?cli=10&dat=s&url=http%3A//putlocker.is/watch-night-at-the-museum-secret-of-the-tomb-online-free-putlocker.html (Caused by NameResolutionError(\"<urllib3.connection.HTTPConnection object at 0x7e1318d68dc0>: Failed to resolve 'data.alexa.com' ([Errno -2] Name or service not known)\"))\n",
            "Error fetching Alexa rank for http%3A//tunein.com/radio/Radio-Fredericton-905-s12073/15480783/ca-pub-1542925551861702/StationLeader: HTTPConnectionPool(host='data.alexa.com', port=80): Max retries exceeded with url: /data?cli=10&dat=s&url=http%3A//tunein.com/radio/Radio-Fredericton-905-s12073/15480783/ca-pub-1542925551861702/StationLeader (Caused by NameResolutionError(\"<urllib3.connection.HTTPConnection object at 0x7e1318d69d80>: Failed to resolve 'data.alexa.com' ([Errno -2] Name or service not known)\"))\n",
            "Error fetching Alexa rank for http%3A//lifehacker.com/5910717/plan-your-free-online-education-at-lifehacker-u-summer-semester-2012: HTTPConnectionPool(host='data.alexa.com', port=80): Max retries exceeded with url: /data?cli=10&dat=s&url=http%3A//lifehacker.com/5910717/plan-your-free-online-education-at-lifehacker-u-summer-semester-2012 (Caused by NameResolutionError(\"<urllib3.connection.HTTPConnection object at 0x7e1317d1c820>: Failed to resolve 'data.alexa.com' ([Errno -2] Name or service not known)\"))\n",
            "Error fetching Alexa rank for http%3A//extratorrent.cc/torrent/4189607/The%2BSleepwalker.2014.LiMiTED.DVDRip.x264.LPD.html: HTTPConnectionPool(host='data.alexa.com', port=80): Max retries exceeded with url: /data?cli=10&dat=s&url=http%3A//extratorrent.cc/torrent/4189607/The%2BSleepwalker.2014.LiMiTED.DVDRip.x264.LPD.html (Caused by NameResolutionError(\"<urllib3.connection.HTTPConnection object at 0x7e1318d69390>: Failed to resolve 'data.alexa.com' ([Errno -2] Name or service not known)\"))\n",
            "Error fetching Alexa rank for http%3A//mylust.com/videos/64031/chinese-orgy-with-sexy-and-skinny-asian-babe-in-her-bedroom/: HTTPConnectionPool(host='data.alexa.com', port=80): Max retries exceeded with url: /data?cli=10&dat=s&url=http%3A//mylust.com/videos/64031/chinese-orgy-with-sexy-and-skinny-asian-babe-in-her-bedroom/ (Caused by NameResolutionError(\"<urllib3.connection.HTTPConnection object at 0x7e1318c1d9f0>: Failed to resolve 'data.alexa.com' ([Errno -2] Name or service not known)\"))\n",
            "Error fetching Alexa rank for http%3A//buzzfil.net/m/show-art/voici-16-voisins-qui-ont-pique-une-crise-de-nerfs-9.html: HTTPConnectionPool(host='data.alexa.com', port=80): Max retries exceeded with url: /data?cli=10&dat=s&url=http%3A//buzzfil.net/m/show-art/voici-16-voisins-qui-ont-pique-une-crise-de-nerfs-9.html (Caused by NameResolutionError(\"<urllib3.connection.HTTPConnection object at 0x7e1318d68ac0>: Failed to resolve 'data.alexa.com' ([Errno -2] Name or service not known)\"))\n",
            "Error fetching Alexa rank for http%3A//censor.net.ua/video_news/334975/ochered_za_pensieyi_v_okkupirovannom_luganske_ty_so_zvukom_zapishi_s_matyukami_video: HTTPConnectionPool(host='data.alexa.com', port=80): Max retries exceeded with url: /data?cli=10&dat=s&url=http%3A//censor.net.ua/video_news/334975/ochered_za_pensieyi_v_okkupirovannom_luganske_ty_so_zvukom_zapishi_s_matyukami_video (Caused by NameResolutionError(\"<urllib3.connection.HTTPConnection object at 0x7e1318d696f0>: Failed to resolve 'data.alexa.com' ([Errno -2] Name or service not known)\"))\n",
            "Error fetching Alexa rank for http%3A//ap.org/Content/Press-Release/2014/The-personal-news-cycle-how-Americans-get-their-news: HTTPConnectionPool(host='data.alexa.com', port=80): Max retries exceeded with url: /data?cli=10&dat=s&url=http%3A//ap.org/Content/Press-Release/2014/The-personal-news-cycle-how-Americans-get-their-news (Caused by NameResolutionError(\"<urllib3.connection.HTTPConnection object at 0x7e1317d1dd20>: Failed to resolve 'data.alexa.com' ([Errno -2] Name or service not known)\"))\n",
            "Error fetching Alexa rank for http%3A//akhbarelyom.com/news/newdetails/411484/1/%25D9%2585%25D8%25B5%25D8%25B1%25D9%258A%25D8%25AA%25D8%25A7%25D9%2586-%25D9%2581%25D9%2582%25D8%25B7-.html: HTTPConnectionPool(host='data.alexa.com', port=80): Max retries exceeded with url: /data?cli=10&dat=s&url=http%3A//akhbarelyom.com/news/newdetails/411484/1/%25D9%2585%25D8%25B5%25D8%25B1%25D9%258A%25D8%25AA%25D8%25A7%25D9%2586-%25D9%2581%25D9%2582%25D8%25B7-.html (Caused by NameResolutionError(\"<urllib3.connection.HTTPConnection object at 0x7e1318d68550>: Failed to resolve 'data.alexa.com' ([Errno -2] Name or service not known)\"))\n",
            "Error fetching Alexa rank for http%3A//sourceforge.net/directory/communications/add_facet_filter%3Ffacet%3Dos%26constraint%3DModern%2B%2528Vendor-Supported%2529%2BDesktop%2BOperating%2BSystems%2B%253A%253A%2BOpenBSD: HTTPConnectionPool(host='data.alexa.com', port=80): Max retries exceeded with url: /data?cli=10&dat=s&url=http%3A//sourceforge.net/directory/communications/add_facet_filter%3Ffacet%3Dos%26constraint%3DModern%2B%2528Vendor-Supported%2529%2BDesktop%2BOperating%2BSystems%2B%253A%253A%2BOpenBSD (Caused by NameResolutionError(\"<urllib3.connection.HTTPConnection object at 0x7e1317d1e200>: Failed to resolve 'data.alexa.com' ([Errno -2] Name or service not known)\"))\n",
            "Error fetching Alexa rank for http%3A//kakaku.com/kaden/label-writer/ranking_2076/pricedown/div-gpt-ad-k/header_text: HTTPConnectionPool(host='data.alexa.com', port=80): Max retries exceeded with url: /data?cli=10&dat=s&url=http%3A//kakaku.com/kaden/label-writer/ranking_2076/pricedown/div-gpt-ad-k/header_text (Caused by NameResolutionError(\"<urllib3.connection.HTTPConnection object at 0x7e1318d6a140>: Failed to resolve 'data.alexa.com' ([Errno -2] Name or service not known)\"))\n",
            "Error fetching Alexa rank for http%3A//jezebel.com/jameis-winston-files-lawsuit-against-woman-who-accused-1703312090/%2Bmiamirohan: HTTPConnectionPool(host='data.alexa.com', port=80): Max retries exceeded with url: /data?cli=10&dat=s&url=http%3A//jezebel.com/jameis-winston-files-lawsuit-against-woman-who-accused-1703312090/%2Bmiamirohan (Caused by NameResolutionError(\"<urllib3.connection.HTTPConnection object at 0x7e1317d1e200>: Failed to resolve 'data.alexa.com' ([Errno -2] Name or service not known)\"))\n",
            "Error fetching Alexa rank for http%3A//grantland.com/hollywood-prospectus/mad-men-power-rankings-episode-710-the-forecast/: HTTPConnectionPool(host='data.alexa.com', port=80): Max retries exceeded with url: /data?cli=10&dat=s&url=http%3A//grantland.com/hollywood-prospectus/mad-men-power-rankings-episode-710-the-forecast/ (Caused by NameResolutionError(\"<urllib3.connection.HTTPConnection object at 0x7e1318d6a530>: Failed to resolve 'data.alexa.com' ([Errno -2] Name or service not known)\"))\n",
            "Error fetching Alexa rank for https%3A//www.gov.uk/government/world/uk-delegation-to-organization-for-security-and-co-operation-in-europe: HTTPConnectionPool(host='data.alexa.com', port=80): Max retries exceeded with url: /data?cli=10&dat=s&url=https%3A//www.gov.uk/government/world/uk-delegation-to-organization-for-security-and-co-operation-in-europe (Caused by NameResolutionError(\"<urllib3.connection.HTTPConnection object at 0x7e1319b167a0>: Failed to resolve 'data.alexa.com' ([Errno -2] Name or service not known)\"))\n",
            "Error fetching Alexa rank for http%3A//emgn.com/entertainment/youll-be-left-speechless-at-the-wartime-bravery-of-these-22-animal-heroes/: HTTPConnectionPool(host='data.alexa.com', port=80): Max retries exceeded with url: /data?cli=10&dat=s&url=http%3A//emgn.com/entertainment/youll-be-left-speechless-at-the-wartime-bravery-of-these-22-animal-heroes/ (Caused by NameResolutionError(\"<urllib3.connection.HTTPConnection object at 0x7e1318d69150>: Failed to resolve 'data.alexa.com' ([Errno -2] Name or service not known)\"))\n",
            "Error fetching Alexa rank for http%3A//bdnews24.com/politics/2015/05/02/dire-consequences-unless-city-polls-cancelled-bnp-s-hannan-shah: HTTPConnectionPool(host='data.alexa.com', port=80): Max retries exceeded with url: /data?cli=10&dat=s&url=http%3A//bdnews24.com/politics/2015/05/02/dire-consequences-unless-city-polls-cancelled-bnp-s-hannan-shah (Caused by NameResolutionError(\"<urllib3.connection.HTTPConnection object at 0x7e1318d689d0>: Failed to resolve 'data.alexa.com' ([Errno -2] Name or service not known)\"))\n",
            "Error fetching Alexa rank for http%3A//web.de/magazine/unterhaltung/adel/royal-baby-2/wohnt-prinzessin-charlotte-elizabeth-diana-30619870: HTTPConnectionPool(host='data.alexa.com', port=80): Max retries exceeded with url: /data?cli=10&dat=s&url=http%3A//web.de/magazine/unterhaltung/adel/royal-baby-2/wohnt-prinzessin-charlotte-elizabeth-diana-30619870 (Caused by NameResolutionError(\"<urllib3.connection.HTTPConnection object at 0x7e1318c1f9a0>: Failed to resolve 'data.alexa.com' ([Errno -2] Name or service not known)\"))\n",
            "Error fetching Alexa rank for http%3A//extratorrent.cc/torrent/4189415/Snow%252C%2BHeather-Sweet%2BDeception%2B-%2Bepub%2B-%2Bzeke23.html: HTTPConnectionPool(host='data.alexa.com', port=80): Max retries exceeded with url: /data?cli=10&dat=s&url=http%3A//extratorrent.cc/torrent/4189415/Snow%252C%2BHeather-Sweet%2BDeception%2B-%2Bepub%2B-%2Bzeke23.html (Caused by NameResolutionError(\"<urllib3.connection.HTTPConnection object at 0x7e1318c1fe50>: Failed to resolve 'data.alexa.com' ([Errno -2] Name or service not known)\"))\n",
            "Error fetching Alexa rank for http%3A//torcache.net/torrent/4EFE4986FC8B15951469CF6AC82FE102E8C9007A.torrent%3Ftitle%3D%5Bkickass.to%5Dif.i.stay.2014.720p.brrip.x264.yify: HTTPConnectionPool(host='data.alexa.com', port=80): Max retries exceeded with url: /data?cli=10&dat=s&url=http%3A//torcache.net/torrent/4EFE4986FC8B15951469CF6AC82FE102E8C9007A.torrent%3Ftitle%3D%5Bkickass.to%5Dif.i.stay.2014.720p.brrip.x264.yify (Caused by NameResolutionError(\"<urllib3.connection.HTTPConnection object at 0x7e1317d1ffa0>: Failed to resolve 'data.alexa.com' ([Errno -2] Name or service not known)\"))\n",
            "Error fetching Alexa rank for https%3A//twitter.com/share%3Furl%3Dhttp%253A%252F%252Fhubpages.com%252Fhub%252FEMT-Electrical-Conduit-Pipe-Bending-the-Math-Behind-a-Conduit-Bending-Guide%26text%3DFormulas%2Band%2BMultipliers%2BFor%2BBending%2BConduit%2Bor%2BElectrical%2BPipe: HTTPConnectionPool(host='data.alexa.com', port=80): Max retries exceeded with url: /data?cli=10&dat=s&url=https%3A//twitter.com/share%3Furl%3Dhttp%253A%252F%252Fhubpages.com%252Fhub%252FEMT-Electrical-Conduit-Pipe-Bending-the-Math-Behind-a-Conduit-Bending-Guide%26text%3DFormulas%2Band%2BMultipliers%2BFor%2BBending%2BConduit%2Bor%2BElectrical%2BPipe (Caused by NameResolutionError(\"<urllib3.connection.HTTPConnection object at 0x7e1318c1e6b0>: Failed to resolve 'data.alexa.com' ([Errno -2] Name or service not known)\"))\n",
            "Error fetching Alexa rank for http%3A//seekingalpha.com/article/2471615-mexico-economy-to-move-with-energy-reforms-part-1: HTTPConnectionPool(host='data.alexa.com', port=80): Max retries exceeded with url: /data?cli=10&dat=s&url=http%3A//seekingalpha.com/article/2471615-mexico-economy-to-move-with-energy-reforms-part-1 (Caused by NameResolutionError(\"<urllib3.connection.HTTPConnection object at 0x7e1317d1d9f0>: Failed to resolve 'data.alexa.com' ([Errno -2] Name or service not known)\"))\n",
            "Error fetching Alexa rank for http%3A//web.tv/liveCategory/6/language/1/index/changeLanguage/newshared/searchAutoComplete: HTTPConnectionPool(host='data.alexa.com', port=80): Max retries exceeded with url: /data?cli=10&dat=s&url=http%3A//web.tv/liveCategory/6/language/1/index/changeLanguage/newshared/searchAutoComplete (Caused by NameResolutionError(\"<urllib3.connection.HTTPConnection object at 0x7e1318c1ec50>: Failed to resolve 'data.alexa.com' ([Errno -2] Name or service not known)\"))\n",
            "Error fetching Alexa rank for http%3A//indianexpress.com/article/sports/football/chelsea-go-past-leicester-city-3-1-eye-premier-league-title/: HTTPConnectionPool(host='data.alexa.com', port=80): Max retries exceeded with url: /data?cli=10&dat=s&url=http%3A//indianexpress.com/article/sports/football/chelsea-go-past-leicester-city-3-1-eye-premier-league-title/ (Caused by NameResolutionError(\"<urllib3.connection.HTTPConnection object at 0x7e1317d1f130>: Failed to resolve 'data.alexa.com' ([Errno -2] Name or service not known)\"))\n",
            "Error fetching Alexa rank for http%3A//web.de/magazine/sport/fussball/champions-league/wunder-fc-schalke-04-real-madrid-champions-league-17321480: HTTPConnectionPool(host='data.alexa.com', port=80): Max retries exceeded with url: /data?cli=10&dat=s&url=http%3A//web.de/magazine/sport/fussball/champions-league/wunder-fc-schalke-04-real-madrid-champions-league-17321480 (Caused by NameResolutionError(\"<urllib3.connection.HTTPConnection object at 0x7e1318c1d840>: Failed to resolve 'data.alexa.com' ([Errno -2] Name or service not known)\"))\n",
            "Error fetching Alexa rank for http%3A//olx.co.id/i2/elektronik-gadget/komputer/keyboard-mouse/elektronik-gadget/komputer/keyboard-mouse: HTTPConnectionPool(host='data.alexa.com', port=80): Max retries exceeded with url: /data?cli=10&dat=s&url=http%3A//olx.co.id/i2/elektronik-gadget/komputer/keyboard-mouse/elektronik-gadget/komputer/keyboard-mouse (Caused by NameResolutionError(\"<urllib3.connection.HTTPConnection object at 0x7e1317d1edd0>: Failed to resolve 'data.alexa.com' ([Errno -2] Name or service not known)\"))\n",
            "Error fetching Alexa rank for http%3A//mylust.com/videos/171589/my-lewd-chinese-wife-is-really-into-having-sex-in-missionary-position/: HTTPConnectionPool(host='data.alexa.com', port=80): Max retries exceeded with url: /data?cli=10&dat=s&url=http%3A//mylust.com/videos/171589/my-lewd-chinese-wife-is-really-into-having-sex-in-missionary-position/ (Caused by NameResolutionError(\"<urllib3.connection.HTTPConnection object at 0x7e1318c1eb90>: Failed to resolve 'data.alexa.com' ([Errno -2] Name or service not known)\"))\n",
            "Error fetching Alexa rank for http%3A//babal.net/books/view/397/%25D9%2582%25D8%25A7%25D9%2586%25D9%2588%25D9%2586-%25D8%25BA%25D8%25B1%25D9%2581-%25D8%25A7%25D9%2584%25D8%25B5%25D9%2586%25D8%25A7%25D8%25B9%25D8%25A9-%25D8%25A7%25D9%2584%25D8%25A7%25D8%25B1%25D8%25AF%25D9%2586%25D9%258A: HTTPConnectionPool(host='data.alexa.com', port=80): Max retries exceeded with url: /data?cli=10&dat=s&url=http%3A//babal.net/books/view/397/%25D9%2582%25D8%25A7%25D9%2586%25D9%2588%25D9%2586-%25D8%25BA%25D8%25B1%25D9%2581-%25D8%25A7%25D9%2584%25D8%25B5%25D9%2586%25D8%25A7%25D8%25B9%25D8%25A9-%25D8%25A7%25D9%2584%25D8%25A7%25D8%25B1%25D8%25AF%25D9%2586%25D9%258A (Caused by NameResolutionError(\"<urllib3.connection.HTTPConnection object at 0x7e1318c1f610>: Failed to resolve 'data.alexa.com' ([Errno -2] Name or service not known)\"))\n",
            "Error fetching Alexa rank for http%3A//techcrunch.com/2014/03/18/hurry-this-is-your-last-chance-to-get-tickets-to-tonights-washington-d-c-meetup/: HTTPConnectionPool(host='data.alexa.com', port=80): Max retries exceeded with url: /data?cli=10&dat=s&url=http%3A//techcrunch.com/2014/03/18/hurry-this-is-your-last-chance-to-get-tickets-to-tonights-washington-d-c-meetup/ (Caused by NameResolutionError(\"<urllib3.connection.HTTPConnection object at 0x7e1317d1f400>: Failed to resolve 'data.alexa.com' ([Errno -2] Name or service not known)\"))\n",
            "Error fetching Alexa rank for http%3A//distractify.com/post/related/id/54b985434a0c4b136ee6813d/skip/30/limit/10/back/0: HTTPConnectionPool(host='data.alexa.com', port=80): Max retries exceeded with url: /data?cli=10&dat=s&url=http%3A//distractify.com/post/related/id/54b985434a0c4b136ee6813d/skip/30/limit/10/back/0 (Caused by NameResolutionError(\"<urllib3.connection.HTTPConnection object at 0x7e1318c1ca30>: Failed to resolve 'data.alexa.com' ([Errno -2] Name or service not known)\"))\n",
            "Error fetching Alexa rank for http%3A//kakaku.com/daily-goods/antimold-agent/ranking_7633/pricedown/div-gpt-ad-k/header_text: HTTPConnectionPool(host='data.alexa.com', port=80): Max retries exceeded with url: /data?cli=10&dat=s&url=http%3A//kakaku.com/daily-goods/antimold-agent/ranking_7633/pricedown/div-gpt-ad-k/header_text (Caused by NameResolutionError(\"<urllib3.connection.HTTPConnection object at 0x7e1317d1f910>: Failed to resolve 'data.alexa.com' ([Errno -2] Name or service not known)\"))\n",
            "Error fetching Alexa rank for http%3A//metro.co.uk/2015/04/30/harry-styles-spotted-minding-his-own-busines-son-los-angeles-bus-5174286/: HTTPConnectionPool(host='data.alexa.com', port=80): Max retries exceeded with url: /data?cli=10&dat=s&url=http%3A//metro.co.uk/2015/04/30/harry-styles-spotted-minding-his-own-busines-son-los-angeles-bus-5174286/ (Caused by NameResolutionError(\"<urllib3.connection.HTTPConnection object at 0x7e1318c1c8b0>: Failed to resolve 'data.alexa.com' ([Errno -2] Name or service not known)\"))\n"
          ]
        },
        {
          "metadata": {
            "tags": null
          },
          "name": "stderr",
          "output_type": "stream",
          "text": [
            "2024-07-04 20:11:20,090 - whois.whois - ERROR - Error trying to connect to socket: closing socket - [Errno -2] Name or service not known\n",
            "ERROR:whois.whois:Error trying to connect to socket: closing socket - [Errno -2] Name or service not known\n"
          ]
        },
        {
          "metadata": {
            "tags": null
          },
          "name": "stdout",
          "output_type": "stream",
          "text": [
            "Error fetching Alexa rank for http%3A//kienthuc.net.vn/tin-tuc-tuyen-sinh/ung-vien-du-hoc-theo-de-an-599-cp-huong-hoc-phi-400-trieunam-486551.html: HTTPConnectionPool(host='data.alexa.com', port=80): Max retries exceeded with url: /data?cli=10&dat=s&url=http%3A//kienthuc.net.vn/tin-tuc-tuyen-sinh/ung-vien-du-hoc-theo-de-an-599-cp-huong-hoc-phi-400-trieunam-486551.html (Caused by NameResolutionError(\"<urllib3.connection.HTTPConnection object at 0x7e1317d1f280>: Failed to resolve 'data.alexa.com' ([Errno -2] Name or service not known)\"))\n",
            "Error fetching Alexa rank for http%3A//web.de/magazine/reise/blog/gundel-woite/feucht-froehlicher-zwischenfall-donegal-30566558: HTTPConnectionPool(host='data.alexa.com', port=80): Max retries exceeded with url: /data?cli=10&dat=s&url=http%3A//web.de/magazine/reise/blog/gundel-woite/feucht-froehlicher-zwischenfall-donegal-30566558 (Caused by NameResolutionError(\"<urllib3.connection.HTTPConnection object at 0x7e1318c1f7f0>: Failed to resolve 'data.alexa.com' ([Errno -2] Name or service not known)\"))\n",
            "Error fetching Alexa rank for http%3A//thenextweb.com/insider/2012/10/30/as-prezi-amasses-more-than-15-million-users-it-promotes-the-idea-economy-and-moves-into-the-enterprise/gtm.js: HTTPConnectionPool(host='data.alexa.com', port=80): Max retries exceeded with url: /data?cli=10&dat=s&url=http%3A//thenextweb.com/insider/2012/10/30/as-prezi-amasses-more-than-15-million-users-it-promotes-the-idea-economy-and-moves-into-the-enterprise/gtm.js (Caused by NameResolutionError(\"<urllib3.connection.HTTPConnection object at 0x7e1317d1e950>: Failed to resolve 'data.alexa.com' ([Errno -2] Name or service not known)\"))\n",
            "Error fetching Alexa rank for https%3A//www.gov.uk/government/policies/economic-development-in-coastal-and-seaside-areas: HTTPConnectionPool(host='data.alexa.com', port=80): Max retries exceeded with url: /data?cli=10&dat=s&url=https%3A//www.gov.uk/government/policies/economic-development-in-coastal-and-seaside-areas (Caused by NameResolutionError(\"<urllib3.connection.HTTPConnection object at 0x7e1318c1d1b0>: Failed to resolve 'data.alexa.com' ([Errno -2] Name or service not known)\"))\n",
            "Error fetching Alexa rank for http%3A//olx.ua/uk/list/q-%25D0%25B1%25D0%25B0%25D0%25BB%25D0%25B5%25D1%2582%25D0%25BA%25D0%25B8/bIE64RPKp0urlDE3vSbHw8dRLeUY1kOFK2_KOEmw9UT.A7: HTTPConnectionPool(host='data.alexa.com', port=80): Max retries exceeded with url: /data?cli=10&dat=s&url=http%3A//olx.ua/uk/list/q-%25D0%25B1%25D0%25B0%25D0%25BB%25D0%25B5%25D1%2582%25D0%25BA%25D0%25B8/bIE64RPKp0urlDE3vSbHw8dRLeUY1kOFK2_KOEmw9UT.A7 (Caused by NameResolutionError(\"<urllib3.connection.HTTPConnection object at 0x7e1317d1e200>: Failed to resolve 'data.alexa.com' ([Errno -2] Name or service not known)\"))\n",
            "Error fetching Alexa rank for http%3A//olx.pl/uslugi-firmy/kategorie/JOcK7gzdoyrcIT2176iLzhCz8UoPOGcT6Y1ax8FNTPf.l7: HTTPConnectionPool(host='data.alexa.com', port=80): Max retries exceeded with url: /data?cli=10&dat=s&url=http%3A//olx.pl/uslugi-firmy/kategorie/JOcK7gzdoyrcIT2176iLzhCz8UoPOGcT6Y1ax8FNTPf.l7 (Caused by NameResolutionError(\"<urllib3.connection.HTTPConnection object at 0x7e1318c1e950>: Failed to resolve 'data.alexa.com' ([Errno -2] Name or service not known)\"))\n",
            "Error fetching Alexa rank for http%3A//babal.net/photos/54/%25D8%25AE%25D9%2584%25D9%2581%25D9%258A%25D8%25A7%25D8%25AA-%25D9%2588%25D9%258A%25D9%2586%25D8%25AF%25D9%2588%25D8%25B2: HTTPConnectionPool(host='data.alexa.com', port=80): Max retries exceeded with url: /data?cli=10&dat=s&url=http%3A//babal.net/photos/54/%25D8%25AE%25D9%2584%25D9%2581%25D9%258A%25D8%25A7%25D8%25AA-%25D9%2588%25D9%258A%25D9%2586%25D8%25AF%25D9%2588%25D8%25B2 (Caused by NameResolutionError(\"<urllib3.connection.HTTPConnection object at 0x7e1318c1e7a0>: Failed to resolve 'data.alexa.com' ([Errno -2] Name or service not known)\"))\n",
            "Error fetching Alexa rank for http%3A//correios.com.br/Para-governo/governo-municipal/solucoes-gratuitas-de-apoio-e-gestao/sigep-web: HTTPConnectionPool(host='data.alexa.com', port=80): Max retries exceeded with url: /data?cli=10&dat=s&url=http%3A//correios.com.br/Para-governo/governo-municipal/solucoes-gratuitas-de-apoio-e-gestao/sigep-web (Caused by NameResolutionError(\"<urllib3.connection.HTTPConnection object at 0x7e1318d69120>: Failed to resolve 'data.alexa.com' ([Errno -2] Name or service not known)\"))\n",
            "Error fetching Alexa rank for https%3A//myspace.com/article/2015/4/27/family-amy-winehouse-says-amy-documentary-misleading: HTTPConnectionPool(host='data.alexa.com', port=80): Max retries exceeded with url: /data?cli=10&dat=s&url=https%3A//myspace.com/article/2015/4/27/family-amy-winehouse-says-amy-documentary-misleading (Caused by NameResolutionError(\"<urllib3.connection.HTTPConnection object at 0x7e1318c1d420>: Failed to resolve 'data.alexa.com' ([Errno -2] Name or service not known)\"))\n",
            "Error fetching Alexa rank for http%3A//indianexpress.com/article/good-news/covered-in-tar-street-dog-rescued-in-three-hours/: HTTPConnectionPool(host='data.alexa.com', port=80): Max retries exceeded with url: /data?cli=10&dat=s&url=http%3A//indianexpress.com/article/good-news/covered-in-tar-street-dog-rescued-in-three-hours/ (Caused by NameResolutionError(\"<urllib3.connection.HTTPConnection object at 0x7e1317d1c3a0>: Failed to resolve 'data.alexa.com' ([Errno -2] Name or service not known)\"))\n",
            "Error fetching Alexa rank for http%3A//web.de/magazine/gesundheit/blog/ulli-goebl/7-nahrungsmittel-stimmung-energielevel-jahr-heben-30335162: HTTPConnectionPool(host='data.alexa.com', port=80): Max retries exceeded with url: /data?cli=10&dat=s&url=http%3A//web.de/magazine/gesundheit/blog/ulli-goebl/7-nahrungsmittel-stimmung-energielevel-jahr-heben-30335162 (Caused by NameResolutionError(\"<urllib3.connection.HTTPConnection object at 0x7e1317d1c3a0>: Failed to resolve 'data.alexa.com' ([Errno -2] Name or service not known)\"))\n",
            "Error fetching Alexa rank for http%3A//olx.in/hi/item/nokia-lumia-520-with-3-back-covers-and-data-cable-and-box-IDWjzgb.html: HTTPConnectionPool(host='data.alexa.com', port=80): Max retries exceeded with url: /data?cli=10&dat=s&url=http%3A//olx.in/hi/item/nokia-lumia-520-with-3-back-covers-and-data-cable-and-box-IDWjzgb.html (Caused by NameResolutionError(\"<urllib3.connection.HTTPConnection object at 0x7e1318c1c340>: Failed to resolve 'data.alexa.com' ([Errno -2] Name or service not known)\"))\n"
          ]
        }
      ]
    },
    {
      "cell_type": "code",
      "source": [
        "#converting the list to dataframe\n",
        "feature_names = ['Domain', 'Have_IP', 'Have_At', 'URL_Length', 'URL_Depth','Redirection',\n",
        "                      'https_Domain', 'TinyURL', 'Prefix/Suffix', 'DNS_Record', 'Web_Traffic',\n",
        "                      'Domain_Age', 'Domain_End', 'iFrame', 'Mouse_Over','Right_Click', 'Web_Forwards', 'Label']\n",
        "\n",
        "legitimate = pd.DataFrame(leg_features, columns= feature_names)\n",
        "legitimate.head()"
      ],
      "metadata": {
        "id": "ylBjG1NFTIMs",
        "colab": {
          "base_uri": "https://localhost:8080/",
          "height": 193
        },
        "outputId": "87e13258-e42e-4707-8bcf-96d7b94826ff"
      },
      "execution_count": 1,
      "outputs": [
        {
          "output_type": "error",
          "ename": "NameError",
          "evalue": "name 'pd' is not defined",
          "traceback": [
            "\u001b[0;31m---------------------------------------------------------------------------\u001b[0m",
            "\u001b[0;31mNameError\u001b[0m                                 Traceback (most recent call last)",
            "\u001b[0;32m<ipython-input-1-97e2015d1d18>\u001b[0m in \u001b[0;36m<cell line: 6>\u001b[0;34m()\u001b[0m\n\u001b[1;32m      4\u001b[0m                       'Domain_Age', 'Domain_End', 'iFrame', 'Mouse_Over','Right_Click', 'Web_Forwards', 'Label']\n\u001b[1;32m      5\u001b[0m \u001b[0;34m\u001b[0m\u001b[0m\n\u001b[0;32m----> 6\u001b[0;31m \u001b[0mlegitimate\u001b[0m \u001b[0;34m=\u001b[0m \u001b[0mpd\u001b[0m\u001b[0;34m.\u001b[0m\u001b[0mDataFrame\u001b[0m\u001b[0;34m(\u001b[0m\u001b[0mleg_features\u001b[0m\u001b[0;34m,\u001b[0m \u001b[0mcolumns\u001b[0m\u001b[0;34m=\u001b[0m \u001b[0mfeature_names\u001b[0m\u001b[0;34m)\u001b[0m\u001b[0;34m\u001b[0m\u001b[0;34m\u001b[0m\u001b[0m\n\u001b[0m\u001b[1;32m      7\u001b[0m \u001b[0mlegitimate\u001b[0m\u001b[0;34m.\u001b[0m\u001b[0mhead\u001b[0m\u001b[0;34m(\u001b[0m\u001b[0;34m)\u001b[0m\u001b[0;34m\u001b[0m\u001b[0;34m\u001b[0m\u001b[0m\n",
            "\u001b[0;31mNameError\u001b[0m: name 'pd' is not defined"
          ]
        }
      ]
    },
    {
      "cell_type": "code",
      "source": [
        "# Storing the extracted legitimate URLs fatures to csv file\n",
        "legitimate.to_csv('legitimate.csv', index= False)"
      ],
      "metadata": {
        "id": "pmu5gN1tTM9g"
      },
      "execution_count": null,
      "outputs": []
    },
    {
      "cell_type": "markdown",
      "source": [
        "### Phishing URLs:\n",
        "\n",
        "Now, feature extraction is performed on phishing URLs."
      ],
      "metadata": {
        "id": "MsjfE8C7TSiq"
      }
    },
    {
      "cell_type": "code",
      "source": [
        "phishurl.shape"
      ],
      "metadata": {
        "colab": {
          "base_uri": "https://localhost:8080/"
        },
        "id": "7C9-c_6FTVDj",
        "outputId": "776cdc9a-cfda-4218-bf35-6521754c1fec"
      },
      "execution_count": null,
      "outputs": [
        {
          "output_type": "execute_result",
          "data": {
            "text/plain": [
              "(5000, 8)"
            ]
          },
          "metadata": {},
          "execution_count": 118
        }
      ]
    },
    {
      "cell_type": "code",
      "source": [
        "#Extracting the feautres & storing them in a list\n",
        "phish_features = []\n",
        "label = 1\n",
        "for i in range(0, 5000):\n",
        "  url = phishurl['url'][i]\n",
        "  phish_features.append(featureExtraction(url,label))"
      ],
      "metadata": {
        "colab": {
          "base_uri": "https://localhost:8080/",
          "height": 408
        },
        "id": "FuwaOlA9TYyk",
        "outputId": "dd4564a7-c699-4092-e6d0-71310a0c0ce6"
      },
      "execution_count": null,
      "outputs": [
        {
          "output_type": "error",
          "ename": "URLError",
          "evalue": "<urlopen error [Errno -2] Name or service not known>",
          "traceback": [
            "\u001b[0;31m---------------------------------------------------------------------------\u001b[0m",
            "\u001b[0;31mgaierror\u001b[0m                                  Traceback (most recent call last)",
            "\u001b[0;32m/usr/lib/python3.10/urllib/request.py\u001b[0m in \u001b[0;36mdo_open\u001b[0;34m(self, http_class, req, **http_conn_args)\u001b[0m\n\u001b[1;32m   1347\u001b[0m             \u001b[0;32mtry\u001b[0m\u001b[0;34m:\u001b[0m\u001b[0;34m\u001b[0m\u001b[0;34m\u001b[0m\u001b[0m\n\u001b[0;32m-> 1348\u001b[0;31m                 h.request(req.get_method(), req.selector, req.data, headers,\n\u001b[0m\u001b[1;32m   1349\u001b[0m                           encode_chunked=req.has_header('Transfer-encoding'))\n",
            "\u001b[0;32m/usr/lib/python3.10/http/client.py\u001b[0m in \u001b[0;36mrequest\u001b[0;34m(self, method, url, body, headers, encode_chunked)\u001b[0m\n\u001b[1;32m   1282\u001b[0m         \u001b[0;34m\"\"\"Send a complete request to the server.\"\"\"\u001b[0m\u001b[0;34m\u001b[0m\u001b[0;34m\u001b[0m\u001b[0m\n\u001b[0;32m-> 1283\u001b[0;31m         \u001b[0mself\u001b[0m\u001b[0;34m.\u001b[0m\u001b[0m_send_request\u001b[0m\u001b[0;34m(\u001b[0m\u001b[0mmethod\u001b[0m\u001b[0;34m,\u001b[0m \u001b[0murl\u001b[0m\u001b[0;34m,\u001b[0m \u001b[0mbody\u001b[0m\u001b[0;34m,\u001b[0m \u001b[0mheaders\u001b[0m\u001b[0;34m,\u001b[0m \u001b[0mencode_chunked\u001b[0m\u001b[0;34m)\u001b[0m\u001b[0;34m\u001b[0m\u001b[0;34m\u001b[0m\u001b[0m\n\u001b[0m\u001b[1;32m   1284\u001b[0m \u001b[0;34m\u001b[0m\u001b[0m\n",
            "\u001b[0;32m/usr/lib/python3.10/http/client.py\u001b[0m in \u001b[0;36m_send_request\u001b[0;34m(self, method, url, body, headers, encode_chunked)\u001b[0m\n\u001b[1;32m   1328\u001b[0m             \u001b[0mbody\u001b[0m \u001b[0;34m=\u001b[0m \u001b[0m_encode\u001b[0m\u001b[0;34m(\u001b[0m\u001b[0mbody\u001b[0m\u001b[0;34m,\u001b[0m \u001b[0;34m'body'\u001b[0m\u001b[0;34m)\u001b[0m\u001b[0;34m\u001b[0m\u001b[0;34m\u001b[0m\u001b[0m\n\u001b[0;32m-> 1329\u001b[0;31m         \u001b[0mself\u001b[0m\u001b[0;34m.\u001b[0m\u001b[0mendheaders\u001b[0m\u001b[0;34m(\u001b[0m\u001b[0mbody\u001b[0m\u001b[0;34m,\u001b[0m \u001b[0mencode_chunked\u001b[0m\u001b[0;34m=\u001b[0m\u001b[0mencode_chunked\u001b[0m\u001b[0;34m)\u001b[0m\u001b[0;34m\u001b[0m\u001b[0;34m\u001b[0m\u001b[0m\n\u001b[0m\u001b[1;32m   1330\u001b[0m \u001b[0;34m\u001b[0m\u001b[0m\n",
            "\u001b[0;32m/usr/lib/python3.10/http/client.py\u001b[0m in \u001b[0;36mendheaders\u001b[0;34m(self, message_body, encode_chunked)\u001b[0m\n\u001b[1;32m   1277\u001b[0m             \u001b[0;32mraise\u001b[0m \u001b[0mCannotSendHeader\u001b[0m\u001b[0;34m(\u001b[0m\u001b[0;34m)\u001b[0m\u001b[0;34m\u001b[0m\u001b[0;34m\u001b[0m\u001b[0m\n\u001b[0;32m-> 1278\u001b[0;31m         \u001b[0mself\u001b[0m\u001b[0;34m.\u001b[0m\u001b[0m_send_output\u001b[0m\u001b[0;34m(\u001b[0m\u001b[0mmessage_body\u001b[0m\u001b[0;34m,\u001b[0m \u001b[0mencode_chunked\u001b[0m\u001b[0;34m=\u001b[0m\u001b[0mencode_chunked\u001b[0m\u001b[0;34m)\u001b[0m\u001b[0;34m\u001b[0m\u001b[0;34m\u001b[0m\u001b[0m\n\u001b[0m\u001b[1;32m   1279\u001b[0m \u001b[0;34m\u001b[0m\u001b[0m\n",
            "\u001b[0;32m/usr/lib/python3.10/http/client.py\u001b[0m in \u001b[0;36m_send_output\u001b[0;34m(self, message_body, encode_chunked)\u001b[0m\n\u001b[1;32m   1037\u001b[0m         \u001b[0;32mdel\u001b[0m \u001b[0mself\u001b[0m\u001b[0;34m.\u001b[0m\u001b[0m_buffer\u001b[0m\u001b[0;34m[\u001b[0m\u001b[0;34m:\u001b[0m\u001b[0;34m]\u001b[0m\u001b[0;34m\u001b[0m\u001b[0;34m\u001b[0m\u001b[0m\n\u001b[0;32m-> 1038\u001b[0;31m         \u001b[0mself\u001b[0m\u001b[0;34m.\u001b[0m\u001b[0msend\u001b[0m\u001b[0;34m(\u001b[0m\u001b[0mmsg\u001b[0m\u001b[0;34m)\u001b[0m\u001b[0;34m\u001b[0m\u001b[0;34m\u001b[0m\u001b[0m\n\u001b[0m\u001b[1;32m   1039\u001b[0m \u001b[0;34m\u001b[0m\u001b[0m\n",
            "\u001b[0;32m/usr/lib/python3.10/http/client.py\u001b[0m in \u001b[0;36msend\u001b[0;34m(self, data)\u001b[0m\n\u001b[1;32m    975\u001b[0m             \u001b[0;32mif\u001b[0m \u001b[0mself\u001b[0m\u001b[0;34m.\u001b[0m\u001b[0mauto_open\u001b[0m\u001b[0;34m:\u001b[0m\u001b[0;34m\u001b[0m\u001b[0;34m\u001b[0m\u001b[0m\n\u001b[0;32m--> 976\u001b[0;31m                 \u001b[0mself\u001b[0m\u001b[0;34m.\u001b[0m\u001b[0mconnect\u001b[0m\u001b[0;34m(\u001b[0m\u001b[0;34m)\u001b[0m\u001b[0;34m\u001b[0m\u001b[0;34m\u001b[0m\u001b[0m\n\u001b[0m\u001b[1;32m    977\u001b[0m             \u001b[0;32melse\u001b[0m\u001b[0;34m:\u001b[0m\u001b[0;34m\u001b[0m\u001b[0;34m\u001b[0m\u001b[0m\n",
            "\u001b[0;32m/usr/lib/python3.10/http/client.py\u001b[0m in \u001b[0;36mconnect\u001b[0;34m(self)\u001b[0m\n\u001b[1;32m    941\u001b[0m         \u001b[0msys\u001b[0m\u001b[0;34m.\u001b[0m\u001b[0maudit\u001b[0m\u001b[0;34m(\u001b[0m\u001b[0;34m\"http.client.connect\"\u001b[0m\u001b[0;34m,\u001b[0m \u001b[0mself\u001b[0m\u001b[0;34m,\u001b[0m \u001b[0mself\u001b[0m\u001b[0;34m.\u001b[0m\u001b[0mhost\u001b[0m\u001b[0;34m,\u001b[0m \u001b[0mself\u001b[0m\u001b[0;34m.\u001b[0m\u001b[0mport\u001b[0m\u001b[0;34m)\u001b[0m\u001b[0;34m\u001b[0m\u001b[0;34m\u001b[0m\u001b[0m\n\u001b[0;32m--> 942\u001b[0;31m         self.sock = self._create_connection(\n\u001b[0m\u001b[1;32m    943\u001b[0m             (self.host,self.port), self.timeout, self.source_address)\n",
            "\u001b[0;32m/usr/lib/python3.10/socket.py\u001b[0m in \u001b[0;36mcreate_connection\u001b[0;34m(address, timeout, source_address)\u001b[0m\n\u001b[1;32m    823\u001b[0m     \u001b[0merr\u001b[0m \u001b[0;34m=\u001b[0m \u001b[0;32mNone\u001b[0m\u001b[0;34m\u001b[0m\u001b[0;34m\u001b[0m\u001b[0m\n\u001b[0;32m--> 824\u001b[0;31m     \u001b[0;32mfor\u001b[0m \u001b[0mres\u001b[0m \u001b[0;32min\u001b[0m \u001b[0mgetaddrinfo\u001b[0m\u001b[0;34m(\u001b[0m\u001b[0mhost\u001b[0m\u001b[0;34m,\u001b[0m \u001b[0mport\u001b[0m\u001b[0;34m,\u001b[0m \u001b[0;36m0\u001b[0m\u001b[0;34m,\u001b[0m \u001b[0mSOCK_STREAM\u001b[0m\u001b[0;34m)\u001b[0m\u001b[0;34m:\u001b[0m\u001b[0;34m\u001b[0m\u001b[0;34m\u001b[0m\u001b[0m\n\u001b[0m\u001b[1;32m    825\u001b[0m         \u001b[0maf\u001b[0m\u001b[0;34m,\u001b[0m \u001b[0msocktype\u001b[0m\u001b[0;34m,\u001b[0m \u001b[0mproto\u001b[0m\u001b[0;34m,\u001b[0m \u001b[0mcanonname\u001b[0m\u001b[0;34m,\u001b[0m \u001b[0msa\u001b[0m \u001b[0;34m=\u001b[0m \u001b[0mres\u001b[0m\u001b[0;34m\u001b[0m\u001b[0;34m\u001b[0m\u001b[0m\n",
            "\u001b[0;32m/usr/lib/python3.10/socket.py\u001b[0m in \u001b[0;36mgetaddrinfo\u001b[0;34m(host, port, family, type, proto, flags)\u001b[0m\n\u001b[1;32m    954\u001b[0m     \u001b[0maddrlist\u001b[0m \u001b[0;34m=\u001b[0m \u001b[0;34m[\u001b[0m\u001b[0;34m]\u001b[0m\u001b[0;34m\u001b[0m\u001b[0;34m\u001b[0m\u001b[0m\n\u001b[0;32m--> 955\u001b[0;31m     \u001b[0;32mfor\u001b[0m \u001b[0mres\u001b[0m \u001b[0;32min\u001b[0m \u001b[0m_socket\u001b[0m\u001b[0;34m.\u001b[0m\u001b[0mgetaddrinfo\u001b[0m\u001b[0;34m(\u001b[0m\u001b[0mhost\u001b[0m\u001b[0;34m,\u001b[0m \u001b[0mport\u001b[0m\u001b[0;34m,\u001b[0m \u001b[0mfamily\u001b[0m\u001b[0;34m,\u001b[0m \u001b[0mtype\u001b[0m\u001b[0;34m,\u001b[0m \u001b[0mproto\u001b[0m\u001b[0;34m,\u001b[0m \u001b[0mflags\u001b[0m\u001b[0;34m)\u001b[0m\u001b[0;34m:\u001b[0m\u001b[0;34m\u001b[0m\u001b[0;34m\u001b[0m\u001b[0m\n\u001b[0m\u001b[1;32m    956\u001b[0m         \u001b[0maf\u001b[0m\u001b[0;34m,\u001b[0m \u001b[0msocktype\u001b[0m\u001b[0;34m,\u001b[0m \u001b[0mproto\u001b[0m\u001b[0;34m,\u001b[0m \u001b[0mcanonname\u001b[0m\u001b[0;34m,\u001b[0m \u001b[0msa\u001b[0m \u001b[0;34m=\u001b[0m \u001b[0mres\u001b[0m\u001b[0;34m\u001b[0m\u001b[0;34m\u001b[0m\u001b[0m\n",
            "\u001b[0;31mgaierror\u001b[0m: [Errno -2] Name or service not known",
            "\nDuring handling of the above exception, another exception occurred:\n",
            "\u001b[0;31mURLError\u001b[0m                                  Traceback (most recent call last)",
            "\u001b[0;32m<ipython-input-119-dd7c74612841>\u001b[0m in \u001b[0;36m<cell line: 4>\u001b[0;34m()\u001b[0m\n\u001b[1;32m      4\u001b[0m \u001b[0;32mfor\u001b[0m \u001b[0mi\u001b[0m \u001b[0;32min\u001b[0m \u001b[0mrange\u001b[0m\u001b[0;34m(\u001b[0m\u001b[0;36m0\u001b[0m\u001b[0;34m,\u001b[0m \u001b[0;36m5000\u001b[0m\u001b[0;34m)\u001b[0m\u001b[0;34m:\u001b[0m\u001b[0;34m\u001b[0m\u001b[0;34m\u001b[0m\u001b[0m\n\u001b[1;32m      5\u001b[0m   \u001b[0murl\u001b[0m \u001b[0;34m=\u001b[0m \u001b[0mphishurl\u001b[0m\u001b[0;34m[\u001b[0m\u001b[0;34m'url'\u001b[0m\u001b[0;34m]\u001b[0m\u001b[0;34m[\u001b[0m\u001b[0mi\u001b[0m\u001b[0;34m]\u001b[0m\u001b[0;34m\u001b[0m\u001b[0;34m\u001b[0m\u001b[0m\n\u001b[0;32m----> 6\u001b[0;31m   \u001b[0mphish_features\u001b[0m\u001b[0;34m.\u001b[0m\u001b[0mappend\u001b[0m\u001b[0;34m(\u001b[0m\u001b[0mfeatureExtraction\u001b[0m\u001b[0;34m(\u001b[0m\u001b[0murl\u001b[0m\u001b[0;34m,\u001b[0m\u001b[0mlabel\u001b[0m\u001b[0;34m)\u001b[0m\u001b[0;34m)\u001b[0m\u001b[0;34m\u001b[0m\u001b[0;34m\u001b[0m\u001b[0m\n\u001b[0m",
            "\u001b[0;32m<ipython-input-113-cda07a35c63c>\u001b[0m in \u001b[0;36mfeatureExtraction\u001b[0;34m(url, label)\u001b[0m\n\u001b[1;32m     22\u001b[0m \u001b[0;34m\u001b[0m\u001b[0m\n\u001b[1;32m     23\u001b[0m   \u001b[0mfeatures\u001b[0m\u001b[0;34m.\u001b[0m\u001b[0mappend\u001b[0m\u001b[0;34m(\u001b[0m\u001b[0mdns\u001b[0m\u001b[0;34m)\u001b[0m\u001b[0;34m\u001b[0m\u001b[0;34m\u001b[0m\u001b[0m\n\u001b[0;32m---> 24\u001b[0;31m   \u001b[0mfeatures\u001b[0m\u001b[0;34m.\u001b[0m\u001b[0mappend\u001b[0m\u001b[0;34m(\u001b[0m\u001b[0mweb_traffic\u001b[0m\u001b[0;34m(\u001b[0m\u001b[0murl\u001b[0m\u001b[0;34m)\u001b[0m\u001b[0;34m)\u001b[0m\u001b[0;34m\u001b[0m\u001b[0;34m\u001b[0m\u001b[0m\n\u001b[0m\u001b[1;32m     25\u001b[0m   \u001b[0mfeatures\u001b[0m\u001b[0;34m.\u001b[0m\u001b[0mappend\u001b[0m\u001b[0;34m(\u001b[0m\u001b[0;36m1\u001b[0m \u001b[0;32mif\u001b[0m \u001b[0mdns\u001b[0m \u001b[0;34m==\u001b[0m \u001b[0;36m1\u001b[0m \u001b[0;32melse\u001b[0m \u001b[0mdomainAge\u001b[0m\u001b[0;34m(\u001b[0m\u001b[0mdomain_name\u001b[0m\u001b[0;34m)\u001b[0m\u001b[0;34m)\u001b[0m\u001b[0;34m\u001b[0m\u001b[0;34m\u001b[0m\u001b[0m\n\u001b[1;32m     26\u001b[0m   \u001b[0mfeatures\u001b[0m\u001b[0;34m.\u001b[0m\u001b[0mappend\u001b[0m\u001b[0;34m(\u001b[0m\u001b[0;36m1\u001b[0m \u001b[0;32mif\u001b[0m \u001b[0mdns\u001b[0m \u001b[0;34m==\u001b[0m \u001b[0;36m1\u001b[0m \u001b[0;32melse\u001b[0m \u001b[0mdomainEnd\u001b[0m\u001b[0;34m(\u001b[0m\u001b[0mdomain_name\u001b[0m\u001b[0;34m)\u001b[0m\u001b[0;34m)\u001b[0m\u001b[0;34m\u001b[0m\u001b[0;34m\u001b[0m\u001b[0m\n",
            "\u001b[0;32m<ipython-input-105-303ff97a2431>\u001b[0m in \u001b[0;36mweb_traffic\u001b[0;34m(url)\u001b[0m\n\u001b[1;32m      4\u001b[0m     \u001b[0;31m#Filling the whitespaces in the URL if any\u001b[0m\u001b[0;34m\u001b[0m\u001b[0;34m\u001b[0m\u001b[0m\n\u001b[1;32m      5\u001b[0m     \u001b[0murl\u001b[0m \u001b[0;34m=\u001b[0m \u001b[0murllib\u001b[0m\u001b[0;34m.\u001b[0m\u001b[0mparse\u001b[0m\u001b[0;34m.\u001b[0m\u001b[0mquote\u001b[0m\u001b[0;34m(\u001b[0m\u001b[0murl\u001b[0m\u001b[0;34m)\u001b[0m\u001b[0;34m\u001b[0m\u001b[0;34m\u001b[0m\u001b[0m\n\u001b[0;32m----> 6\u001b[0;31m     rank = BeautifulSoup(urllib.request.urlopen(\"http://data.alexa.com/data?cli=10&dat=s&url=\" + url).read(), \"xml\").find(\n\u001b[0m\u001b[1;32m      7\u001b[0m         \"REACH\")['RANK']\n\u001b[1;32m      8\u001b[0m     \u001b[0mrank\u001b[0m \u001b[0;34m=\u001b[0m \u001b[0mint\u001b[0m\u001b[0;34m(\u001b[0m\u001b[0mrank\u001b[0m\u001b[0;34m)\u001b[0m\u001b[0;34m\u001b[0m\u001b[0;34m\u001b[0m\u001b[0m\n",
            "\u001b[0;32m/usr/lib/python3.10/urllib/request.py\u001b[0m in \u001b[0;36murlopen\u001b[0;34m(url, data, timeout, cafile, capath, cadefault, context)\u001b[0m\n\u001b[1;32m    214\u001b[0m     \u001b[0;32melse\u001b[0m\u001b[0;34m:\u001b[0m\u001b[0;34m\u001b[0m\u001b[0;34m\u001b[0m\u001b[0m\n\u001b[1;32m    215\u001b[0m         \u001b[0mopener\u001b[0m \u001b[0;34m=\u001b[0m \u001b[0m_opener\u001b[0m\u001b[0;34m\u001b[0m\u001b[0;34m\u001b[0m\u001b[0m\n\u001b[0;32m--> 216\u001b[0;31m     \u001b[0;32mreturn\u001b[0m \u001b[0mopener\u001b[0m\u001b[0;34m.\u001b[0m\u001b[0mopen\u001b[0m\u001b[0;34m(\u001b[0m\u001b[0murl\u001b[0m\u001b[0;34m,\u001b[0m \u001b[0mdata\u001b[0m\u001b[0;34m,\u001b[0m \u001b[0mtimeout\u001b[0m\u001b[0;34m)\u001b[0m\u001b[0;34m\u001b[0m\u001b[0;34m\u001b[0m\u001b[0m\n\u001b[0m\u001b[1;32m    217\u001b[0m \u001b[0;34m\u001b[0m\u001b[0m\n\u001b[1;32m    218\u001b[0m \u001b[0;32mdef\u001b[0m \u001b[0minstall_opener\u001b[0m\u001b[0;34m(\u001b[0m\u001b[0mopener\u001b[0m\u001b[0;34m)\u001b[0m\u001b[0;34m:\u001b[0m\u001b[0;34m\u001b[0m\u001b[0;34m\u001b[0m\u001b[0m\n",
            "\u001b[0;32m/usr/lib/python3.10/urllib/request.py\u001b[0m in \u001b[0;36mopen\u001b[0;34m(self, fullurl, data, timeout)\u001b[0m\n\u001b[1;32m    517\u001b[0m \u001b[0;34m\u001b[0m\u001b[0m\n\u001b[1;32m    518\u001b[0m         \u001b[0msys\u001b[0m\u001b[0;34m.\u001b[0m\u001b[0maudit\u001b[0m\u001b[0;34m(\u001b[0m\u001b[0;34m'urllib.Request'\u001b[0m\u001b[0;34m,\u001b[0m \u001b[0mreq\u001b[0m\u001b[0;34m.\u001b[0m\u001b[0mfull_url\u001b[0m\u001b[0;34m,\u001b[0m \u001b[0mreq\u001b[0m\u001b[0;34m.\u001b[0m\u001b[0mdata\u001b[0m\u001b[0;34m,\u001b[0m \u001b[0mreq\u001b[0m\u001b[0;34m.\u001b[0m\u001b[0mheaders\u001b[0m\u001b[0;34m,\u001b[0m \u001b[0mreq\u001b[0m\u001b[0;34m.\u001b[0m\u001b[0mget_method\u001b[0m\u001b[0;34m(\u001b[0m\u001b[0;34m)\u001b[0m\u001b[0;34m)\u001b[0m\u001b[0;34m\u001b[0m\u001b[0;34m\u001b[0m\u001b[0m\n\u001b[0;32m--> 519\u001b[0;31m         \u001b[0mresponse\u001b[0m \u001b[0;34m=\u001b[0m \u001b[0mself\u001b[0m\u001b[0;34m.\u001b[0m\u001b[0m_open\u001b[0m\u001b[0;34m(\u001b[0m\u001b[0mreq\u001b[0m\u001b[0;34m,\u001b[0m \u001b[0mdata\u001b[0m\u001b[0;34m)\u001b[0m\u001b[0;34m\u001b[0m\u001b[0;34m\u001b[0m\u001b[0m\n\u001b[0m\u001b[1;32m    520\u001b[0m \u001b[0;34m\u001b[0m\u001b[0m\n\u001b[1;32m    521\u001b[0m         \u001b[0;31m# post-process response\u001b[0m\u001b[0;34m\u001b[0m\u001b[0;34m\u001b[0m\u001b[0m\n",
            "\u001b[0;32m/usr/lib/python3.10/urllib/request.py\u001b[0m in \u001b[0;36m_open\u001b[0;34m(self, req, data)\u001b[0m\n\u001b[1;32m    534\u001b[0m \u001b[0;34m\u001b[0m\u001b[0m\n\u001b[1;32m    535\u001b[0m         \u001b[0mprotocol\u001b[0m \u001b[0;34m=\u001b[0m \u001b[0mreq\u001b[0m\u001b[0;34m.\u001b[0m\u001b[0mtype\u001b[0m\u001b[0;34m\u001b[0m\u001b[0;34m\u001b[0m\u001b[0m\n\u001b[0;32m--> 536\u001b[0;31m         result = self._call_chain(self.handle_open, protocol, protocol +\n\u001b[0m\u001b[1;32m    537\u001b[0m                                   '_open', req)\n\u001b[1;32m    538\u001b[0m         \u001b[0;32mif\u001b[0m \u001b[0mresult\u001b[0m\u001b[0;34m:\u001b[0m\u001b[0;34m\u001b[0m\u001b[0;34m\u001b[0m\u001b[0m\n",
            "\u001b[0;32m/usr/lib/python3.10/urllib/request.py\u001b[0m in \u001b[0;36m_call_chain\u001b[0;34m(self, chain, kind, meth_name, *args)\u001b[0m\n\u001b[1;32m    494\u001b[0m         \u001b[0;32mfor\u001b[0m \u001b[0mhandler\u001b[0m \u001b[0;32min\u001b[0m \u001b[0mhandlers\u001b[0m\u001b[0;34m:\u001b[0m\u001b[0;34m\u001b[0m\u001b[0;34m\u001b[0m\u001b[0m\n\u001b[1;32m    495\u001b[0m             \u001b[0mfunc\u001b[0m \u001b[0;34m=\u001b[0m \u001b[0mgetattr\u001b[0m\u001b[0;34m(\u001b[0m\u001b[0mhandler\u001b[0m\u001b[0;34m,\u001b[0m \u001b[0mmeth_name\u001b[0m\u001b[0;34m)\u001b[0m\u001b[0;34m\u001b[0m\u001b[0;34m\u001b[0m\u001b[0m\n\u001b[0;32m--> 496\u001b[0;31m             \u001b[0mresult\u001b[0m \u001b[0;34m=\u001b[0m \u001b[0mfunc\u001b[0m\u001b[0;34m(\u001b[0m\u001b[0;34m*\u001b[0m\u001b[0margs\u001b[0m\u001b[0;34m)\u001b[0m\u001b[0;34m\u001b[0m\u001b[0;34m\u001b[0m\u001b[0m\n\u001b[0m\u001b[1;32m    497\u001b[0m             \u001b[0;32mif\u001b[0m \u001b[0mresult\u001b[0m \u001b[0;32mis\u001b[0m \u001b[0;32mnot\u001b[0m \u001b[0;32mNone\u001b[0m\u001b[0;34m:\u001b[0m\u001b[0;34m\u001b[0m\u001b[0;34m\u001b[0m\u001b[0m\n\u001b[1;32m    498\u001b[0m                 \u001b[0;32mreturn\u001b[0m \u001b[0mresult\u001b[0m\u001b[0;34m\u001b[0m\u001b[0;34m\u001b[0m\u001b[0m\n",
            "\u001b[0;32m/usr/lib/python3.10/urllib/request.py\u001b[0m in \u001b[0;36mhttp_open\u001b[0;34m(self, req)\u001b[0m\n\u001b[1;32m   1375\u001b[0m \u001b[0;34m\u001b[0m\u001b[0m\n\u001b[1;32m   1376\u001b[0m     \u001b[0;32mdef\u001b[0m \u001b[0mhttp_open\u001b[0m\u001b[0;34m(\u001b[0m\u001b[0mself\u001b[0m\u001b[0;34m,\u001b[0m \u001b[0mreq\u001b[0m\u001b[0;34m)\u001b[0m\u001b[0;34m:\u001b[0m\u001b[0;34m\u001b[0m\u001b[0;34m\u001b[0m\u001b[0m\n\u001b[0;32m-> 1377\u001b[0;31m         \u001b[0;32mreturn\u001b[0m \u001b[0mself\u001b[0m\u001b[0;34m.\u001b[0m\u001b[0mdo_open\u001b[0m\u001b[0;34m(\u001b[0m\u001b[0mhttp\u001b[0m\u001b[0;34m.\u001b[0m\u001b[0mclient\u001b[0m\u001b[0;34m.\u001b[0m\u001b[0mHTTPConnection\u001b[0m\u001b[0;34m,\u001b[0m \u001b[0mreq\u001b[0m\u001b[0;34m)\u001b[0m\u001b[0;34m\u001b[0m\u001b[0;34m\u001b[0m\u001b[0m\n\u001b[0m\u001b[1;32m   1378\u001b[0m \u001b[0;34m\u001b[0m\u001b[0m\n\u001b[1;32m   1379\u001b[0m     \u001b[0mhttp_request\u001b[0m \u001b[0;34m=\u001b[0m \u001b[0mAbstractHTTPHandler\u001b[0m\u001b[0;34m.\u001b[0m\u001b[0mdo_request_\u001b[0m\u001b[0;34m\u001b[0m\u001b[0;34m\u001b[0m\u001b[0m\n",
            "\u001b[0;32m/usr/lib/python3.10/urllib/request.py\u001b[0m in \u001b[0;36mdo_open\u001b[0;34m(self, http_class, req, **http_conn_args)\u001b[0m\n\u001b[1;32m   1349\u001b[0m                           encode_chunked=req.has_header('Transfer-encoding'))\n\u001b[1;32m   1350\u001b[0m             \u001b[0;32mexcept\u001b[0m \u001b[0mOSError\u001b[0m \u001b[0;32mas\u001b[0m \u001b[0merr\u001b[0m\u001b[0;34m:\u001b[0m \u001b[0;31m# timeout error\u001b[0m\u001b[0;34m\u001b[0m\u001b[0;34m\u001b[0m\u001b[0m\n\u001b[0;32m-> 1351\u001b[0;31m                 \u001b[0;32mraise\u001b[0m \u001b[0mURLError\u001b[0m\u001b[0;34m(\u001b[0m\u001b[0merr\u001b[0m\u001b[0;34m)\u001b[0m\u001b[0;34m\u001b[0m\u001b[0;34m\u001b[0m\u001b[0m\n\u001b[0m\u001b[1;32m   1352\u001b[0m             \u001b[0mr\u001b[0m \u001b[0;34m=\u001b[0m \u001b[0mh\u001b[0m\u001b[0;34m.\u001b[0m\u001b[0mgetresponse\u001b[0m\u001b[0;34m(\u001b[0m\u001b[0;34m)\u001b[0m\u001b[0;34m\u001b[0m\u001b[0;34m\u001b[0m\u001b[0m\n\u001b[1;32m   1353\u001b[0m         \u001b[0;32mexcept\u001b[0m\u001b[0;34m:\u001b[0m\u001b[0;34m\u001b[0m\u001b[0;34m\u001b[0m\u001b[0m\n",
            "\u001b[0;31mURLError\u001b[0m: <urlopen error [Errno -2] Name or service not known>"
          ]
        }
      ]
    },
    {
      "cell_type": "code",
      "source": [
        "#converting the list to dataframe\n",
        "feature_names = ['Domain', 'Have_IP', 'Have_At', 'URL_Length', 'URL_Depth','Redirection',\n",
        "                      'https_Domain', 'TinyURL', 'Prefix/Suffix', 'DNS_Record', 'Web_Traffic',\n",
        "                      'Domain_Age', 'Domain_End', 'iFrame', 'Mouse_Over','Right_Click', 'Web_Forwards', 'Label']\n",
        "\n",
        "phishing = pd.DataFrame(phish_features, columns= feature_names)\n",
        "phishing.head()"
      ],
      "metadata": {
        "id": "YNcqubLmTcCw"
      },
      "execution_count": null,
      "outputs": []
    },
    {
      "cell_type": "code",
      "source": [
        "# Storing the extracted legitimate URLs fatures to csv file\n",
        "phishing.to_csv('phishing.csv', index= False)"
      ],
      "metadata": {
        "id": "bTdjWM9zZ1AT"
      },
      "execution_count": null,
      "outputs": []
    },
    {
      "cell_type": "markdown",
      "source": [
        "## Final Dataset\n",
        "\n",
        "In the above section we formed two dataframes of legitimate & phishing URL features. Now, we will combine them to a single dataframe and export the data to csv file for the Machine Learning training done in other notebook."
      ],
      "metadata": {
        "id": "7THtnqcwZ9DD"
      }
    },
    {
      "cell_type": "code",
      "source": [
        "#Concatenating the dataframes into one\n",
        "urldata = pd.concat([legitimate, phishing]).reset_index(drop=True)\n",
        "urldata.head()"
      ],
      "metadata": {
        "id": "XeYpRezTZ4qN"
      },
      "execution_count": null,
      "outputs": []
    },
    {
      "cell_type": "code",
      "source": [
        "urldata.tail()"
      ],
      "metadata": {
        "id": "dknYk-GpaE-b"
      },
      "execution_count": null,
      "outputs": []
    },
    {
      "cell_type": "code",
      "source": [
        "urldata.shape"
      ],
      "metadata": {
        "id": "JxYUiXktaG9q"
      },
      "execution_count": null,
      "outputs": []
    },
    {
      "cell_type": "code",
      "source": [
        "# Storing the data in CSV file\n",
        "urldata.to_csv('urldata.csv', index=False)"
      ],
      "metadata": {
        "id": "8bnrMeu2aJ7_"
      },
      "execution_count": null,
      "outputs": []
    }
  ]
}