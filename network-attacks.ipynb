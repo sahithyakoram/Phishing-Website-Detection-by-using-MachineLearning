{
 "cells": [
  {
   "cell_type": "code",
   "execution_count": 1,
   "id": "e9522343",
   "metadata": {
    "_cell_guid": "b1076dfc-b9ad-4769-8c92-a6c4dae69d19",
    "_uuid": "8f2839f25d086af736a60e9eeb907d3b93b6e0e5",
    "execution": {
     "iopub.execute_input": "2024-07-06T21:14:42.343669Z",
     "iopub.status.busy": "2024-07-06T21:14:42.343274Z",
     "iopub.status.idle": "2024-07-06T21:14:45.018030Z",
     "shell.execute_reply": "2024-07-06T21:14:45.016951Z"
    },
    "papermill": {
     "duration": 2.686746,
     "end_time": "2024-07-06T21:14:45.021243",
     "exception": false,
     "start_time": "2024-07-06T21:14:42.334497",
     "status": "completed"
    },
    "tags": []
   },
   "outputs": [],
   "source": [
    "import pandas as pd\n",
    "from sklearn.model_selection import train_test_split\n",
    "from sklearn.preprocessing import StandardScaler, OneHotEncoder\n",
    "from sklearn.compose import ColumnTransformer\n",
    "from sklearn.pipeline import Pipeline\n",
    "from sklearn.ensemble import RandomForestClassifier\n",
    "from sklearn.metrics import f1_score, accuracy_score, precision_score, recall_score, confusion_matrix, classification_report\n",
    "from sklearn.impute import SimpleImputer"
   ]
  },
  {
   "cell_type": "code",
   "execution_count": 2,
   "id": "21901d04",
   "metadata": {
    "execution": {
     "iopub.execute_input": "2024-07-06T21:14:45.040225Z",
     "iopub.status.busy": "2024-07-06T21:14:45.039067Z",
     "iopub.status.idle": "2024-07-06T21:14:45.749784Z",
     "shell.execute_reply": "2024-07-06T21:14:45.748697Z"
    },
    "papermill": {
     "duration": 0.721928,
     "end_time": "2024-07-06T21:14:45.752445",
     "exception": false,
     "start_time": "2024-07-06T21:14:45.030517",
     "status": "completed"
    },
    "tags": []
   },
   "outputs": [],
   "source": [
    "train_data = pd.read_csv('/kaggle/input/network-attacks-dataset/Train_Data.csv')\n",
    "test_data = pd.read_csv('/kaggle/input/network-attacks-dataset/Test_Data.csv')\n",
    "sample_submission = pd.read_csv('/kaggle/input/sample-submission/Sample_Submission.csv')"
   ]
  },
  {
   "cell_type": "code",
   "execution_count": 3,
   "id": "f69add58",
   "metadata": {
    "execution": {
     "iopub.execute_input": "2024-07-06T21:14:45.766706Z",
     "iopub.status.busy": "2024-07-06T21:14:45.765897Z",
     "iopub.status.idle": "2024-07-06T21:14:45.829294Z",
     "shell.execute_reply": "2024-07-06T21:14:45.828171Z"
    },
    "papermill": {
     "duration": 0.073841,
     "end_time": "2024-07-06T21:14:45.832480",
     "exception": false,
     "start_time": "2024-07-06T21:14:45.758639",
     "status": "completed"
    },
    "tags": []
   },
   "outputs": [],
   "source": [
    "X_train = train_data.drop('attack', axis=1)\n",
    "y_train = train_data['attack'].apply(lambda x: 1 if x == 'neptune' else 0)"
   ]
  },
  {
   "cell_type": "code",
   "execution_count": 4,
   "id": "cceca355",
   "metadata": {
    "execution": {
     "iopub.execute_input": "2024-07-06T21:14:45.852938Z",
     "iopub.status.busy": "2024-07-06T21:14:45.851954Z",
     "iopub.status.idle": "2024-07-06T21:14:45.859359Z",
     "shell.execute_reply": "2024-07-06T21:14:45.858406Z"
    },
    "papermill": {
     "duration": 0.020334,
     "end_time": "2024-07-06T21:14:45.862074",
     "exception": false,
     "start_time": "2024-07-06T21:14:45.841740",
     "status": "completed"
    },
    "tags": []
   },
   "outputs": [
    {
     "data": {
      "text/plain": [
       "(86845, 42)"
      ]
     },
     "execution_count": 4,
     "metadata": {},
     "output_type": "execute_result"
    }
   ],
   "source": [
    "X_train.shape"
   ]
  },
  {
   "cell_type": "code",
   "execution_count": 5,
   "id": "65b8a892",
   "metadata": {
    "execution": {
     "iopub.execute_input": "2024-07-06T21:14:45.882808Z",
     "iopub.status.busy": "2024-07-06T21:14:45.881889Z",
     "iopub.status.idle": "2024-07-06T21:14:45.888582Z",
     "shell.execute_reply": "2024-07-06T21:14:45.887591Z"
    },
    "papermill": {
     "duration": 0.019779,
     "end_time": "2024-07-06T21:14:45.891271",
     "exception": false,
     "start_time": "2024-07-06T21:14:45.871492",
     "status": "completed"
    },
    "tags": []
   },
   "outputs": [
    {
     "data": {
      "text/plain": [
       "(86845,)"
      ]
     },
     "execution_count": 5,
     "metadata": {},
     "output_type": "execute_result"
    }
   ],
   "source": [
    "y_train.shape"
   ]
  },
  {
   "cell_type": "code",
   "execution_count": 6,
   "id": "b5e9e5b4",
   "metadata": {
    "execution": {
     "iopub.execute_input": "2024-07-06T21:14:45.910149Z",
     "iopub.status.busy": "2024-07-06T21:14:45.909742Z",
     "iopub.status.idle": "2024-07-06T21:14:45.929550Z",
     "shell.execute_reply": "2024-07-06T21:14:45.928362Z"
    },
    "papermill": {
     "duration": 0.031821,
     "end_time": "2024-07-06T21:14:45.932594",
     "exception": false,
     "start_time": "2024-07-06T21:14:45.900773",
     "status": "completed"
    },
    "tags": []
   },
   "outputs": [],
   "source": [
    "categorical_cols = X_train.select_dtypes(include=['object']).columns.tolist()\n",
    "numerical_cols = X_train.select_dtypes(include=['int64', 'float64']).columns.tolist()"
   ]
  },
  {
   "cell_type": "code",
   "execution_count": 7,
   "id": "4cbac5b6",
   "metadata": {
    "execution": {
     "iopub.execute_input": "2024-07-06T21:14:45.954500Z",
     "iopub.status.busy": "2024-07-06T21:14:45.953332Z",
     "iopub.status.idle": "2024-07-06T21:14:45.959111Z",
     "shell.execute_reply": "2024-07-06T21:14:45.958052Z"
    },
    "papermill": {
     "duration": 0.019773,
     "end_time": "2024-07-06T21:14:45.962042",
     "exception": false,
     "start_time": "2024-07-06T21:14:45.942269",
     "status": "completed"
    },
    "tags": []
   },
   "outputs": [],
   "source": [
    "numeric_transformer = Pipeline(steps=[\n",
    "    ('imputer', SimpleImputer(strategy='median')),\n",
    "    ('scaler', StandardScaler())])"
   ]
  },
  {
   "cell_type": "code",
   "execution_count": 8,
   "id": "2b8d975a",
   "metadata": {
    "execution": {
     "iopub.execute_input": "2024-07-06T21:14:45.981610Z",
     "iopub.status.busy": "2024-07-06T21:14:45.980584Z",
     "iopub.status.idle": "2024-07-06T21:14:45.986165Z",
     "shell.execute_reply": "2024-07-06T21:14:45.984962Z"
    },
    "papermill": {
     "duration": 0.016696,
     "end_time": "2024-07-06T21:14:45.988364",
     "exception": false,
     "start_time": "2024-07-06T21:14:45.971668",
     "status": "completed"
    },
    "tags": []
   },
   "outputs": [],
   "source": [
    "categorical_transformer = Pipeline(steps=[\n",
    "    ('imputer', SimpleImputer(strategy='most_frequent')),\n",
    "    ('onehot', OneHotEncoder(handle_unknown='ignore'))])"
   ]
  },
  {
   "cell_type": "code",
   "execution_count": 9,
   "id": "ac137c78",
   "metadata": {
    "execution": {
     "iopub.execute_input": "2024-07-06T21:14:46.003573Z",
     "iopub.status.busy": "2024-07-06T21:14:46.002543Z",
     "iopub.status.idle": "2024-07-06T21:14:46.009226Z",
     "shell.execute_reply": "2024-07-06T21:14:46.008058Z"
    },
    "papermill": {
     "duration": 0.01709,
     "end_time": "2024-07-06T21:14:46.011745",
     "exception": false,
     "start_time": "2024-07-06T21:14:45.994655",
     "status": "completed"
    },
    "tags": []
   },
   "outputs": [],
   "source": [
    "preprocessor = ColumnTransformer(\n",
    "    transformers=[\n",
    "        ('num', numeric_transformer, numerical_cols),\n",
    "        ('cat', categorical_transformer, categorical_cols)])\n"
   ]
  },
  {
   "cell_type": "code",
   "execution_count": 10,
   "id": "e9262d5f",
   "metadata": {
    "execution": {
     "iopub.execute_input": "2024-07-06T21:14:46.032167Z",
     "iopub.status.busy": "2024-07-06T21:14:46.031478Z",
     "iopub.status.idle": "2024-07-06T21:14:46.036791Z",
     "shell.execute_reply": "2024-07-06T21:14:46.035735Z"
    },
    "papermill": {
     "duration": 0.018279,
     "end_time": "2024-07-06T21:14:46.039688",
     "exception": false,
     "start_time": "2024-07-06T21:14:46.021409",
     "status": "completed"
    },
    "tags": []
   },
   "outputs": [],
   "source": [
    "model = Pipeline(steps=[\n",
    "    ('preprocessor', preprocessor),\n",
    "    ('classifier', RandomForestClassifier(random_state=42))])"
   ]
  },
  {
   "cell_type": "code",
   "execution_count": 11,
   "id": "14787338",
   "metadata": {
    "execution": {
     "iopub.execute_input": "2024-07-06T21:14:46.059442Z",
     "iopub.status.busy": "2024-07-06T21:14:46.059081Z",
     "iopub.status.idle": "2024-07-06T21:14:46.105528Z",
     "shell.execute_reply": "2024-07-06T21:14:46.104507Z"
    },
    "papermill": {
     "duration": 0.059298,
     "end_time": "2024-07-06T21:14:46.108549",
     "exception": false,
     "start_time": "2024-07-06T21:14:46.049251",
     "status": "completed"
    },
    "tags": []
   },
   "outputs": [],
   "source": [
    "X_train_split, X_val_split, y_train_split, y_val_split = train_test_split(X_train, y_train, test_size=0.2, random_state=42)"
   ]
  },
  {
   "cell_type": "code",
   "execution_count": 12,
   "id": "36ca103d",
   "metadata": {
    "execution": {
     "iopub.execute_input": "2024-07-06T21:14:46.127210Z",
     "iopub.status.busy": "2024-07-06T21:14:46.126194Z",
     "iopub.status.idle": "2024-07-06T21:14:51.896216Z",
     "shell.execute_reply": "2024-07-06T21:14:51.895167Z"
    },
    "papermill": {
     "duration": 5.780289,
     "end_time": "2024-07-06T21:14:51.898444",
     "exception": false,
     "start_time": "2024-07-06T21:14:46.118155",
     "status": "completed"
    },
    "tags": []
   },
   "outputs": [
    {
     "data": {
      "text/html": [
       "<style>#sk-container-id-1 {color: black;background-color: white;}#sk-container-id-1 pre{padding: 0;}#sk-container-id-1 div.sk-toggleable {background-color: white;}#sk-container-id-1 label.sk-toggleable__label {cursor: pointer;display: block;width: 100%;margin-bottom: 0;padding: 0.3em;box-sizing: border-box;text-align: center;}#sk-container-id-1 label.sk-toggleable__label-arrow:before {content: \"▸\";float: left;margin-right: 0.25em;color: #696969;}#sk-container-id-1 label.sk-toggleable__label-arrow:hover:before {color: black;}#sk-container-id-1 div.sk-estimator:hover label.sk-toggleable__label-arrow:before {color: black;}#sk-container-id-1 div.sk-toggleable__content {max-height: 0;max-width: 0;overflow: hidden;text-align: left;background-color: #f0f8ff;}#sk-container-id-1 div.sk-toggleable__content pre {margin: 0.2em;color: black;border-radius: 0.25em;background-color: #f0f8ff;}#sk-container-id-1 input.sk-toggleable__control:checked~div.sk-toggleable__content {max-height: 200px;max-width: 100%;overflow: auto;}#sk-container-id-1 input.sk-toggleable__control:checked~label.sk-toggleable__label-arrow:before {content: \"▾\";}#sk-container-id-1 div.sk-estimator input.sk-toggleable__control:checked~label.sk-toggleable__label {background-color: #d4ebff;}#sk-container-id-1 div.sk-label input.sk-toggleable__control:checked~label.sk-toggleable__label {background-color: #d4ebff;}#sk-container-id-1 input.sk-hidden--visually {border: 0;clip: rect(1px 1px 1px 1px);clip: rect(1px, 1px, 1px, 1px);height: 1px;margin: -1px;overflow: hidden;padding: 0;position: absolute;width: 1px;}#sk-container-id-1 div.sk-estimator {font-family: monospace;background-color: #f0f8ff;border: 1px dotted black;border-radius: 0.25em;box-sizing: border-box;margin-bottom: 0.5em;}#sk-container-id-1 div.sk-estimator:hover {background-color: #d4ebff;}#sk-container-id-1 div.sk-parallel-item::after {content: \"\";width: 100%;border-bottom: 1px solid gray;flex-grow: 1;}#sk-container-id-1 div.sk-label:hover label.sk-toggleable__label {background-color: #d4ebff;}#sk-container-id-1 div.sk-serial::before {content: \"\";position: absolute;border-left: 1px solid gray;box-sizing: border-box;top: 0;bottom: 0;left: 50%;z-index: 0;}#sk-container-id-1 div.sk-serial {display: flex;flex-direction: column;align-items: center;background-color: white;padding-right: 0.2em;padding-left: 0.2em;position: relative;}#sk-container-id-1 div.sk-item {position: relative;z-index: 1;}#sk-container-id-1 div.sk-parallel {display: flex;align-items: stretch;justify-content: center;background-color: white;position: relative;}#sk-container-id-1 div.sk-item::before, #sk-container-id-1 div.sk-parallel-item::before {content: \"\";position: absolute;border-left: 1px solid gray;box-sizing: border-box;top: 0;bottom: 0;left: 50%;z-index: -1;}#sk-container-id-1 div.sk-parallel-item {display: flex;flex-direction: column;z-index: 1;position: relative;background-color: white;}#sk-container-id-1 div.sk-parallel-item:first-child::after {align-self: flex-end;width: 50%;}#sk-container-id-1 div.sk-parallel-item:last-child::after {align-self: flex-start;width: 50%;}#sk-container-id-1 div.sk-parallel-item:only-child::after {width: 0;}#sk-container-id-1 div.sk-dashed-wrapped {border: 1px dashed gray;margin: 0 0.4em 0.5em 0.4em;box-sizing: border-box;padding-bottom: 0.4em;background-color: white;}#sk-container-id-1 div.sk-label label {font-family: monospace;font-weight: bold;display: inline-block;line-height: 1.2em;}#sk-container-id-1 div.sk-label-container {text-align: center;}#sk-container-id-1 div.sk-container {/* jupyter's `normalize.less` sets `[hidden] { display: none; }` but bootstrap.min.css set `[hidden] { display: none !important; }` so we also need the `!important` here to be able to override the default hidden behavior on the sphinx rendered scikit-learn.org. See: https://github.com/scikit-learn/scikit-learn/issues/21755 */display: inline-block !important;position: relative;}#sk-container-id-1 div.sk-text-repr-fallback {display: none;}</style><div id=\"sk-container-id-1\" class=\"sk-top-container\"><div class=\"sk-text-repr-fallback\"><pre>Pipeline(steps=[(&#x27;preprocessor&#x27;,\n",
       "                 ColumnTransformer(transformers=[(&#x27;num&#x27;,\n",
       "                                                  Pipeline(steps=[(&#x27;imputer&#x27;,\n",
       "                                                                   SimpleImputer(strategy=&#x27;median&#x27;)),\n",
       "                                                                  (&#x27;scaler&#x27;,\n",
       "                                                                   StandardScaler())]),\n",
       "                                                  [&#x27;duration&#x27;, &#x27;srcbytes&#x27;,\n",
       "                                                   &#x27;dstbytes&#x27;, &#x27;land&#x27;,\n",
       "                                                   &#x27;wrongfragment&#x27;, &#x27;urgent&#x27;,\n",
       "                                                   &#x27;hot&#x27;, &#x27;numfailedlogins&#x27;,\n",
       "                                                   &#x27;loggedin&#x27;, &#x27;numcompromised&#x27;,\n",
       "                                                   &#x27;rootshell&#x27;, &#x27;suattempted&#x27;,\n",
       "                                                   &#x27;numroot&#x27;,\n",
       "                                                   &#x27;numfilecreations&#x27;,\n",
       "                                                   &#x27;numshells&#x27;,\n",
       "                                                   &#x27;nu...\n",
       "                                                   &#x27;srvserrorrate&#x27;,\n",
       "                                                   &#x27;rerrorrate&#x27;,\n",
       "                                                   &#x27;srvrerrorrate&#x27;,\n",
       "                                                   &#x27;samesrvrate&#x27;, &#x27;diffsrvrate&#x27;,\n",
       "                                                   &#x27;srvdiffhostrate&#x27;,\n",
       "                                                   &#x27;dsthostcount&#x27;,\n",
       "                                                   &#x27;dsthostsrvcount&#x27;, ...]),\n",
       "                                                 (&#x27;cat&#x27;,\n",
       "                                                  Pipeline(steps=[(&#x27;imputer&#x27;,\n",
       "                                                                   SimpleImputer(strategy=&#x27;most_frequent&#x27;)),\n",
       "                                                                  (&#x27;onehot&#x27;,\n",
       "                                                                   OneHotEncoder(handle_unknown=&#x27;ignore&#x27;))]),\n",
       "                                                  [&#x27;protocoltype&#x27;, &#x27;service&#x27;,\n",
       "                                                   &#x27;flag&#x27;])])),\n",
       "                (&#x27;classifier&#x27;, RandomForestClassifier(random_state=42))])</pre><b>In a Jupyter environment, please rerun this cell to show the HTML representation or trust the notebook. <br />On GitHub, the HTML representation is unable to render, please try loading this page with nbviewer.org.</b></div><div class=\"sk-container\" hidden><div class=\"sk-item sk-dashed-wrapped\"><div class=\"sk-label-container\"><div class=\"sk-label sk-toggleable\"><input class=\"sk-toggleable__control sk-hidden--visually\" id=\"sk-estimator-id-1\" type=\"checkbox\" ><label for=\"sk-estimator-id-1\" class=\"sk-toggleable__label sk-toggleable__label-arrow\">Pipeline</label><div class=\"sk-toggleable__content\"><pre>Pipeline(steps=[(&#x27;preprocessor&#x27;,\n",
       "                 ColumnTransformer(transformers=[(&#x27;num&#x27;,\n",
       "                                                  Pipeline(steps=[(&#x27;imputer&#x27;,\n",
       "                                                                   SimpleImputer(strategy=&#x27;median&#x27;)),\n",
       "                                                                  (&#x27;scaler&#x27;,\n",
       "                                                                   StandardScaler())]),\n",
       "                                                  [&#x27;duration&#x27;, &#x27;srcbytes&#x27;,\n",
       "                                                   &#x27;dstbytes&#x27;, &#x27;land&#x27;,\n",
       "                                                   &#x27;wrongfragment&#x27;, &#x27;urgent&#x27;,\n",
       "                                                   &#x27;hot&#x27;, &#x27;numfailedlogins&#x27;,\n",
       "                                                   &#x27;loggedin&#x27;, &#x27;numcompromised&#x27;,\n",
       "                                                   &#x27;rootshell&#x27;, &#x27;suattempted&#x27;,\n",
       "                                                   &#x27;numroot&#x27;,\n",
       "                                                   &#x27;numfilecreations&#x27;,\n",
       "                                                   &#x27;numshells&#x27;,\n",
       "                                                   &#x27;nu...\n",
       "                                                   &#x27;srvserrorrate&#x27;,\n",
       "                                                   &#x27;rerrorrate&#x27;,\n",
       "                                                   &#x27;srvrerrorrate&#x27;,\n",
       "                                                   &#x27;samesrvrate&#x27;, &#x27;diffsrvrate&#x27;,\n",
       "                                                   &#x27;srvdiffhostrate&#x27;,\n",
       "                                                   &#x27;dsthostcount&#x27;,\n",
       "                                                   &#x27;dsthostsrvcount&#x27;, ...]),\n",
       "                                                 (&#x27;cat&#x27;,\n",
       "                                                  Pipeline(steps=[(&#x27;imputer&#x27;,\n",
       "                                                                   SimpleImputer(strategy=&#x27;most_frequent&#x27;)),\n",
       "                                                                  (&#x27;onehot&#x27;,\n",
       "                                                                   OneHotEncoder(handle_unknown=&#x27;ignore&#x27;))]),\n",
       "                                                  [&#x27;protocoltype&#x27;, &#x27;service&#x27;,\n",
       "                                                   &#x27;flag&#x27;])])),\n",
       "                (&#x27;classifier&#x27;, RandomForestClassifier(random_state=42))])</pre></div></div></div><div class=\"sk-serial\"><div class=\"sk-item sk-dashed-wrapped\"><div class=\"sk-label-container\"><div class=\"sk-label sk-toggleable\"><input class=\"sk-toggleable__control sk-hidden--visually\" id=\"sk-estimator-id-2\" type=\"checkbox\" ><label for=\"sk-estimator-id-2\" class=\"sk-toggleable__label sk-toggleable__label-arrow\">preprocessor: ColumnTransformer</label><div class=\"sk-toggleable__content\"><pre>ColumnTransformer(transformers=[(&#x27;num&#x27;,\n",
       "                                 Pipeline(steps=[(&#x27;imputer&#x27;,\n",
       "                                                  SimpleImputer(strategy=&#x27;median&#x27;)),\n",
       "                                                 (&#x27;scaler&#x27;, StandardScaler())]),\n",
       "                                 [&#x27;duration&#x27;, &#x27;srcbytes&#x27;, &#x27;dstbytes&#x27;, &#x27;land&#x27;,\n",
       "                                  &#x27;wrongfragment&#x27;, &#x27;urgent&#x27;, &#x27;hot&#x27;,\n",
       "                                  &#x27;numfailedlogins&#x27;, &#x27;loggedin&#x27;,\n",
       "                                  &#x27;numcompromised&#x27;, &#x27;rootshell&#x27;, &#x27;suattempted&#x27;,\n",
       "                                  &#x27;numroot&#x27;, &#x27;numfilecreations&#x27;, &#x27;numshells&#x27;,\n",
       "                                  &#x27;numaccessfiles&#x27;, &#x27;numoutboundcmds&#x27;,\n",
       "                                  &#x27;ishostlogin&#x27;, &#x27;isguestlogin&#x27;, &#x27;count&#x27;,\n",
       "                                  &#x27;srvcount&#x27;, &#x27;serrorrate&#x27;, &#x27;srvserrorrate&#x27;,\n",
       "                                  &#x27;rerrorrate&#x27;, &#x27;srvrerrorrate&#x27;, &#x27;samesrvrate&#x27;,\n",
       "                                  &#x27;diffsrvrate&#x27;, &#x27;srvdiffhostrate&#x27;,\n",
       "                                  &#x27;dsthostcount&#x27;, &#x27;dsthostsrvcount&#x27;, ...]),\n",
       "                                (&#x27;cat&#x27;,\n",
       "                                 Pipeline(steps=[(&#x27;imputer&#x27;,\n",
       "                                                  SimpleImputer(strategy=&#x27;most_frequent&#x27;)),\n",
       "                                                 (&#x27;onehot&#x27;,\n",
       "                                                  OneHotEncoder(handle_unknown=&#x27;ignore&#x27;))]),\n",
       "                                 [&#x27;protocoltype&#x27;, &#x27;service&#x27;, &#x27;flag&#x27;])])</pre></div></div></div><div class=\"sk-parallel\"><div class=\"sk-parallel-item\"><div class=\"sk-item\"><div class=\"sk-label-container\"><div class=\"sk-label sk-toggleable\"><input class=\"sk-toggleable__control sk-hidden--visually\" id=\"sk-estimator-id-3\" type=\"checkbox\" ><label for=\"sk-estimator-id-3\" class=\"sk-toggleable__label sk-toggleable__label-arrow\">num</label><div class=\"sk-toggleable__content\"><pre>[&#x27;duration&#x27;, &#x27;srcbytes&#x27;, &#x27;dstbytes&#x27;, &#x27;land&#x27;, &#x27;wrongfragment&#x27;, &#x27;urgent&#x27;, &#x27;hot&#x27;, &#x27;numfailedlogins&#x27;, &#x27;loggedin&#x27;, &#x27;numcompromised&#x27;, &#x27;rootshell&#x27;, &#x27;suattempted&#x27;, &#x27;numroot&#x27;, &#x27;numfilecreations&#x27;, &#x27;numshells&#x27;, &#x27;numaccessfiles&#x27;, &#x27;numoutboundcmds&#x27;, &#x27;ishostlogin&#x27;, &#x27;isguestlogin&#x27;, &#x27;count&#x27;, &#x27;srvcount&#x27;, &#x27;serrorrate&#x27;, &#x27;srvserrorrate&#x27;, &#x27;rerrorrate&#x27;, &#x27;srvrerrorrate&#x27;, &#x27;samesrvrate&#x27;, &#x27;diffsrvrate&#x27;, &#x27;srvdiffhostrate&#x27;, &#x27;dsthostcount&#x27;, &#x27;dsthostsrvcount&#x27;, &#x27;dsthostsamesrvrate&#x27;, &#x27;dsthostdiffsrvrate&#x27;, &#x27;dsthostsamesrcportrate&#x27;, &#x27;dsthostsrvdiffhostrate&#x27;, &#x27;dsthostserrorrate&#x27;, &#x27;dsthostsrvserrorrate&#x27;, &#x27;dsthostrerrorrate&#x27;, &#x27;dsthostsrvrerrorrate&#x27;, &#x27;lastflag&#x27;]</pre></div></div></div><div class=\"sk-serial\"><div class=\"sk-item\"><div class=\"sk-serial\"><div class=\"sk-item\"><div class=\"sk-estimator sk-toggleable\"><input class=\"sk-toggleable__control sk-hidden--visually\" id=\"sk-estimator-id-4\" type=\"checkbox\" ><label for=\"sk-estimator-id-4\" class=\"sk-toggleable__label sk-toggleable__label-arrow\">SimpleImputer</label><div class=\"sk-toggleable__content\"><pre>SimpleImputer(strategy=&#x27;median&#x27;)</pre></div></div></div><div class=\"sk-item\"><div class=\"sk-estimator sk-toggleable\"><input class=\"sk-toggleable__control sk-hidden--visually\" id=\"sk-estimator-id-5\" type=\"checkbox\" ><label for=\"sk-estimator-id-5\" class=\"sk-toggleable__label sk-toggleable__label-arrow\">StandardScaler</label><div class=\"sk-toggleable__content\"><pre>StandardScaler()</pre></div></div></div></div></div></div></div></div><div class=\"sk-parallel-item\"><div class=\"sk-item\"><div class=\"sk-label-container\"><div class=\"sk-label sk-toggleable\"><input class=\"sk-toggleable__control sk-hidden--visually\" id=\"sk-estimator-id-6\" type=\"checkbox\" ><label for=\"sk-estimator-id-6\" class=\"sk-toggleable__label sk-toggleable__label-arrow\">cat</label><div class=\"sk-toggleable__content\"><pre>[&#x27;protocoltype&#x27;, &#x27;service&#x27;, &#x27;flag&#x27;]</pre></div></div></div><div class=\"sk-serial\"><div class=\"sk-item\"><div class=\"sk-serial\"><div class=\"sk-item\"><div class=\"sk-estimator sk-toggleable\"><input class=\"sk-toggleable__control sk-hidden--visually\" id=\"sk-estimator-id-7\" type=\"checkbox\" ><label for=\"sk-estimator-id-7\" class=\"sk-toggleable__label sk-toggleable__label-arrow\">SimpleImputer</label><div class=\"sk-toggleable__content\"><pre>SimpleImputer(strategy=&#x27;most_frequent&#x27;)</pre></div></div></div><div class=\"sk-item\"><div class=\"sk-estimator sk-toggleable\"><input class=\"sk-toggleable__control sk-hidden--visually\" id=\"sk-estimator-id-8\" type=\"checkbox\" ><label for=\"sk-estimator-id-8\" class=\"sk-toggleable__label sk-toggleable__label-arrow\">OneHotEncoder</label><div class=\"sk-toggleable__content\"><pre>OneHotEncoder(handle_unknown=&#x27;ignore&#x27;)</pre></div></div></div></div></div></div></div></div></div></div><div class=\"sk-item\"><div class=\"sk-estimator sk-toggleable\"><input class=\"sk-toggleable__control sk-hidden--visually\" id=\"sk-estimator-id-9\" type=\"checkbox\" ><label for=\"sk-estimator-id-9\" class=\"sk-toggleable__label sk-toggleable__label-arrow\">RandomForestClassifier</label><div class=\"sk-toggleable__content\"><pre>RandomForestClassifier(random_state=42)</pre></div></div></div></div></div></div></div>"
      ],
      "text/plain": [
       "Pipeline(steps=[('preprocessor',\n",
       "                 ColumnTransformer(transformers=[('num',\n",
       "                                                  Pipeline(steps=[('imputer',\n",
       "                                                                   SimpleImputer(strategy='median')),\n",
       "                                                                  ('scaler',\n",
       "                                                                   StandardScaler())]),\n",
       "                                                  ['duration', 'srcbytes',\n",
       "                                                   'dstbytes', 'land',\n",
       "                                                   'wrongfragment', 'urgent',\n",
       "                                                   'hot', 'numfailedlogins',\n",
       "                                                   'loggedin', 'numcompromised',\n",
       "                                                   'rootshell', 'suattempted',\n",
       "                                                   'numroot',\n",
       "                                                   'numfilecreations',\n",
       "                                                   'numshells',\n",
       "                                                   'nu...\n",
       "                                                   'srvserrorrate',\n",
       "                                                   'rerrorrate',\n",
       "                                                   'srvrerrorrate',\n",
       "                                                   'samesrvrate', 'diffsrvrate',\n",
       "                                                   'srvdiffhostrate',\n",
       "                                                   'dsthostcount',\n",
       "                                                   'dsthostsrvcount', ...]),\n",
       "                                                 ('cat',\n",
       "                                                  Pipeline(steps=[('imputer',\n",
       "                                                                   SimpleImputer(strategy='most_frequent')),\n",
       "                                                                  ('onehot',\n",
       "                                                                   OneHotEncoder(handle_unknown='ignore'))]),\n",
       "                                                  ['protocoltype', 'service',\n",
       "                                                   'flag'])])),\n",
       "                ('classifier', RandomForestClassifier(random_state=42))])"
      ]
     },
     "execution_count": 12,
     "metadata": {},
     "output_type": "execute_result"
    }
   ],
   "source": [
    "model.fit(X_train_split, y_train_split)"
   ]
  },
  {
   "cell_type": "code",
   "execution_count": 13,
   "id": "8fdbd0db",
   "metadata": {
    "execution": {
     "iopub.execute_input": "2024-07-06T21:14:51.914818Z",
     "iopub.status.busy": "2024-07-06T21:14:51.913868Z",
     "iopub.status.idle": "2024-07-06T21:14:52.114838Z",
     "shell.execute_reply": "2024-07-06T21:14:52.113896Z"
    },
    "papermill": {
     "duration": 0.211968,
     "end_time": "2024-07-06T21:14:52.117573",
     "exception": false,
     "start_time": "2024-07-06T21:14:51.905605",
     "status": "completed"
    },
    "tags": []
   },
   "outputs": [],
   "source": [
    "y_val_pred = model.predict(X_val_split)"
   ]
  },
  {
   "cell_type": "code",
   "execution_count": 14,
   "id": "68eb7956",
   "metadata": {
    "execution": {
     "iopub.execute_input": "2024-07-06T21:14:52.133714Z",
     "iopub.status.busy": "2024-07-06T21:14:52.132658Z",
     "iopub.status.idle": "2024-07-06T21:14:52.144157Z",
     "shell.execute_reply": "2024-07-06T21:14:52.142372Z"
    },
    "papermill": {
     "duration": 0.022781,
     "end_time": "2024-07-06T21:14:52.147135",
     "exception": false,
     "start_time": "2024-07-06T21:14:52.124354",
     "status": "completed"
    },
    "tags": []
   },
   "outputs": [
    {
     "name": "stdout",
     "output_type": "stream",
     "text": [
      "Confusion Matrix:\n",
      "[[10762     0]\n",
      " [    0  6607]]\n"
     ]
    }
   ],
   "source": [
    "print(\"Confusion Matrix:\")\n",
    "print(confusion_matrix(y_val_split, y_val_pred))"
   ]
  },
  {
   "cell_type": "code",
   "execution_count": 15,
   "id": "83f75858",
   "metadata": {
    "execution": {
     "iopub.execute_input": "2024-07-06T21:14:52.163230Z",
     "iopub.status.busy": "2024-07-06T21:14:52.162538Z",
     "iopub.status.idle": "2024-07-06T21:14:52.205467Z",
     "shell.execute_reply": "2024-07-06T21:14:52.204346Z"
    },
    "papermill": {
     "duration": 0.054004,
     "end_time": "2024-07-06T21:14:52.208105",
     "exception": false,
     "start_time": "2024-07-06T21:14:52.154101",
     "status": "completed"
    },
    "tags": []
   },
   "outputs": [
    {
     "name": "stdout",
     "output_type": "stream",
     "text": [
      "\n",
      "Classification Report:\n",
      "              precision    recall  f1-score   support\n",
      "\n",
      "           0       1.00      1.00      1.00     10762\n",
      "           1       1.00      1.00      1.00      6607\n",
      "\n",
      "    accuracy                           1.00     17369\n",
      "   macro avg       1.00      1.00      1.00     17369\n",
      "weighted avg       1.00      1.00      1.00     17369\n",
      "\n"
     ]
    }
   ],
   "source": [
    "print(\"\\nClassification Report:\")\n",
    "print(classification_report(y_val_split, y_val_pred))"
   ]
  },
  {
   "cell_type": "code",
   "execution_count": 16,
   "id": "f813b44d",
   "metadata": {
    "execution": {
     "iopub.execute_input": "2024-07-06T21:14:52.224829Z",
     "iopub.status.busy": "2024-07-06T21:14:52.223821Z",
     "iopub.status.idle": "2024-07-06T21:14:52.260166Z",
     "shell.execute_reply": "2024-07-06T21:14:52.259060Z"
    },
    "papermill": {
     "duration": 0.047332,
     "end_time": "2024-07-06T21:14:52.262715",
     "exception": false,
     "start_time": "2024-07-06T21:14:52.215383",
     "status": "completed"
    },
    "tags": []
   },
   "outputs": [
    {
     "name": "stdout",
     "output_type": "stream",
     "text": [
      "Accuracy: 1.0\n",
      "Precision: 1.0\n",
      "Recall: 1.0\n",
      "Validation F1 Score: 1.0\n"
     ]
    }
   ],
   "source": [
    "accuracy = accuracy_score(y_val_split, y_val_pred)\n",
    "precision = precision_score(y_val_split, y_val_pred)\n",
    "recall = recall_score(y_val_split, y_val_pred)\n",
    "f1 = f1_score(y_val_split, y_val_pred)\n",
    "print(f'Accuracy: {accuracy}')\n",
    "print(f'Precision: {precision}')\n",
    "print(f'Recall: {recall}')\n",
    "print(f\"Validation F1 Score: {f1}\")"
   ]
  },
  {
   "cell_type": "code",
   "execution_count": 17,
   "id": "490a7c76",
   "metadata": {
    "execution": {
     "iopub.execute_input": "2024-07-06T21:14:52.278472Z",
     "iopub.status.busy": "2024-07-06T21:14:52.278080Z",
     "iopub.status.idle": "2024-07-06T21:14:53.317375Z",
     "shell.execute_reply": "2024-07-06T21:14:53.316191Z"
    },
    "papermill": {
     "duration": 1.050209,
     "end_time": "2024-07-06T21:14:53.319959",
     "exception": false,
     "start_time": "2024-07-06T21:14:52.269750",
     "status": "completed"
    },
    "tags": []
   },
   "outputs": [],
   "source": [
    "y_train_pred = model.predict(X_train)"
   ]
  },
  {
   "cell_type": "code",
   "execution_count": 18,
   "id": "17b76291",
   "metadata": {
    "execution": {
     "iopub.execute_input": "2024-07-06T21:14:53.336255Z",
     "iopub.status.busy": "2024-07-06T21:14:53.335155Z",
     "iopub.status.idle": "2024-07-06T21:14:53.359173Z",
     "shell.execute_reply": "2024-07-06T21:14:53.357756Z"
    },
    "papermill": {
     "duration": 0.03484,
     "end_time": "2024-07-06T21:14:53.361845",
     "exception": false,
     "start_time": "2024-07-06T21:14:53.327005",
     "status": "completed"
    },
    "tags": []
   },
   "outputs": [
    {
     "name": "stdout",
     "output_type": "stream",
     "text": [
      "Confusion Matrix on Training Data:\n",
      "[[53847     0]\n",
      " [    0 32998]]\n"
     ]
    }
   ],
   "source": [
    "print(\"Confusion Matrix on Training Data:\")\n",
    "print(confusion_matrix(y_train, y_train_pred))"
   ]
  },
  {
   "cell_type": "code",
   "execution_count": 19,
   "id": "8b580de6",
   "metadata": {
    "execution": {
     "iopub.execute_input": "2024-07-06T21:14:53.378294Z",
     "iopub.status.busy": "2024-07-06T21:14:53.377579Z",
     "iopub.status.idle": "2024-07-06T21:14:53.549933Z",
     "shell.execute_reply": "2024-07-06T21:14:53.548795Z"
    },
    "papermill": {
     "duration": 0.18331,
     "end_time": "2024-07-06T21:14:53.552404",
     "exception": false,
     "start_time": "2024-07-06T21:14:53.369094",
     "status": "completed"
    },
    "tags": []
   },
   "outputs": [
    {
     "name": "stdout",
     "output_type": "stream",
     "text": [
      "\n",
      "Classification Report on Training Data:\n",
      "              precision    recall  f1-score   support\n",
      "\n",
      "           0       1.00      1.00      1.00     53847\n",
      "           1       1.00      1.00      1.00     32998\n",
      "\n",
      "    accuracy                           1.00     86845\n",
      "   macro avg       1.00      1.00      1.00     86845\n",
      "weighted avg       1.00      1.00      1.00     86845\n",
      "\n"
     ]
    }
   ],
   "source": [
    "print(\"\\nClassification Report on Training Data:\")\n",
    "print(classification_report(y_train, y_train_pred))"
   ]
  },
  {
   "cell_type": "code",
   "execution_count": 20,
   "id": "e6c5824a",
   "metadata": {
    "execution": {
     "iopub.execute_input": "2024-07-06T21:14:53.568527Z",
     "iopub.status.busy": "2024-07-06T21:14:53.568137Z",
     "iopub.status.idle": "2024-07-06T21:14:53.698780Z",
     "shell.execute_reply": "2024-07-06T21:14:53.697467Z"
    },
    "papermill": {
     "duration": 0.141616,
     "end_time": "2024-07-06T21:14:53.701300",
     "exception": false,
     "start_time": "2024-07-06T21:14:53.559684",
     "status": "completed"
    },
    "tags": []
   },
   "outputs": [
    {
     "name": "stdout",
     "output_type": "stream",
     "text": [
      "Training Accuracy: 1.0\n",
      "Training Precision: 1.0\n",
      "Training Recall: 1.0\n",
      "Training F1 Score: 1.0\n"
     ]
    }
   ],
   "source": [
    "train_accuracy = accuracy_score(y_train, y_train_pred)\n",
    "train_precision = precision_score(y_train, y_train_pred)\n",
    "train_recall = recall_score(y_train, y_train_pred)\n",
    "train_f1 = f1_score(y_train, y_train_pred)\n",
    "print(f'Training Accuracy: {train_accuracy}')\n",
    "print(f'Training Precision: {train_precision}')\n",
    "print(f'Training Recall: {train_recall}')\n",
    "print(f\"Training F1 Score: {train_f1}\")\n"
   ]
  },
  {
   "cell_type": "code",
   "execution_count": 21,
   "id": "c97358fe",
   "metadata": {
    "execution": {
     "iopub.execute_input": "2024-07-06T21:14:53.718345Z",
     "iopub.status.busy": "2024-07-06T21:14:53.717937Z",
     "iopub.status.idle": "2024-07-06T21:14:53.966554Z",
     "shell.execute_reply": "2024-07-06T21:14:53.965247Z"
    },
    "papermill": {
     "duration": 0.260515,
     "end_time": "2024-07-06T21:14:53.969289",
     "exception": false,
     "start_time": "2024-07-06T21:14:53.708774",
     "status": "completed"
    },
    "tags": []
   },
   "outputs": [],
   "source": [
    "test_predictions = model.predict(test_data)"
   ]
  },
  {
   "cell_type": "code",
   "execution_count": 22,
   "id": "35c61efe",
   "metadata": {
    "execution": {
     "iopub.execute_input": "2024-07-06T21:14:53.985431Z",
     "iopub.status.busy": "2024-07-06T21:14:53.985045Z",
     "iopub.status.idle": "2024-07-06T21:14:53.991139Z",
     "shell.execute_reply": "2024-07-06T21:14:53.989902Z"
    },
    "papermill": {
     "duration": 0.016883,
     "end_time": "2024-07-06T21:14:53.993475",
     "exception": false,
     "start_time": "2024-07-06T21:14:53.976592",
     "status": "completed"
    },
    "tags": []
   },
   "outputs": [],
   "source": [
    "output_df = sample_submission.copy()\n",
    "output_df['attack'] = test_predictions"
   ]
  },
  {
   "cell_type": "code",
   "execution_count": 23,
   "id": "36d2afbb",
   "metadata": {
    "execution": {
     "iopub.execute_input": "2024-07-06T21:14:54.010377Z",
     "iopub.status.busy": "2024-07-06T21:14:54.009998Z",
     "iopub.status.idle": "2024-07-06T21:14:54.025173Z",
     "shell.execute_reply": "2024-07-06T21:14:54.023895Z"
    },
    "papermill": {
     "duration": 0.026874,
     "end_time": "2024-07-06T21:14:54.027680",
     "exception": false,
     "start_time": "2024-07-06T21:14:54.000806",
     "status": "completed"
    },
    "tags": []
   },
   "outputs": [
    {
     "data": {
      "text/html": [
       "<div>\n",
       "<style scoped>\n",
       "    .dataframe tbody tr th:only-of-type {\n",
       "        vertical-align: middle;\n",
       "    }\n",
       "\n",
       "    .dataframe tbody tr th {\n",
       "        vertical-align: top;\n",
       "    }\n",
       "\n",
       "    .dataframe thead th {\n",
       "        text-align: right;\n",
       "    }\n",
       "</style>\n",
       "<table border=\"1\" class=\"dataframe\">\n",
       "  <thead>\n",
       "    <tr style=\"text-align: right;\">\n",
       "      <th></th>\n",
       "      <th>attack</th>\n",
       "    </tr>\n",
       "  </thead>\n",
       "  <tbody>\n",
       "    <tr>\n",
       "      <th>0</th>\n",
       "      <td>1</td>\n",
       "    </tr>\n",
       "    <tr>\n",
       "      <th>1</th>\n",
       "      <td>0</td>\n",
       "    </tr>\n",
       "    <tr>\n",
       "      <th>2</th>\n",
       "      <td>1</td>\n",
       "    </tr>\n",
       "    <tr>\n",
       "      <th>3</th>\n",
       "      <td>1</td>\n",
       "    </tr>\n",
       "    <tr>\n",
       "      <th>4</th>\n",
       "      <td>1</td>\n",
       "    </tr>\n",
       "    <tr>\n",
       "      <th>...</th>\n",
       "      <td>...</td>\n",
       "    </tr>\n",
       "    <tr>\n",
       "      <th>21707</th>\n",
       "      <td>0</td>\n",
       "    </tr>\n",
       "    <tr>\n",
       "      <th>21708</th>\n",
       "      <td>0</td>\n",
       "    </tr>\n",
       "    <tr>\n",
       "      <th>21709</th>\n",
       "      <td>1</td>\n",
       "    </tr>\n",
       "    <tr>\n",
       "      <th>21710</th>\n",
       "      <td>0</td>\n",
       "    </tr>\n",
       "    <tr>\n",
       "      <th>21711</th>\n",
       "      <td>1</td>\n",
       "    </tr>\n",
       "  </tbody>\n",
       "</table>\n",
       "<p>21712 rows × 1 columns</p>\n",
       "</div>"
      ],
      "text/plain": [
       "       attack\n",
       "0           1\n",
       "1           0\n",
       "2           1\n",
       "3           1\n",
       "4           1\n",
       "...       ...\n",
       "21707       0\n",
       "21708       0\n",
       "21709       1\n",
       "21710       0\n",
       "21711       1\n",
       "\n",
       "[21712 rows x 1 columns]"
      ]
     },
     "execution_count": 23,
     "metadata": {},
     "output_type": "execute_result"
    }
   ],
   "source": [
    "output_df"
   ]
  },
  {
   "cell_type": "code",
   "execution_count": 24,
   "id": "7adc166a",
   "metadata": {
    "execution": {
     "iopub.execute_input": "2024-07-06T21:14:54.046615Z",
     "iopub.status.busy": "2024-07-06T21:14:54.046233Z",
     "iopub.status.idle": "2024-07-06T21:14:54.065371Z",
     "shell.execute_reply": "2024-07-06T21:14:54.064074Z"
    },
    "papermill": {
     "duration": 0.03275,
     "end_time": "2024-07-06T21:14:54.068301",
     "exception": false,
     "start_time": "2024-07-06T21:14:54.035551",
     "status": "completed"
    },
    "tags": []
   },
   "outputs": [
    {
     "name": "stdout",
     "output_type": "stream",
     "text": [
      "Predictions saved to /kaggle/working/MY_SUBMISSION.csv\n"
     ]
    }
   ],
   "source": [
    "output_path = '/kaggle/working/MY_SUBMISSION.csv'\n",
    "output_df.to_csv(output_path, index=False)\n",
    "print(f\"Predictions saved to {output_path}\")"
   ]
  }
 ],
 "metadata": {
  "kaggle": {
   "accelerator": "none",
   "dataSources": [
    {
     "datasetId": 5338211,
     "sourceId": 8869994,
     "sourceType": "datasetVersion"
    },
    {
     "datasetId": 5338602,
     "sourceId": 8870566,
     "sourceType": "datasetVersion"
    },
    {
     "datasetId": 5338677,
     "sourceId": 8870669,
     "sourceType": "datasetVersion"
    },
    {
     "datasetId": 5338848,
     "sourceId": 8870901,
     "sourceType": "datasetVersion"
    }
   ],
   "dockerImageVersionId": 30732,
   "isGpuEnabled": false,
   "isInternetEnabled": false,
   "language": "python",
   "sourceType": "notebook"
  },
  "kernelspec": {
   "display_name": "Python 3",
   "language": "python",
   "name": "python3"
  },
  "language_info": {
   "codemirror_mode": {
    "name": "ipython",
    "version": 3
   },
   "file_extension": ".py",
   "mimetype": "text/x-python",
   "name": "python",
   "nbconvert_exporter": "python",
   "pygments_lexer": "ipython3",
   "version": "3.10.13"
  },
  "papermill": {
   "default_parameters": {},
   "duration": 15.206036,
   "end_time": "2024-07-06T21:14:54.697537",
   "environment_variables": {},
   "exception": null,
   "input_path": "__notebook__.ipynb",
   "output_path": "__notebook__.ipynb",
   "parameters": {},
   "start_time": "2024-07-06T21:14:39.491501",
   "version": "2.5.0"
  }
 },
 "nbformat": 4,
 "nbformat_minor": 5
}
